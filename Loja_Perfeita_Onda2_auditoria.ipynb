{
  "nbformat": 4,
  "nbformat_minor": 0,
  "metadata": {
    "colab": {
      "name": "Loja_Perfeita_Onda2_auditoria.ipynb",
      "provenance": [],
      "collapsed_sections": [],
      "toc_visible": true
    },
    "kernelspec": {
      "display_name": "Python 3",
      "name": "python3"
    },
    "language_info": {
      "name": "python"
    }
  },
  "cells": [
    {
      "cell_type": "markdown",
      "metadata": {
        "id": "T_-zMC1bfkIz"
      },
      "source": [
        "# Preparando bases"
      ]
    },
    {
      "cell_type": "code",
      "metadata": {
        "id": "Fv4zsoV2LPf8"
      },
      "source": [
        "import pandas as pd\n",
        "import numpy as np"
      ],
      "execution_count": null,
      "outputs": []
    },
    {
      "cell_type": "code",
      "metadata": {
        "colab": {
          "base_uri": "https://localhost:8080/"
        },
        "id": "fwMxvYyzTgJf",
        "outputId": "5c422cd1-5991-4ca2-c4fe-02bb18587721"
      },
      "source": [
        "from google.colab import drive\n",
        "drive.mount('/content/drive')"
      ],
      "execution_count": null,
      "outputs": [
        {
          "output_type": "stream",
          "name": "stdout",
          "text": [
            "Mounted at /content/drive\n"
          ]
        }
      ]
    },
    {
      "cell_type": "code",
      "metadata": {
        "id": "4AAeeb6TTkXE"
      },
      "source": [
        "# Abrindo base Lucas com todos os PDVs\n",
        "ago = pd.read_csv('/content/drive/Shareddrives/MO PROYECTOS CONSULTORIA/GUA UN 167 - 2020.12.PPF.PEP.GUA/2. Ejecucion/4. Piloto/Arquivo Vendas/Analises/bases_campo_2.csv', encoding='cp1252')"
      ],
      "execution_count": null,
      "outputs": []
    },
    {
      "cell_type": "code",
      "metadata": {
        "colab": {
          "base_uri": "https://localhost:8080/",
          "height": 365
        },
        "id": "1BRbhINGUV3Q",
        "outputId": "6afca050-9485-44d8-fb85-3c084f680be9"
      },
      "source": [
        "ago.head()"
      ],
      "execution_count": null,
      "outputs": [
        {
          "output_type": "execute_result",
          "data": {
            "text/html": [
              "<div>\n",
              "<style scoped>\n",
              "    .dataframe tbody tr th:only-of-type {\n",
              "        vertical-align: middle;\n",
              "    }\n",
              "\n",
              "    .dataframe tbody tr th {\n",
              "        vertical-align: top;\n",
              "    }\n",
              "\n",
              "    .dataframe thead th {\n",
              "        text-align: right;\n",
              "    }\n",
              "</style>\n",
              "<table border=\"1\" class=\"dataframe\">\n",
              "  <thead>\n",
              "    <tr style=\"text-align: right;\">\n",
              "      <th></th>\n",
              "      <th>COD_PDV</th>\n",
              "      <th>CANAL</th>\n",
              "      <th>ALAVANCA</th>\n",
              "      <th>Status Auditoria</th>\n",
              "      <th>TTC ok (50%)</th>\n",
              "      <th>Gua &gt; Peps</th>\n",
              "      <th>Vs Concorrencia</th>\n",
              "      <th>Total PDV</th>\n",
              "      <th>Sub_seg</th>\n",
              "      <th>Avg 3 meses</th>\n",
              "      <th>Avg Alavanca</th>\n",
              "      <th>Vendas todos os meses?</th>\n",
              "      <th>Qtd PPs A/M/J</th>\n",
              "      <th>Qtd PPs J/A</th>\n",
              "      <th>Var PPs</th>\n",
              "      <th>Status Alavanca</th>\n",
              "      <th>Promotores</th>\n",
              "      <th>RNs</th>\n",
              "      <th>Portas KO?</th>\n",
              "      <th>Portas Ambev?</th>\n",
              "      <th>Clusters</th>\n",
              "    </tr>\n",
              "  </thead>\n",
              "  <tbody>\n",
              "    <tr>\n",
              "      <th>0</th>\n",
              "      <td>17872</td>\n",
              "      <td>FER OFF</td>\n",
              "      <td>OFF INTERIOR</td>\n",
              "      <td>OK</td>\n",
              "      <td>OK</td>\n",
              "      <td>OK</td>\n",
              "      <td>NOK</td>\n",
              "      <td>NOK</td>\n",
              "      <td>Mercearia</td>\n",
              "      <td>1.576197</td>\n",
              "      <td>1.174495</td>\n",
              "      <td>5</td>\n",
              "      <td>3.0</td>\n",
              "      <td>3.0</td>\n",
              "      <td>0.0</td>\n",
              "      <td>OK</td>\n",
              "      <td>NaN</td>\n",
              "      <td>219</td>\n",
              "      <td>1.0</td>\n",
              "      <td>1.0</td>\n",
              "      <td>A</td>\n",
              "    </tr>\n",
              "    <tr>\n",
              "      <th>1</th>\n",
              "      <td>19932</td>\n",
              "      <td>FER OFF</td>\n",
              "      <td>OFF INTERIOR</td>\n",
              "      <td>OK</td>\n",
              "      <td>NaN</td>\n",
              "      <td>NaN</td>\n",
              "      <td>NaN</td>\n",
              "      <td>NaN</td>\n",
              "      <td>Padaria</td>\n",
              "      <td>4.258665</td>\n",
              "      <td>5.665640</td>\n",
              "      <td>4</td>\n",
              "      <td>4.0</td>\n",
              "      <td>5.0</td>\n",
              "      <td>1.0</td>\n",
              "      <td>NOK</td>\n",
              "      <td>NaN</td>\n",
              "      <td>222</td>\n",
              "      <td>0.0</td>\n",
              "      <td>0.0</td>\n",
              "      <td>C</td>\n",
              "    </tr>\n",
              "    <tr>\n",
              "      <th>2</th>\n",
              "      <td>92989</td>\n",
              "      <td>FER OFF</td>\n",
              "      <td>OFF INTERIOR</td>\n",
              "      <td>OK</td>\n",
              "      <td>OK</td>\n",
              "      <td>NOK</td>\n",
              "      <td>OK</td>\n",
              "      <td>NOK</td>\n",
              "      <td>Padaria</td>\n",
              "      <td>4.155970</td>\n",
              "      <td>3.509985</td>\n",
              "      <td>5</td>\n",
              "      <td>4.0</td>\n",
              "      <td>5.0</td>\n",
              "      <td>1.0</td>\n",
              "      <td>NOK</td>\n",
              "      <td>NaN</td>\n",
              "      <td>222</td>\n",
              "      <td>3.0</td>\n",
              "      <td>0.0</td>\n",
              "      <td>A</td>\n",
              "    </tr>\n",
              "    <tr>\n",
              "      <th>3</th>\n",
              "      <td>28852</td>\n",
              "      <td>FER OFF</td>\n",
              "      <td>OFF INTERIOR</td>\n",
              "      <td>OK</td>\n",
              "      <td>OK</td>\n",
              "      <td>OK</td>\n",
              "      <td>OK</td>\n",
              "      <td>OK</td>\n",
              "      <td>Padaria</td>\n",
              "      <td>3.492757</td>\n",
              "      <td>3.698685</td>\n",
              "      <td>5</td>\n",
              "      <td>4.0</td>\n",
              "      <td>5.0</td>\n",
              "      <td>1.0</td>\n",
              "      <td>NOK</td>\n",
              "      <td>NaN</td>\n",
              "      <td>219</td>\n",
              "      <td>2.0</td>\n",
              "      <td>1.0</td>\n",
              "      <td>A</td>\n",
              "    </tr>\n",
              "    <tr>\n",
              "      <th>4</th>\n",
              "      <td>17599</td>\n",
              "      <td>FER ON</td>\n",
              "      <td>ON EXTERIOR</td>\n",
              "      <td>OK</td>\n",
              "      <td>OK</td>\n",
              "      <td>OK</td>\n",
              "      <td>NOK</td>\n",
              "      <td>NOK</td>\n",
              "      <td>Lanchonete</td>\n",
              "      <td>0.132813</td>\n",
              "      <td>0.197000</td>\n",
              "      <td>5</td>\n",
              "      <td>1.0</td>\n",
              "      <td>3.0</td>\n",
              "      <td>2.0</td>\n",
              "      <td>OK</td>\n",
              "      <td>NaN</td>\n",
              "      <td>219</td>\n",
              "      <td>1.0</td>\n",
              "      <td>2.0</td>\n",
              "      <td>C</td>\n",
              "    </tr>\n",
              "  </tbody>\n",
              "</table>\n",
              "</div>"
            ],
            "text/plain": [
              "   COD_PDV    CANAL      ALAVANCA  ... Portas KO? Portas Ambev? Clusters\n",
              "0    17872  FER OFF  OFF INTERIOR  ...        1.0           1.0        A\n",
              "1    19932  FER OFF  OFF INTERIOR  ...        0.0           0.0        C\n",
              "2    92989  FER OFF  OFF INTERIOR  ...        3.0           0.0        A\n",
              "3    28852  FER OFF  OFF INTERIOR  ...        2.0           1.0        A\n",
              "4    17599   FER ON   ON EXTERIOR  ...        1.0           2.0        C\n",
              "\n",
              "[5 rows x 21 columns]"
            ]
          },
          "metadata": {},
          "execution_count": 5
        }
      ]
    },
    {
      "cell_type": "code",
      "metadata": {
        "colab": {
          "base_uri": "https://localhost:8080/"
        },
        "id": "qWshQOMi5uIU",
        "outputId": "113cb34e-aa84-4c66-80ea-691b45345c97"
      },
      "source": [
        "len(ago)"
      ],
      "execution_count": null,
      "outputs": [
        {
          "output_type": "execute_result",
          "data": {
            "text/plain": [
              "693"
            ]
          },
          "metadata": {},
          "execution_count": 6
        }
      ]
    },
    {
      "cell_type": "code",
      "metadata": {
        "colab": {
          "base_uri": "https://localhost:8080/"
        },
        "id": "iU0Miv5mALLe",
        "outputId": "dfe28138-6a19-4ec0-c9fd-b84be972208d"
      },
      "source": [
        "ago['COD_PDV'].duplicated().sum()"
      ],
      "execution_count": null,
      "outputs": [
        {
          "output_type": "execute_result",
          "data": {
            "text/plain": [
              "0"
            ]
          },
          "metadata": {},
          "execution_count": 7
        }
      ]
    },
    {
      "cell_type": "code",
      "metadata": {
        "colab": {
          "base_uri": "https://localhost:8080/"
        },
        "id": "qiwlv8H8Wy_c",
        "outputId": "24e34bdf-7821-48a3-df41-0f52b47203b8"
      },
      "source": [
        "#verificando duplicadas\n",
        "ago.duplicated().sum()/len(ago)"
      ],
      "execution_count": null,
      "outputs": [
        {
          "output_type": "execute_result",
          "data": {
            "text/plain": [
              "0.0"
            ]
          },
          "metadata": {},
          "execution_count": 8
        }
      ]
    },
    {
      "cell_type": "code",
      "metadata": {
        "id": "0xUiELU0TZmD"
      },
      "source": [
        "ago_ok = ago.loc[(ago['Status Alavanca']=='OK') & (ago['Vendas todos os meses?']==5)]"
      ],
      "execution_count": null,
      "outputs": []
    },
    {
      "cell_type": "code",
      "metadata": {
        "colab": {
          "base_uri": "https://localhost:8080/"
        },
        "id": "aR8dpdS0s5TA",
        "outputId": "7ff4d352-9373-4b80-8aa7-c2791c16a894"
      },
      "source": [
        "len(ago_ok)"
      ],
      "execution_count": null,
      "outputs": [
        {
          "output_type": "execute_result",
          "data": {
            "text/plain": [
              "234"
            ]
          },
          "metadata": {},
          "execution_count": 10
        }
      ]
    },
    {
      "cell_type": "code",
      "metadata": {
        "colab": {
          "base_uri": "https://localhost:8080/"
        },
        "id": "wtyyaVCtUcsV",
        "outputId": "6882f45c-f746-44f9-8351-ba964c8834d9"
      },
      "source": [
        "#Verificando sem tinham linhas com Nan ou sem dados\n",
        "ago_ok.isnull().sum()/len(ago_ok)"
      ],
      "execution_count": null,
      "outputs": [
        {
          "output_type": "execute_result",
          "data": {
            "text/plain": [
              "COD_PDV                   0.000000\n",
              "CANAL                     0.000000\n",
              "ALAVANCA                  0.000000\n",
              "Status Auditoria          0.000000\n",
              "TTC ok (50%)              0.055556\n",
              "Gua > Peps                0.303419\n",
              "Vs Concorrencia           0.252137\n",
              "Total PDV                 0.051282\n",
              "Sub_seg                   0.000000\n",
              "Avg 3 meses               0.000000\n",
              "Avg Alavanca              0.000000\n",
              "Vendas todos os meses?    0.000000\n",
              "Qtd PPs A/M/J             0.000000\n",
              "Qtd PPs J/A               0.000000\n",
              "Var PPs                   0.000000\n",
              "Status Alavanca           0.000000\n",
              "Promotores                0.931624\n",
              "RNs                       0.000000\n",
              "Portas KO?                0.367521\n",
              "Portas Ambev?             0.000000\n",
              "Clusters                  0.000000\n",
              "dtype: float64"
            ]
          },
          "metadata": {},
          "execution_count": 11
        }
      ]
    },
    {
      "cell_type": "code",
      "metadata": {
        "colab": {
          "base_uri": "https://localhost:8080/"
        },
        "id": "mIsSLk_vpM4k",
        "outputId": "9d00728b-0282-465e-e963-e3b184f97f96"
      },
      "source": [
        "ago_ok['Promotores'] = ago_ok['Promotores'].fillna(0) "
      ],
      "execution_count": null,
      "outputs": [
        {
          "output_type": "stream",
          "name": "stderr",
          "text": [
            "/usr/local/lib/python3.7/dist-packages/ipykernel_launcher.py:1: SettingWithCopyWarning: \n",
            "A value is trying to be set on a copy of a slice from a DataFrame.\n",
            "Try using .loc[row_indexer,col_indexer] = value instead\n",
            "\n",
            "See the caveats in the documentation: https://pandas.pydata.org/pandas-docs/stable/user_guide/indexing.html#returning-a-view-versus-a-copy\n",
            "  \"\"\"Entry point for launching an IPython kernel.\n"
          ]
        }
      ]
    },
    {
      "cell_type": "code",
      "metadata": {
        "colab": {
          "base_uri": "https://localhost:8080/"
        },
        "id": "vdYZ2FpAuemc",
        "outputId": "a92d15a0-b0b5-4b5b-df05-8cd466e45433"
      },
      "source": [
        "ago_ok['Portas KO?'] = ago_ok['Portas KO?'].fillna(0)"
      ],
      "execution_count": null,
      "outputs": [
        {
          "output_type": "stream",
          "name": "stderr",
          "text": [
            "/usr/local/lib/python3.7/dist-packages/ipykernel_launcher.py:1: SettingWithCopyWarning: \n",
            "A value is trying to be set on a copy of a slice from a DataFrame.\n",
            "Try using .loc[row_indexer,col_indexer] = value instead\n",
            "\n",
            "See the caveats in the documentation: https://pandas.pydata.org/pandas-docs/stable/user_guide/indexing.html#returning-a-view-versus-a-copy\n",
            "  \"\"\"Entry point for launching an IPython kernel.\n"
          ]
        }
      ]
    },
    {
      "cell_type": "code",
      "metadata": {
        "id": "oLA8dOnGu-jV"
      },
      "source": [
        "ago_ok = ago_ok.drop(['Gua > Peps', 'Vs Concorrencia'], axis=1)"
      ],
      "execution_count": null,
      "outputs": []
    },
    {
      "cell_type": "code",
      "metadata": {
        "id": "ntkUVpJiwwCI"
      },
      "source": [
        "ago_ok_na = ago_ok.dropna()"
      ],
      "execution_count": null,
      "outputs": []
    },
    {
      "cell_type": "code",
      "metadata": {
        "colab": {
          "base_uri": "https://localhost:8080/"
        },
        "id": "WGaT2_MEXbO8",
        "outputId": "0f87332a-3e91-49d3-cbe5-9580dc050535"
      },
      "source": [
        "#Verificando sem tinham linhas com Nan ou sem dados\n",
        "ago_ok_na.isnull().sum()/len(ago_ok_na)"
      ],
      "execution_count": null,
      "outputs": [
        {
          "output_type": "execute_result",
          "data": {
            "text/plain": [
              "COD_PDV                   0.0\n",
              "CANAL                     0.0\n",
              "ALAVANCA                  0.0\n",
              "Status Auditoria          0.0\n",
              "TTC ok (50%)              0.0\n",
              "Total PDV                 0.0\n",
              "Sub_seg                   0.0\n",
              "Avg 3 meses               0.0\n",
              "Avg Alavanca              0.0\n",
              "Vendas todos os meses?    0.0\n",
              "Qtd PPs A/M/J             0.0\n",
              "Qtd PPs J/A               0.0\n",
              "Var PPs                   0.0\n",
              "Status Alavanca           0.0\n",
              "Promotores                0.0\n",
              "RNs                       0.0\n",
              "Portas KO?                0.0\n",
              "Portas Ambev?             0.0\n",
              "Clusters                  0.0\n",
              "dtype: float64"
            ]
          },
          "metadata": {},
          "execution_count": 16
        }
      ]
    },
    {
      "cell_type": "code",
      "metadata": {
        "colab": {
          "base_uri": "https://localhost:8080/"
        },
        "id": "8xXNbGIqxRSm",
        "outputId": "5311c0c3-1d03-4830-abaf-12264dc11f22"
      },
      "source": [
        "len(ago_ok_na)"
      ],
      "execution_count": null,
      "outputs": [
        {
          "output_type": "execute_result",
          "data": {
            "text/plain": [
              "221"
            ]
          },
          "metadata": {},
          "execution_count": 17
        }
      ]
    },
    {
      "cell_type": "code",
      "metadata": {
        "colab": {
          "base_uri": "https://localhost:8080/"
        },
        "id": "WjQEujXbZjCN",
        "outputId": "81ce706f-fc31-46e3-9bee-88923c598a4f"
      },
      "source": [
        "ago_ok_na['CANAL'].unique()"
      ],
      "execution_count": null,
      "outputs": [
        {
          "output_type": "execute_result",
          "data": {
            "text/plain": [
              "array(['FER OFF', 'FER ON', 'ASR 1-4'], dtype=object)"
            ]
          },
          "metadata": {},
          "execution_count": 18
        }
      ]
    },
    {
      "cell_type": "code",
      "metadata": {
        "colab": {
          "base_uri": "https://localhost:8080/"
        },
        "id": "C_jNInDSLjMV",
        "outputId": "c8da97fc-6b17-4645-a2e6-200f6535121f"
      },
      "source": [
        "ago_ok_na['Sub_seg'].unique()"
      ],
      "execution_count": null,
      "outputs": [
        {
          "output_type": "execute_result",
          "data": {
            "text/plain": [
              "array(['Mercearia', 'Lanchonete', 'ASR', 'Restaurante', 'Padaria'],\n",
              "      dtype=object)"
            ]
          },
          "metadata": {},
          "execution_count": 19
        }
      ]
    },
    {
      "cell_type": "code",
      "metadata": {
        "colab": {
          "base_uri": "https://localhost:8080/"
        },
        "id": "aSxDUcx0buW-",
        "outputId": "af5fe86a-1fde-49ed-e2d6-b7ba5c24679c"
      },
      "source": [
        "ago_ok_na['ALAVANCA'].unique()"
      ],
      "execution_count": null,
      "outputs": [
        {
          "output_type": "execute_result",
          "data": {
            "text/plain": [
              "array(['OFF INTERIOR', 'ON EXTERIOR', 'ASR Visa', 'OFF Todas',\n",
              "       'ON INTERIOR', 'ON Visa', 'ASR Racks', 'OFF Visa', 'ASR Todas',\n",
              "       'ASR Nenhuma', 'OFF Nenhuma', 'ON Nenhuma', 'ASR Gôndola',\n",
              "       'ON TODAS', 'OFF TODAS', 'ON Todas'], dtype=object)"
            ]
          },
          "metadata": {},
          "execution_count": 20
        }
      ]
    },
    {
      "cell_type": "code",
      "metadata": {
        "id": "fqKB6WlxYpY-"
      },
      "source": [
        "# Separando as bases por canal\n",
        "ago_asr = ago_ok_na.loc[(ago_ok_na['Sub_seg']=='ASR')]\n",
        "#ago_off = ago_ok_na.loc[(ago_ok_na['CANAL']=='FER OFF')]\n",
        "ago_fer = ago_ok_na.loc[(ago_ok_na['Sub_seg']!='ASR')]"
      ],
      "execution_count": null,
      "outputs": []
    },
    {
      "cell_type": "code",
      "metadata": {
        "colab": {
          "base_uri": "https://localhost:8080/"
        },
        "id": "IehG9eFBaVFe",
        "outputId": "88ddb5db-f114-4192-9113-b56014f83e02"
      },
      "source": [
        "#Varificando alavancas no as\n",
        "ago_asr['ALAVANCA'].unique()"
      ],
      "execution_count": null,
      "outputs": [
        {
          "output_type": "execute_result",
          "data": {
            "text/plain": [
              "array(['ASR Visa', 'ASR Racks', 'ASR Todas', 'ASR Nenhuma', 'ASR Gôndola'],\n",
              "      dtype=object)"
            ]
          },
          "metadata": {},
          "execution_count": 22
        }
      ]
    },
    {
      "cell_type": "code",
      "metadata": {
        "colab": {
          "base_uri": "https://localhost:8080/"
        },
        "id": "ALRDMoXLam_h",
        "outputId": "3e32f305-5b17-452a-c2ec-255ab82d1b38"
      },
      "source": [
        "#Varificando alavancas no off\n",
        "ago_fer['ALAVANCA'].unique()"
      ],
      "execution_count": null,
      "outputs": [
        {
          "output_type": "execute_result",
          "data": {
            "text/plain": [
              "array(['OFF INTERIOR', 'ON EXTERIOR', 'OFF Todas', 'ON INTERIOR',\n",
              "       'ON Visa', 'OFF Visa', 'OFF Nenhuma', 'ON Nenhuma', 'ON TODAS',\n",
              "       'OFF TODAS', 'ON Todas'], dtype=object)"
            ]
          },
          "metadata": {},
          "execution_count": 23
        }
      ]
    },
    {
      "cell_type": "code",
      "metadata": {
        "colab": {
          "base_uri": "https://localhost:8080/"
        },
        "id": "ceuFUw6JcCYc",
        "outputId": "d637c173-9d93-457d-b559-25dcfa674672"
      },
      "source": [
        "# mudando as variavies\n",
        "ago_fer['ALAVANCA'].replace({ 'OFF INTERIOR':'Interior',  'ON EXTERIOR':'Exterior','OFF Todas':'Interior', \n",
        "                             'ON INTERIOR':'Interior', 'ON Todas':'Exterior','OFF Visa':'ON Visa',\n",
        "                             'ON TODAS':'Exterior','OFF TODAS':'Interior', 'OFF Nenhuma':'Nenhuma',\n",
        "                             'ON Nenhuma':'Nenhuma'}, inplace=True)"
      ],
      "execution_count": null,
      "outputs": [
        {
          "output_type": "stream",
          "name": "stderr",
          "text": [
            "/usr/local/lib/python3.7/dist-packages/pandas/core/series.py:4582: SettingWithCopyWarning: \n",
            "A value is trying to be set on a copy of a slice from a DataFrame\n",
            "\n",
            "See the caveats in the documentation: https://pandas.pydata.org/pandas-docs/stable/user_guide/indexing.html#returning-a-view-versus-a-copy\n",
            "  method=method,\n"
          ]
        }
      ]
    },
    {
      "cell_type": "code",
      "metadata": {
        "colab": {
          "base_uri": "https://localhost:8080/"
        },
        "id": "lUkkWg29aubb",
        "outputId": "379ade97-0caa-4a22-bf0f-c676a406932b"
      },
      "source": [
        "#Varificando alavancas na padaria\n",
        "ago_fer['ALAVANCA'].unique()"
      ],
      "execution_count": null,
      "outputs": [
        {
          "output_type": "execute_result",
          "data": {
            "text/plain": [
              "array(['Interior', 'Exterior', 'ON Visa', 'Nenhuma'], dtype=object)"
            ]
          },
          "metadata": {},
          "execution_count": 25
        }
      ]
    },
    {
      "cell_type": "markdown",
      "metadata": {
        "id": "2TvveHA8ftQI"
      },
      "source": [
        "# Testes de independencia por alavanca"
      ]
    },
    {
      "cell_type": "code",
      "metadata": {
        "id": "U1_VwULFfSjF"
      },
      "source": [
        "from scipy import stats\n",
        "import matplotlib.pyplot as plt\n",
        "import seaborn as sns"
      ],
      "execution_count": null,
      "outputs": []
    },
    {
      "cell_type": "markdown",
      "metadata": {
        "id": "CQNisDsli2oN"
      },
      "source": [
        "FER"
      ]
    },
    {
      "cell_type": "code",
      "metadata": {
        "colab": {
          "base_uri": "https://localhost:8080/",
          "height": 279
        },
        "id": "pOX3lWeMg4jM",
        "outputId": "7c2aef26-4143-4307-a08d-168419bcf2f9"
      },
      "source": [
        "# Verificando visualmente as diferencas entra as palancas\n",
        "plt.figure(figsize=(8,4))\n",
        "sns.boxplot(x='ALAVANCA', y='Avg 3 meses', data=ago_fer, showfliers=False)\n",
        "plt.show()"
      ],
      "execution_count": null,
      "outputs": [
        {
          "output_type": "display_data",
          "data": {
            "image/png": "[encoded data removed]",
            "text/plain": [
              "<Figure size 576x288 with 1 Axes>"
            ]
          },
          "metadata": {
            "needs_background": "light"
          }
        }
      ]
    },
    {
      "cell_type": "code",
      "metadata": {
        "colab": {
          "base_uri": "https://localhost:8080/"
        },
        "id": "s-yocYY1nG1K",
        "outputId": "44e9b674-82c5-4bd1-f8bc-a01b9ea44ef5"
      },
      "source": [
        "ago_fer['ALAVANCA'].value_counts()"
      ],
      "execution_count": null,
      "outputs": [
        {
          "output_type": "execute_result",
          "data": {
            "text/plain": [
              "Nenhuma     109\n",
              "Interior     43\n",
              "Exterior     16\n",
              "ON Visa      12\n",
              "Name: ALAVANCA, dtype: int64"
            ]
          },
          "metadata": {},
          "execution_count": 28
        }
      ]
    },
    {
      "cell_type": "code",
      "metadata": {
        "id": "U7PGEEb3ds88"
      },
      "source": [
        "ago_fer_visa = ago_fer['Avg 3 meses'].loc[(ago_fer['ALAVANCA']=='ON Visa')]"
      ],
      "execution_count": null,
      "outputs": []
    },
    {
      "cell_type": "code",
      "metadata": {
        "id": "1U8TYLrex0iO"
      },
      "source": [
        "ago_fer_nenhuma = ago_fer['Avg 3 meses'].loc[(ago_fer['ALAVANCA']=='Nenhuma')]"
      ],
      "execution_count": null,
      "outputs": []
    },
    {
      "cell_type": "code",
      "metadata": {
        "colab": {
          "base_uri": "https://localhost:8080/"
        },
        "id": "iE0tWPHpX1oc",
        "outputId": "f57cbd40-67a4-4a0c-f469-615dee503770"
      },
      "source": [
        "# H0 de que são iguais \n",
        "# H1: p < 0.10 (10% de confiança) para que sejam diferentes\n",
        "t, p = stats.ttest_ind(ago_fer_visa,ago_fer_nenhuma)\n",
        "if p > 0.1:\n",
        "  print('Não se pode afirmar que as vendas são diferentes. Valor de p é:', p)\n",
        "else:\n",
        "  print('Podemos afirmar que as vendas são diferentes. Valor de p é:', p)"
      ],
      "execution_count": null,
      "outputs": [
        {
          "output_type": "stream",
          "name": "stdout",
          "text": [
            "Não se pode afirmar que as vendas são diferentes. Valor de p é: 0.332795543683609\n"
          ]
        }
      ]
    },
    {
      "cell_type": "markdown",
      "metadata": {
        "id": "5uCO6ODCi7kd"
      },
      "source": [
        "ASR"
      ]
    },
    {
      "cell_type": "code",
      "metadata": {
        "colab": {
          "base_uri": "https://localhost:8080/",
          "height": 279
        },
        "id": "6RbPDDuBkInj",
        "outputId": "22609b74-a867-4667-8e0c-3671113eae36"
      },
      "source": [
        "# Verificando visualmente as diferencas entra as palancas\n",
        "plt.figure(figsize=(8,4))\n",
        "sns.boxplot(x='ALAVANCA', y='Avg 3 meses', data=ago_asr, showfliers=False)\n",
        "plt.show()"
      ],
      "execution_count": null,
      "outputs": [
        {
          "output_type": "display_data",
          "data": {
            "image/png": "[encoded data removed]",
            "text/plain": [
              "<Figure size 576x288 with 1 Axes>"
            ]
          },
          "metadata": {
            "needs_background": "light"
          }
        }
      ]
    },
    {
      "cell_type": "code",
      "metadata": {
        "colab": {
          "base_uri": "https://localhost:8080/"
        },
        "id": "g3WUyA1xnBnT",
        "outputId": "2ca27921-2f3c-4c54-b9c8-5e1a3a934bf8"
      },
      "source": [
        "ago_asr['ALAVANCA'].value_counts()"
      ],
      "execution_count": null,
      "outputs": [
        {
          "output_type": "execute_result",
          "data": {
            "text/plain": [
              "ASR Nenhuma    14\n",
              "ASR Visa        9\n",
              "ASR Racks       7\n",
              "ASR Todas       7\n",
              "ASR Gôndola     4\n",
              "Name: ALAVANCA, dtype: int64"
            ]
          },
          "metadata": {},
          "execution_count": 33
        }
      ]
    },
    {
      "cell_type": "code",
      "metadata": {
        "id": "h_GOfiIei9qe"
      },
      "source": [
        "as_visa = ago_asr['Avg 3 meses'].loc[(ago_asr['ALAVANCA']=='ASR Visa')]"
      ],
      "execution_count": null,
      "outputs": []
    },
    {
      "cell_type": "code",
      "metadata": {
        "id": "UofT9gwOjFFj"
      },
      "source": [
        "as_nenhuma = ago_asr['Avg 3 meses'].loc[(ago_asr['ALAVANCA']=='ASR Nenhuma')]"
      ],
      "execution_count": null,
      "outputs": []
    },
    {
      "cell_type": "code",
      "metadata": {
        "colab": {
          "base_uri": "https://localhost:8080/"
        },
        "id": "B6YKut0Yjn2-",
        "outputId": "aaecde14-f726-4e5a-86f8-f074ddb2ea33"
      },
      "source": [
        "# H0 de que são iguais \n",
        "# H1: p < 0.10 (10% de confiança) para que sejam diferentes\n",
        "t, p = stats.ttest_ind(as_visa,as_nenhuma)\n",
        "if p > 0.1:\n",
        "  print('Não se pode afirmar que as vendas são diferentes. Valor de p é:', p)\n",
        "else:\n",
        "  print('Podemos afirmar que as vendas são diferentes. Valor de p é:', p)"
      ],
      "execution_count": null,
      "outputs": [
        {
          "output_type": "stream",
          "name": "stdout",
          "text": [
            "Não se pode afirmar que as vendas são diferentes. Valor de p é: 0.32077492980506106\n"
          ]
        }
      ]
    },
    {
      "cell_type": "code",
      "metadata": {
        "id": "3KIgISuSy1ri"
      },
      "source": [
        "as_gon = ago_asr['Avg 3 meses'].loc[(ago_asr['ALAVANCA']=='ASR Gôndola')]"
      ],
      "execution_count": null,
      "outputs": []
    },
    {
      "cell_type": "code",
      "metadata": {
        "colab": {
          "base_uri": "https://localhost:8080/"
        },
        "id": "6GTNQaTVy17r",
        "outputId": "b4d6be6c-14f2-464f-b97b-8ebcdea42557"
      },
      "source": [
        "# H0 de que são iguais \n",
        "# H1: p < 0.10 (10% de confiança) para que sejam diferentes\n",
        "t, p = stats.ttest_ind(as_gon,as_nenhuma)\n",
        "if p > 0.1:\n",
        "  print('Não se pode afirmar que as vendas são diferentes. Valor de p é:', p)\n",
        "else:\n",
        "  print('Podemos afirmar que as vendas são diferentes. Valor de p é:', p)"
      ],
      "execution_count": null,
      "outputs": [
        {
          "output_type": "stream",
          "name": "stdout",
          "text": [
            "Podemos afirmar que as vendas são diferentes. Valor de p é: 0.08885664101688136\n"
          ]
        }
      ]
    },
    {
      "cell_type": "code",
      "metadata": {
        "colab": {
          "base_uri": "https://localhost:8080/",
          "height": 279
        },
        "id": "_islAR87HLt8",
        "outputId": "a654eacf-a00c-48f8-923d-e3d90f241242"
      },
      "source": [
        "# Verificando visualmente as diferencas entra as palancas\n",
        "plt.figure(figsize=(8,4))\n",
        "sns.boxplot(x='Promotores', y='Avg 3 meses', data=ago_asr, showfliers=False)\n",
        "plt.show()"
      ],
      "execution_count": null,
      "outputs": [
        {
          "output_type": "display_data",
          "data": {
            "image/png": "[encoded data removed]",
            "text/plain": [
              "<Figure size 576x288 with 1 Axes>"
            ]
          },
          "metadata": {
            "needs_background": "light"
          }
        }
      ]
    },
    {
      "cell_type": "code",
      "metadata": {
        "id": "DpFeWTtfH3A8"
      },
      "source": [
        "as_prom = ago_asr['Avg 3 meses'].loc[(ago_asr['Promotores']=='ok')]"
      ],
      "execution_count": null,
      "outputs": []
    },
    {
      "cell_type": "code",
      "metadata": {
        "id": "tyTk_Kv0H-Mm"
      },
      "source": [
        "as_s_prom = ago_asr['Avg 3 meses'].loc[(ago_asr['Promotores']==0)]"
      ],
      "execution_count": null,
      "outputs": []
    },
    {
      "cell_type": "code",
      "metadata": {
        "colab": {
          "base_uri": "https://localhost:8080/"
        },
        "id": "3K522ORoIFjm",
        "outputId": "34daa7e1-0c10-4eb7-c1e7-5b32ec3b9a56"
      },
      "source": [
        "# H0 de que são iguais \n",
        "# H1: p < 0.10 (10% de confiança) para que sejam diferentes\n",
        "t, p = stats.ttest_ind(as_prom,as_s_prom)\n",
        "if p > 0.1:\n",
        "  print('Não se pode afirmar que as vendas são diferentes. Valor de p é:', p)\n",
        "else:\n",
        "  print('Podemos afirmar que as vendas são diferentes. Valor de p é:', p)"
      ],
      "execution_count": null,
      "outputs": [
        {
          "output_type": "stream",
          "name": "stdout",
          "text": [
            "Não se pode afirmar que as vendas são diferentes. Valor de p é: 0.2470869408346591\n"
          ]
        }
      ]
    },
    {
      "cell_type": "markdown",
      "metadata": {
        "id": "1WNwGNWdn8ms"
      },
      "source": [
        "Variações de vendas Base Nenhuma"
      ]
    },
    {
      "cell_type": "code",
      "metadata": {
        "colab": {
          "base_uri": "https://localhost:8080/",
          "height": 238
        },
        "id": "7Ai2tW86oBQc",
        "outputId": "75affe77-3ed3-4892-f3ed-6310fe78aa9a"
      },
      "source": [
        "din_asr = pd.pivot_table(ago_asr,index=['ALAVANCA'],values=['Avg 3 meses','Avg Alavanca','RNs'], aggfunc={'Avg 3 meses':np.mean,'Avg Alavanca':np.mean,'RNs':np.count_nonzero})\n",
        "#din_asr = pd.pivot_table(ago_asr,index=['ALAVANCA','Clusters'],values=['Avg 3 meses','Avg Alavanca','RNs'], aggfunc={'Avg 3 meses':np.mean,'Avg Alavanca':np.mean,'RNs':np.count_nonzero})\n",
        "din_asr['Var_%']= din_asr['Avg Alavanca']/din_asr['Avg 3 meses']*100-100\n",
        "din_asr['Var_abs']= din_asr['Avg Alavanca']-din_asr['Avg 3 meses']\n",
        "din_asr"
      ],
      "execution_count": null,
      "outputs": [
        {
          "output_type": "execute_result",
          "data": {
            "text/html": [
              "<div>\n",
              "<style scoped>\n",
              "    .dataframe tbody tr th:only-of-type {\n",
              "        vertical-align: middle;\n",
              "    }\n",
              "\n",
              "    .dataframe tbody tr th {\n",
              "        vertical-align: top;\n",
              "    }\n",
              "\n",
              "    .dataframe thead th {\n",
              "        text-align: right;\n",
              "    }\n",
              "</style>\n",
              "<table border=\"1\" class=\"dataframe\">\n",
              "  <thead>\n",
              "    <tr style=\"text-align: right;\">\n",
              "      <th></th>\n",
              "      <th>Avg 3 meses</th>\n",
              "      <th>Avg Alavanca</th>\n",
              "      <th>RNs</th>\n",
              "      <th>Var_%</th>\n",
              "      <th>Var_abs</th>\n",
              "    </tr>\n",
              "    <tr>\n",
              "      <th>ALAVANCA</th>\n",
              "      <th></th>\n",
              "      <th></th>\n",
              "      <th></th>\n",
              "      <th></th>\n",
              "      <th></th>\n",
              "    </tr>\n",
              "  </thead>\n",
              "  <tbody>\n",
              "    <tr>\n",
              "      <th>ASR Gôndola</th>\n",
              "      <td>12.733173</td>\n",
              "      <td>10.802895</td>\n",
              "      <td>4</td>\n",
              "      <td>-15.159444</td>\n",
              "      <td>-1.930278</td>\n",
              "    </tr>\n",
              "    <tr>\n",
              "      <th>ASR Nenhuma</th>\n",
              "      <td>5.284771</td>\n",
              "      <td>4.222666</td>\n",
              "      <td>14</td>\n",
              "      <td>-20.097477</td>\n",
              "      <td>-1.062106</td>\n",
              "    </tr>\n",
              "    <tr>\n",
              "      <th>ASR Racks</th>\n",
              "      <td>4.557387</td>\n",
              "      <td>4.367967</td>\n",
              "      <td>7</td>\n",
              "      <td>-4.156319</td>\n",
              "      <td>-0.189420</td>\n",
              "    </tr>\n",
              "    <tr>\n",
              "      <th>ASR Todas</th>\n",
              "      <td>6.684196</td>\n",
              "      <td>6.278503</td>\n",
              "      <td>7</td>\n",
              "      <td>-6.069434</td>\n",
              "      <td>-0.405693</td>\n",
              "    </tr>\n",
              "    <tr>\n",
              "      <th>ASR Visa</th>\n",
              "      <td>7.653877</td>\n",
              "      <td>7.286793</td>\n",
              "      <td>9</td>\n",
              "      <td>-4.796049</td>\n",
              "      <td>-0.367084</td>\n",
              "    </tr>\n",
              "  </tbody>\n",
              "</table>\n",
              "</div>"
            ],
            "text/plain": [
              "             Avg 3 meses  Avg Alavanca  RNs      Var_%   Var_abs\n",
              "ALAVANCA                                                        \n",
              "ASR Gôndola    12.733173     10.802895    4 -15.159444 -1.930278\n",
              "ASR Nenhuma     5.284771      4.222666   14 -20.097477 -1.062106\n",
              "ASR Racks       4.557387      4.367967    7  -4.156319 -0.189420\n",
              "ASR Todas       6.684196      6.278503    7  -6.069434 -0.405693\n",
              "ASR Visa        7.653877      7.286793    9  -4.796049 -0.367084"
            ]
          },
          "metadata": {},
          "execution_count": 43
        }
      ]
    },
    {
      "cell_type": "code",
      "metadata": {
        "colab": {
          "base_uri": "https://localhost:8080/",
          "height": 457
        },
        "id": "b7zpV-2l9xY3",
        "outputId": "877ed8bf-79bc-47b2-937c-a0d65ac9f96b"
      },
      "source": [
        "#din_fer = pd.pivot_table(ago_fer,index=['ALAVANCA'],values=['Avg 3 meses','Avg Alavanca','RNs'], aggfunc={'Avg 3 meses':np.mean,'Avg Alavanca':np.mean,'RNs':np.count_nonzero})\n",
        "din_fer = pd.pivot_table(ago_fer,index=['ALAVANCA','Clusters'],values=['Avg 3 meses','Avg Alavanca','RNs'], aggfunc={'Avg 3 meses':np.mean,'Avg Alavanca':np.mean,'RNs':np.count_nonzero})\n",
        "din_fer['Var_%']= din_fer['Avg Alavanca']/din_fer['Avg 3 meses']*100-100\n",
        "din_fer"
      ],
      "execution_count": null,
      "outputs": [
        {
          "output_type": "execute_result",
          "data": {
            "text/html": [
              "<div>\n",
              "<style scoped>\n",
              "    .dataframe tbody tr th:only-of-type {\n",
              "        vertical-align: middle;\n",
              "    }\n",
              "\n",
              "    .dataframe tbody tr th {\n",
              "        vertical-align: top;\n",
              "    }\n",
              "\n",
              "    .dataframe thead th {\n",
              "        text-align: right;\n",
              "    }\n",
              "</style>\n",
              "<table border=\"1\" class=\"dataframe\">\n",
              "  <thead>\n",
              "    <tr style=\"text-align: right;\">\n",
              "      <th></th>\n",
              "      <th></th>\n",
              "      <th>Avg 3 meses</th>\n",
              "      <th>Avg Alavanca</th>\n",
              "      <th>RNs</th>\n",
              "      <th>Var_%</th>\n",
              "    </tr>\n",
              "    <tr>\n",
              "      <th>ALAVANCA</th>\n",
              "      <th>Clusters</th>\n",
              "      <th></th>\n",
              "      <th></th>\n",
              "      <th></th>\n",
              "      <th></th>\n",
              "    </tr>\n",
              "  </thead>\n",
              "  <tbody>\n",
              "    <tr>\n",
              "      <th rowspan=\"3\" valign=\"top\">Exterior</th>\n",
              "      <th>A</th>\n",
              "      <td>4.360128</td>\n",
              "      <td>3.435592</td>\n",
              "      <td>3</td>\n",
              "      <td>-21.204335</td>\n",
              "    </tr>\n",
              "    <tr>\n",
              "      <th>B</th>\n",
              "      <td>1.278959</td>\n",
              "      <td>1.099737</td>\n",
              "      <td>6</td>\n",
              "      <td>-14.013134</td>\n",
              "    </tr>\n",
              "    <tr>\n",
              "      <th>C</th>\n",
              "      <td>0.469986</td>\n",
              "      <td>0.735024</td>\n",
              "      <td>7</td>\n",
              "      <td>56.392747</td>\n",
              "    </tr>\n",
              "    <tr>\n",
              "      <th rowspan=\"3\" valign=\"top\">Interior</th>\n",
              "      <th>A</th>\n",
              "      <td>2.480065</td>\n",
              "      <td>2.109506</td>\n",
              "      <td>9</td>\n",
              "      <td>-14.941515</td>\n",
              "    </tr>\n",
              "    <tr>\n",
              "      <th>B</th>\n",
              "      <td>1.455435</td>\n",
              "      <td>1.643082</td>\n",
              "      <td>16</td>\n",
              "      <td>12.892892</td>\n",
              "    </tr>\n",
              "    <tr>\n",
              "      <th>C</th>\n",
              "      <td>0.752683</td>\n",
              "      <td>0.725932</td>\n",
              "      <td>18</td>\n",
              "      <td>-3.554088</td>\n",
              "    </tr>\n",
              "    <tr>\n",
              "      <th rowspan=\"3\" valign=\"top\">Nenhuma</th>\n",
              "      <th>A</th>\n",
              "      <td>3.643218</td>\n",
              "      <td>3.382250</td>\n",
              "      <td>26</td>\n",
              "      <td>-7.163105</td>\n",
              "    </tr>\n",
              "    <tr>\n",
              "      <th>B</th>\n",
              "      <td>1.670269</td>\n",
              "      <td>1.433536</td>\n",
              "      <td>35</td>\n",
              "      <td>-14.173363</td>\n",
              "    </tr>\n",
              "    <tr>\n",
              "      <th>C</th>\n",
              "      <td>0.697162</td>\n",
              "      <td>0.745868</td>\n",
              "      <td>48</td>\n",
              "      <td>6.986283</td>\n",
              "    </tr>\n",
              "    <tr>\n",
              "      <th rowspan=\"3\" valign=\"top\">ON Visa</th>\n",
              "      <th>A</th>\n",
              "      <td>2.489256</td>\n",
              "      <td>2.646745</td>\n",
              "      <td>4</td>\n",
              "      <td>6.326757</td>\n",
              "    </tr>\n",
              "    <tr>\n",
              "      <th>B</th>\n",
              "      <td>0.747186</td>\n",
              "      <td>0.965296</td>\n",
              "      <td>4</td>\n",
              "      <td>29.190920</td>\n",
              "    </tr>\n",
              "    <tr>\n",
              "      <th>C</th>\n",
              "      <td>0.510957</td>\n",
              "      <td>0.461852</td>\n",
              "      <td>4</td>\n",
              "      <td>-9.610241</td>\n",
              "    </tr>\n",
              "  </tbody>\n",
              "</table>\n",
              "</div>"
            ],
            "text/plain": [
              "                   Avg 3 meses  Avg Alavanca  RNs      Var_%\n",
              "ALAVANCA Clusters                                           \n",
              "Exterior A            4.360128      3.435592    3 -21.204335\n",
              "         B            1.278959      1.099737    6 -14.013134\n",
              "         C            0.469986      0.735024    7  56.392747\n",
              "Interior A            2.480065      2.109506    9 -14.941515\n",
              "         B            1.455435      1.643082   16  12.892892\n",
              "         C            0.752683      0.725932   18  -3.554088\n",
              "Nenhuma  A            3.643218      3.382250   26  -7.163105\n",
              "         B            1.670269      1.433536   35 -14.173363\n",
              "         C            0.697162      0.745868   48   6.986283\n",
              "ON Visa  A            2.489256      2.646745    4   6.326757\n",
              "         B            0.747186      0.965296    4  29.190920\n",
              "         C            0.510957      0.461852    4  -9.610241"
            ]
          },
          "metadata": {},
          "execution_count": 44
        }
      ]
    },
    {
      "cell_type": "markdown",
      "metadata": {
        "id": "98Q5s6RSnuMb"
      },
      "source": [
        "# Provas de correlação linear"
      ]
    },
    {
      "cell_type": "markdown",
      "metadata": {
        "id": "oSKOec1rJvnn"
      },
      "source": [
        "**ASR 1-4**"
      ]
    },
    {
      "cell_type": "code",
      "metadata": {
        "colab": {
          "base_uri": "https://localhost:8080/",
          "height": 365
        },
        "id": "XI3YQLgunzE4",
        "outputId": "fc324616-c503-49e5-cbe3-f966d4c0d35b"
      },
      "source": [
        "ago_asr.head()"
      ],
      "execution_count": null,
      "outputs": [
        {
          "output_type": "execute_result",
          "data": {
            "text/html": [
              "<div>\n",
              "<style scoped>\n",
              "    .dataframe tbody tr th:only-of-type {\n",
              "        vertical-align: middle;\n",
              "    }\n",
              "\n",
              "    .dataframe tbody tr th {\n",
              "        vertical-align: top;\n",
              "    }\n",
              "\n",
              "    .dataframe thead th {\n",
              "        text-align: right;\n",
              "    }\n",
              "</style>\n",
              "<table border=\"1\" class=\"dataframe\">\n",
              "  <thead>\n",
              "    <tr style=\"text-align: right;\">\n",
              "      <th></th>\n",
              "      <th>COD_PDV</th>\n",
              "      <th>CANAL</th>\n",
              "      <th>ALAVANCA</th>\n",
              "      <th>Status Auditoria</th>\n",
              "      <th>TTC ok (50%)</th>\n",
              "      <th>Total PDV</th>\n",
              "      <th>Sub_seg</th>\n",
              "      <th>Avg 3 meses</th>\n",
              "      <th>Avg Alavanca</th>\n",
              "      <th>Vendas todos os meses?</th>\n",
              "      <th>Qtd PPs A/M/J</th>\n",
              "      <th>Qtd PPs J/A</th>\n",
              "      <th>Var PPs</th>\n",
              "      <th>Status Alavanca</th>\n",
              "      <th>Promotores</th>\n",
              "      <th>RNs</th>\n",
              "      <th>Portas KO?</th>\n",
              "      <th>Portas Ambev?</th>\n",
              "      <th>Clusters</th>\n",
              "    </tr>\n",
              "  </thead>\n",
              "  <tbody>\n",
              "    <tr>\n",
              "      <th>5</th>\n",
              "      <td>76664</td>\n",
              "      <td>ASR 1-4</td>\n",
              "      <td>ASR Visa</td>\n",
              "      <td>OK</td>\n",
              "      <td>OK</td>\n",
              "      <td>OK</td>\n",
              "      <td>ASR</td>\n",
              "      <td>3.738093</td>\n",
              "      <td>4.040990</td>\n",
              "      <td>5</td>\n",
              "      <td>3.0</td>\n",
              "      <td>5.0</td>\n",
              "      <td>2.0</td>\n",
              "      <td>OK</td>\n",
              "      <td>ok</td>\n",
              "      <td>413</td>\n",
              "      <td>5.0</td>\n",
              "      <td>1.0</td>\n",
              "      <td>C</td>\n",
              "    </tr>\n",
              "    <tr>\n",
              "      <th>25</th>\n",
              "      <td>90827</td>\n",
              "      <td>ASR 1-4</td>\n",
              "      <td>ASR Racks</td>\n",
              "      <td>OK</td>\n",
              "      <td>OK</td>\n",
              "      <td>NOK</td>\n",
              "      <td>ASR</td>\n",
              "      <td>1.287317</td>\n",
              "      <td>1.627990</td>\n",
              "      <td>5</td>\n",
              "      <td>4.0</td>\n",
              "      <td>5.0</td>\n",
              "      <td>1.0</td>\n",
              "      <td>OK</td>\n",
              "      <td>ok</td>\n",
              "      <td>413</td>\n",
              "      <td>0.0</td>\n",
              "      <td>0.0</td>\n",
              "      <td>C</td>\n",
              "    </tr>\n",
              "    <tr>\n",
              "      <th>50</th>\n",
              "      <td>90151</td>\n",
              "      <td>ASR 1-4</td>\n",
              "      <td>ASR Todas</td>\n",
              "      <td>OK</td>\n",
              "      <td>OK</td>\n",
              "      <td>OK</td>\n",
              "      <td>ASR</td>\n",
              "      <td>3.519453</td>\n",
              "      <td>2.391990</td>\n",
              "      <td>5</td>\n",
              "      <td>3.0</td>\n",
              "      <td>5.0</td>\n",
              "      <td>2.0</td>\n",
              "      <td>OK</td>\n",
              "      <td>ok</td>\n",
              "      <td>413</td>\n",
              "      <td>1.0</td>\n",
              "      <td>2.0</td>\n",
              "      <td>C</td>\n",
              "    </tr>\n",
              "    <tr>\n",
              "      <th>52</th>\n",
              "      <td>8824</td>\n",
              "      <td>ASR 1-4</td>\n",
              "      <td>ASR Visa</td>\n",
              "      <td>OK</td>\n",
              "      <td>OK</td>\n",
              "      <td>OK</td>\n",
              "      <td>ASR</td>\n",
              "      <td>2.047330</td>\n",
              "      <td>2.958655</td>\n",
              "      <td>5</td>\n",
              "      <td>6.0</td>\n",
              "      <td>4.0</td>\n",
              "      <td>-2.0</td>\n",
              "      <td>OK</td>\n",
              "      <td>0</td>\n",
              "      <td>413</td>\n",
              "      <td>4.0</td>\n",
              "      <td>1.0</td>\n",
              "      <td>C</td>\n",
              "    </tr>\n",
              "    <tr>\n",
              "      <th>53</th>\n",
              "      <td>31720</td>\n",
              "      <td>ASR 1-4</td>\n",
              "      <td>ASR Racks</td>\n",
              "      <td>OK</td>\n",
              "      <td>NOK</td>\n",
              "      <td>NOK</td>\n",
              "      <td>ASR</td>\n",
              "      <td>1.298623</td>\n",
              "      <td>0.471990</td>\n",
              "      <td>5</td>\n",
              "      <td>2.0</td>\n",
              "      <td>1.0</td>\n",
              "      <td>-1.0</td>\n",
              "      <td>OK</td>\n",
              "      <td>0</td>\n",
              "      <td>413</td>\n",
              "      <td>1.0</td>\n",
              "      <td>1.0</td>\n",
              "      <td>C</td>\n",
              "    </tr>\n",
              "  </tbody>\n",
              "</table>\n",
              "</div>"
            ],
            "text/plain": [
              "    COD_PDV    CANAL   ALAVANCA  ... Portas KO? Portas Ambev? Clusters\n",
              "5     76664  ASR 1-4   ASR Visa  ...        5.0           1.0        C\n",
              "25    90827  ASR 1-4  ASR Racks  ...        0.0           0.0        C\n",
              "50    90151  ASR 1-4  ASR Todas  ...        1.0           2.0        C\n",
              "52     8824  ASR 1-4   ASR Visa  ...        4.0           1.0        C\n",
              "53    31720  ASR 1-4  ASR Racks  ...        1.0           1.0        C\n",
              "\n",
              "[5 rows x 19 columns]"
            ]
          },
          "metadata": {},
          "execution_count": 45
        }
      ]
    },
    {
      "cell_type": "code",
      "metadata": {
        "id": "3F58uPtnFkBt"
      },
      "source": [
        "ago_asr.to_csv(r'/content/drive/Shareddrives/MO PROYECTOS CONSULTORIA/GUA UN 167 - 2020.12.PPF.PEP.GUA/2. Ejecucion/4. Piloto/Analytics/CSVs Python/base_asr.csv', index = False)"
      ],
      "execution_count": null,
      "outputs": []
    },
    {
      "cell_type": "markdown",
      "metadata": {
        "id": "WjqKlyigxEE4"
      },
      "source": [
        "Y como variação de vendas"
      ]
    },
    {
      "cell_type": "code",
      "metadata": {
        "id": "6Z9AXfLdwPC_"
      },
      "source": [
        "vendas_var = ago_asr['Avg Alavanca'] - ago_asr['Avg 3 meses']"
      ],
      "execution_count": null,
      "outputs": []
    },
    {
      "cell_type": "code",
      "metadata": {
        "colab": {
          "base_uri": "https://localhost:8080/",
          "height": 336
        },
        "id": "GfOZ1qVCwvq4",
        "outputId": "0e83c2eb-289b-4695-c58a-53229e09f43c"
      },
      "source": [
        "sns.distplot(vendas_var)\n",
        "plt.title('Variação de Vendas')\n",
        "plt.show()"
      ],
      "execution_count": null,
      "outputs": [
        {
          "output_type": "stream",
          "name": "stderr",
          "text": [
            "/usr/local/lib/python3.7/dist-packages/seaborn/distributions.py:2619: FutureWarning: `distplot` is a deprecated function and will be removed in a future version. Please adapt your code to use either `displot` (a figure-level function with similar flexibility) or `histplot` (an axes-level function for histograms).\n",
            "  warnings.warn(msg, FutureWarning)\n"
          ]
        },
        {
          "output_type": "display_data",
          "data": {
            "image/png": "[encoded data removed]",
            "text/plain": [
              "<Figure size 432x288 with 1 Axes>"
            ]
          },
          "metadata": {
            "needs_background": "light"
          }
        }
      ]
    },
    {
      "cell_type": "code",
      "metadata": {
        "id": "AAxxZRwvVpMZ"
      },
      "source": [
        "import scipy\n",
        "from scipy import stats\n",
        "from sklearn.preprocessing import PowerTransformer"
      ],
      "execution_count": null,
      "outputs": []
    },
    {
      "cell_type": "code",
      "metadata": {
        "id": "j27KE71cyPdm"
      },
      "source": [
        "pt_var = PowerTransformer()\n",
        "vendas_var = vendas_var.to_numpy()\n",
        "vendas_var = vendas_var.reshape(-1,1)"
      ],
      "execution_count": null,
      "outputs": []
    },
    {
      "cell_type": "code",
      "metadata": {
        "id": "xxS8bGyTyXWv"
      },
      "source": [
        "fit_transf_asr_var = pt_var.fit(vendas_var)"
      ],
      "execution_count": null,
      "outputs": []
    },
    {
      "cell_type": "code",
      "metadata": {
        "id": "yzMTNdgry0eC"
      },
      "source": [
        "vendas_transf_asr_var = pt_var.transform(vendas_var)"
      ],
      "execution_count": null,
      "outputs": []
    },
    {
      "cell_type": "code",
      "metadata": {
        "colab": {
          "base_uri": "https://localhost:8080/",
          "height": 554
        },
        "id": "H2aW1OPQzDZX",
        "outputId": "9434c7ca-46c4-491d-d305-d1b528a8b6be"
      },
      "source": [
        "plt.figure(figsize = (8, 8))\n",
        "#sns.distplot(transformed_data_yeo)\n",
        "sns.distplot(vendas_transf_asr_var)\n",
        "plt.title(f'Variável Transformada - Lambda: {pt_var.lambdas_}')\n",
        "plt.show()"
      ],
      "execution_count": null,
      "outputs": [
        {
          "output_type": "stream",
          "name": "stderr",
          "text": [
            "/usr/local/lib/python3.7/dist-packages/seaborn/distributions.py:2619: FutureWarning: `distplot` is a deprecated function and will be removed in a future version. Please adapt your code to use either `displot` (a figure-level function with similar flexibility) or `histplot` (an axes-level function for histograms).\n",
            "  warnings.warn(msg, FutureWarning)\n"
          ]
        },
        {
          "output_type": "display_data",
          "data": {
            "image/png": "[encoded data removed]",
            "text/plain": [
              "<Figure size 576x576 with 1 Axes>"
            ]
          },
          "metadata": {
            "needs_background": "light"
          }
        }
      ]
    },
    {
      "cell_type": "code",
      "metadata": {
        "id": "dZy9afwEzLM_"
      },
      "source": [
        "y_var = vendas_transf_asr_var"
      ],
      "execution_count": null,
      "outputs": []
    },
    {
      "cell_type": "code",
      "metadata": {
        "id": "Z2d2Tj_Uz_1s"
      },
      "source": [
        "y_var = y_var.reshape(41,)"
      ],
      "execution_count": null,
      "outputs": []
    },
    {
      "cell_type": "markdown",
      "metadata": {
        "id": "sIhwOXeTxSsF"
      },
      "source": [
        "Y como vendas após implementação"
      ]
    },
    {
      "cell_type": "code",
      "metadata": {
        "id": "4BJ8rLTMUrSY"
      },
      "source": [
        "vendas = ago_asr['Avg Alavanca']"
      ],
      "execution_count": null,
      "outputs": []
    },
    {
      "cell_type": "code",
      "metadata": {
        "colab": {
          "base_uri": "https://localhost:8080/",
          "height": 350
        },
        "id": "krZzVsOvVHT4",
        "outputId": "9e3c5d2e-fd9a-4c4b-d0f7-167d29a167d4"
      },
      "source": [
        "sns.distplot(vendas)\n",
        "plt.title('vendas')\n",
        "plt.show()"
      ],
      "execution_count": null,
      "outputs": [
        {
          "output_type": "stream",
          "name": "stderr",
          "text": [
            "/usr/local/lib/python3.7/dist-packages/seaborn/distributions.py:2619: FutureWarning: `distplot` is a deprecated function and will be removed in a future version. Please adapt your code to use either `displot` (a figure-level function with similar flexibility) or `histplot` (an axes-level function for histograms).\n",
            "  warnings.warn(msg, FutureWarning)\n"
          ]
        },
        {
          "output_type": "display_data",
          "data": {
            "image/png": "[encoded data removed]",
            "text/plain": [
              "<Figure size 432x288 with 1 Axes>"
            ]
          },
          "metadata": {
            "needs_background": "light"
          }
        }
      ]
    },
    {
      "cell_type": "code",
      "metadata": {
        "id": "yhx-6yW8lGKY"
      },
      "source": [
        "pt = PowerTransformer()\n",
        "vendas = vendas.to_numpy()\n",
        "vendas = vendas.reshape(-1,1)"
      ],
      "execution_count": null,
      "outputs": []
    },
    {
      "cell_type": "code",
      "metadata": {
        "colab": {
          "base_uri": "https://localhost:8080/"
        },
        "id": "-WUYZOW_nNsp",
        "outputId": "55d908f7-fd85-4bbc-c0f4-5894cf637420"
      },
      "source": [
        "vendas.shape"
      ],
      "execution_count": null,
      "outputs": [
        {
          "output_type": "execute_result",
          "data": {
            "text/plain": [
              "(41, 1)"
            ]
          },
          "metadata": {},
          "execution_count": 60
        }
      ]
    },
    {
      "cell_type": "code",
      "metadata": {
        "id": "82zs7NfvlKlz"
      },
      "source": [
        "fit_transf_asr = pt.fit(vendas)"
      ],
      "execution_count": null,
      "outputs": []
    },
    {
      "cell_type": "code",
      "metadata": {
        "id": "jEFL8Bqqn4jB"
      },
      "source": [
        "vendas_transf_asr = pt.transform(vendas)"
      ],
      "execution_count": null,
      "outputs": []
    },
    {
      "cell_type": "code",
      "metadata": {
        "id": "0UYf0SOpVV6X"
      },
      "source": [
        "# Vamos fazer a transformação dessa variável em normal.\n",
        "#transformed_data_yeo, lambda_found_yeo = scipy.stats.yeojohnson(vendas)"
      ],
      "execution_count": null,
      "outputs": []
    },
    {
      "cell_type": "code",
      "metadata": {
        "colab": {
          "base_uri": "https://localhost:8080/",
          "height": 554
        },
        "id": "OMBhHPGXVwRm",
        "outputId": "b2c77679-8455-4719-ee3c-8990be6cda18"
      },
      "source": [
        "plt.figure(figsize = (8, 8))\n",
        "#sns.distplot(transformed_data_yeo)\n",
        "sns.distplot(vendas_transf_asr)\n",
        "plt.title(f'Variável Transformada - Lambda: {pt.lambdas_}')\n",
        "plt.show()"
      ],
      "execution_count": null,
      "outputs": [
        {
          "output_type": "stream",
          "name": "stderr",
          "text": [
            "/usr/local/lib/python3.7/dist-packages/seaborn/distributions.py:2619: FutureWarning: `distplot` is a deprecated function and will be removed in a future version. Please adapt your code to use either `displot` (a figure-level function with similar flexibility) or `histplot` (an axes-level function for histograms).\n",
            "  warnings.warn(msg, FutureWarning)\n"
          ]
        },
        {
          "output_type": "display_data",
          "data": {
            "image/png": "[encoded data removed]",
            "text/plain": [
              "<Figure size 576x576 with 1 Axes>"
            ]
          },
          "metadata": {
            "needs_background": "light"
          }
        }
      ]
    },
    {
      "cell_type": "code",
      "metadata": {
        "id": "Fk9EpTc_XwWm"
      },
      "source": [
        "y = vendas_transf_asr"
      ],
      "execution_count": null,
      "outputs": []
    },
    {
      "cell_type": "code",
      "metadata": {
        "id": "n8tT2JuJsruC"
      },
      "source": [
        "y = y.reshape(41,)"
      ],
      "execution_count": null,
      "outputs": []
    },
    {
      "cell_type": "code",
      "metadata": {
        "colab": {
          "base_uri": "https://localhost:8080/"
        },
        "id": "azWa2EJMsyYa",
        "outputId": "49246a8d-c9e1-43ee-bbe8-8f382bca1b96"
      },
      "source": [
        "y.shape"
      ],
      "execution_count": null,
      "outputs": [
        {
          "output_type": "execute_result",
          "data": {
            "text/plain": [
              "(41,)"
            ]
          },
          "metadata": {},
          "execution_count": 67
        }
      ]
    },
    {
      "cell_type": "markdown",
      "metadata": {
        "id": "H3-6Q3cSx_iY"
      },
      "source": [
        "Preparando X - cenário para prever as vendas J/A"
      ]
    },
    {
      "cell_type": "code",
      "metadata": {
        "id": "ONtlIkeRX1BP"
      },
      "source": [
        "X = ago_asr.drop(['COD_PDV', 'CANAL', 'Status Auditoria', 'Sub_seg', 'Avg Alavanca', \n",
        "                      'Vendas todos os meses?', 'Status Alavanca', 'RNs'], axis=1)"
      ],
      "execution_count": null,
      "outputs": []
    },
    {
      "cell_type": "code",
      "metadata": {
        "colab": {
          "base_uri": "https://localhost:8080/",
          "height": 276
        },
        "id": "cXLkfjuN1xIH",
        "outputId": "5b8d8c54-593b-4b9b-e882-1d5033510a9a"
      },
      "source": [
        "X.head()"
      ],
      "execution_count": null,
      "outputs": [
        {
          "output_type": "execute_result",
          "data": {
            "text/html": [
              "<div>\n",
              "<style scoped>\n",
              "    .dataframe tbody tr th:only-of-type {\n",
              "        vertical-align: middle;\n",
              "    }\n",
              "\n",
              "    .dataframe tbody tr th {\n",
              "        vertical-align: top;\n",
              "    }\n",
              "\n",
              "    .dataframe thead th {\n",
              "        text-align: right;\n",
              "    }\n",
              "</style>\n",
              "<table border=\"1\" class=\"dataframe\">\n",
              "  <thead>\n",
              "    <tr style=\"text-align: right;\">\n",
              "      <th></th>\n",
              "      <th>ALAVANCA</th>\n",
              "      <th>TTC ok (50%)</th>\n",
              "      <th>Total PDV</th>\n",
              "      <th>Avg 3 meses</th>\n",
              "      <th>Qtd PPs A/M/J</th>\n",
              "      <th>Qtd PPs J/A</th>\n",
              "      <th>Var PPs</th>\n",
              "      <th>Promotores</th>\n",
              "      <th>Portas KO?</th>\n",
              "      <th>Portas Ambev?</th>\n",
              "      <th>Clusters</th>\n",
              "    </tr>\n",
              "  </thead>\n",
              "  <tbody>\n",
              "    <tr>\n",
              "      <th>5</th>\n",
              "      <td>ASR Visa</td>\n",
              "      <td>OK</td>\n",
              "      <td>OK</td>\n",
              "      <td>3.738093</td>\n",
              "      <td>3.0</td>\n",
              "      <td>5.0</td>\n",
              "      <td>2.0</td>\n",
              "      <td>ok</td>\n",
              "      <td>5.0</td>\n",
              "      <td>1.0</td>\n",
              "      <td>C</td>\n",
              "    </tr>\n",
              "    <tr>\n",
              "      <th>25</th>\n",
              "      <td>ASR Racks</td>\n",
              "      <td>OK</td>\n",
              "      <td>NOK</td>\n",
              "      <td>1.287317</td>\n",
              "      <td>4.0</td>\n",
              "      <td>5.0</td>\n",
              "      <td>1.0</td>\n",
              "      <td>ok</td>\n",
              "      <td>0.0</td>\n",
              "      <td>0.0</td>\n",
              "      <td>C</td>\n",
              "    </tr>\n",
              "    <tr>\n",
              "      <th>50</th>\n",
              "      <td>ASR Todas</td>\n",
              "      <td>OK</td>\n",
              "      <td>OK</td>\n",
              "      <td>3.519453</td>\n",
              "      <td>3.0</td>\n",
              "      <td>5.0</td>\n",
              "      <td>2.0</td>\n",
              "      <td>ok</td>\n",
              "      <td>1.0</td>\n",
              "      <td>2.0</td>\n",
              "      <td>C</td>\n",
              "    </tr>\n",
              "    <tr>\n",
              "      <th>52</th>\n",
              "      <td>ASR Visa</td>\n",
              "      <td>OK</td>\n",
              "      <td>OK</td>\n",
              "      <td>2.047330</td>\n",
              "      <td>6.0</td>\n",
              "      <td>4.0</td>\n",
              "      <td>-2.0</td>\n",
              "      <td>0</td>\n",
              "      <td>4.0</td>\n",
              "      <td>1.0</td>\n",
              "      <td>C</td>\n",
              "    </tr>\n",
              "    <tr>\n",
              "      <th>53</th>\n",
              "      <td>ASR Racks</td>\n",
              "      <td>NOK</td>\n",
              "      <td>NOK</td>\n",
              "      <td>1.298623</td>\n",
              "      <td>2.0</td>\n",
              "      <td>1.0</td>\n",
              "      <td>-1.0</td>\n",
              "      <td>0</td>\n",
              "      <td>1.0</td>\n",
              "      <td>1.0</td>\n",
              "      <td>C</td>\n",
              "    </tr>\n",
              "  </tbody>\n",
              "</table>\n",
              "</div>"
            ],
            "text/plain": [
              "     ALAVANCA TTC ok (50%) Total PDV  ...  Portas KO?  Portas Ambev?  Clusters\n",
              "5    ASR Visa           OK        OK  ...         5.0            1.0         C\n",
              "25  ASR Racks           OK       NOK  ...         0.0            0.0         C\n",
              "50  ASR Todas           OK        OK  ...         1.0            2.0         C\n",
              "52   ASR Visa           OK        OK  ...         4.0            1.0         C\n",
              "53  ASR Racks          NOK       NOK  ...         1.0            1.0         C\n",
              "\n",
              "[5 rows x 11 columns]"
            ]
          },
          "metadata": {},
          "execution_count": 69
        }
      ]
    },
    {
      "cell_type": "code",
      "metadata": {
        "id": "SZni53M414FE"
      },
      "source": [
        "X['TTC ok (50%)'].replace({ 'OK':1,  'NOK':0}, inplace=True)"
      ],
      "execution_count": null,
      "outputs": []
    },
    {
      "cell_type": "code",
      "metadata": {
        "id": "VUpOvhMt2RoY"
      },
      "source": [
        "X['Total PDV'].replace({ 'OK':1,  'NOK':0}, inplace=True)"
      ],
      "execution_count": null,
      "outputs": []
    },
    {
      "cell_type": "code",
      "metadata": {
        "id": "wJLAK_852YJx"
      },
      "source": [
        "X['Promotores'].replace({ 'ok':1}, inplace=True)"
      ],
      "execution_count": null,
      "outputs": []
    },
    {
      "cell_type": "code",
      "metadata": {
        "id": "3gTVcnq63vwE"
      },
      "source": [
        "X = pd.get_dummies(X)"
      ],
      "execution_count": null,
      "outputs": []
    },
    {
      "cell_type": "code",
      "metadata": {
        "colab": {
          "base_uri": "https://localhost:8080/"
        },
        "id": "hoRyyAe2aDaI",
        "outputId": "c09fab64-c121-400c-9ff7-76d28acca6cb"
      },
      "source": [
        "X.dtypes"
      ],
      "execution_count": null,
      "outputs": [
        {
          "output_type": "execute_result",
          "data": {
            "text/plain": [
              "TTC ok (50%)              int64\n",
              "Total PDV                 int64\n",
              "Avg 3 meses             float64\n",
              "Qtd PPs A/M/J           float64\n",
              "Qtd PPs J/A             float64\n",
              "Var PPs                 float64\n",
              "Promotores                int64\n",
              "Portas KO?              float64\n",
              "Portas Ambev?           float64\n",
              "ALAVANCA_ASR Gôndola      uint8\n",
              "ALAVANCA_ASR Nenhuma      uint8\n",
              "ALAVANCA_ASR Racks        uint8\n",
              "ALAVANCA_ASR Todas        uint8\n",
              "ALAVANCA_ASR Visa         uint8\n",
              "Clusters_A                uint8\n",
              "Clusters_B                uint8\n",
              "Clusters_C                uint8\n",
              "dtype: object"
            ]
          },
          "metadata": {},
          "execution_count": 74
        }
      ]
    },
    {
      "cell_type": "code",
      "metadata": {
        "colab": {
          "base_uri": "https://localhost:8080/",
          "height": 261
        },
        "id": "l2xu4Lk0aGAP",
        "outputId": "58958971-3839-48b9-ac3d-68266618c4c8"
      },
      "source": [
        "X.head()"
      ],
      "execution_count": null,
      "outputs": [
        {
          "output_type": "execute_result",
          "data": {
            "text/html": [
              "<div>\n",
              "<style scoped>\n",
              "    .dataframe tbody tr th:only-of-type {\n",
              "        vertical-align: middle;\n",
              "    }\n",
              "\n",
              "    .dataframe tbody tr th {\n",
              "        vertical-align: top;\n",
              "    }\n",
              "\n",
              "    .dataframe thead th {\n",
              "        text-align: right;\n",
              "    }\n",
              "</style>\n",
              "<table border=\"1\" class=\"dataframe\">\n",
              "  <thead>\n",
              "    <tr style=\"text-align: right;\">\n",
              "      <th></th>\n",
              "      <th>TTC ok (50%)</th>\n",
              "      <th>Total PDV</th>\n",
              "      <th>Avg 3 meses</th>\n",
              "      <th>Qtd PPs A/M/J</th>\n",
              "      <th>Qtd PPs J/A</th>\n",
              "      <th>Var PPs</th>\n",
              "      <th>Promotores</th>\n",
              "      <th>Portas KO?</th>\n",
              "      <th>Portas Ambev?</th>\n",
              "      <th>ALAVANCA_ASR Gôndola</th>\n",
              "      <th>ALAVANCA_ASR Nenhuma</th>\n",
              "      <th>ALAVANCA_ASR Racks</th>\n",
              "      <th>ALAVANCA_ASR Todas</th>\n",
              "      <th>ALAVANCA_ASR Visa</th>\n",
              "      <th>Clusters_A</th>\n",
              "      <th>Clusters_B</th>\n",
              "      <th>Clusters_C</th>\n",
              "    </tr>\n",
              "  </thead>\n",
              "  <tbody>\n",
              "    <tr>\n",
              "      <th>5</th>\n",
              "      <td>1</td>\n",
              "      <td>1</td>\n",
              "      <td>3.738093</td>\n",
              "      <td>3.0</td>\n",
              "      <td>5.0</td>\n",
              "      <td>2.0</td>\n",
              "      <td>1</td>\n",
              "      <td>5.0</td>\n",
              "      <td>1.0</td>\n",
              "      <td>0</td>\n",
              "      <td>0</td>\n",
              "      <td>0</td>\n",
              "      <td>0</td>\n",
              "      <td>1</td>\n",
              "      <td>0</td>\n",
              "      <td>0</td>\n",
              "      <td>1</td>\n",
              "    </tr>\n",
              "    <tr>\n",
              "      <th>25</th>\n",
              "      <td>1</td>\n",
              "      <td>0</td>\n",
              "      <td>1.287317</td>\n",
              "      <td>4.0</td>\n",
              "      <td>5.0</td>\n",
              "      <td>1.0</td>\n",
              "      <td>1</td>\n",
              "      <td>0.0</td>\n",
              "      <td>0.0</td>\n",
              "      <td>0</td>\n",
              "      <td>0</td>\n",
              "      <td>1</td>\n",
              "      <td>0</td>\n",
              "      <td>0</td>\n",
              "      <td>0</td>\n",
              "      <td>0</td>\n",
              "      <td>1</td>\n",
              "    </tr>\n",
              "    <tr>\n",
              "      <th>50</th>\n",
              "      <td>1</td>\n",
              "      <td>1</td>\n",
              "      <td>3.519453</td>\n",
              "      <td>3.0</td>\n",
              "      <td>5.0</td>\n",
              "      <td>2.0</td>\n",
              "      <td>1</td>\n",
              "      <td>1.0</td>\n",
              "      <td>2.0</td>\n",
              "      <td>0</td>\n",
              "      <td>0</td>\n",
              "      <td>0</td>\n",
              "      <td>1</td>\n",
              "      <td>0</td>\n",
              "      <td>0</td>\n",
              "      <td>0</td>\n",
              "      <td>1</td>\n",
              "    </tr>\n",
              "    <tr>\n",
              "      <th>52</th>\n",
              "      <td>1</td>\n",
              "      <td>1</td>\n",
              "      <td>2.047330</td>\n",
              "      <td>6.0</td>\n",
              "      <td>4.0</td>\n",
              "      <td>-2.0</td>\n",
              "      <td>0</td>\n",
              "      <td>4.0</td>\n",
              "      <td>1.0</td>\n",
              "      <td>0</td>\n",
              "      <td>0</td>\n",
              "      <td>0</td>\n",
              "      <td>0</td>\n",
              "      <td>1</td>\n",
              "      <td>0</td>\n",
              "      <td>0</td>\n",
              "      <td>1</td>\n",
              "    </tr>\n",
              "    <tr>\n",
              "      <th>53</th>\n",
              "      <td>0</td>\n",
              "      <td>0</td>\n",
              "      <td>1.298623</td>\n",
              "      <td>2.0</td>\n",
              "      <td>1.0</td>\n",
              "      <td>-1.0</td>\n",
              "      <td>0</td>\n",
              "      <td>1.0</td>\n",
              "      <td>1.0</td>\n",
              "      <td>0</td>\n",
              "      <td>0</td>\n",
              "      <td>1</td>\n",
              "      <td>0</td>\n",
              "      <td>0</td>\n",
              "      <td>0</td>\n",
              "      <td>0</td>\n",
              "      <td>1</td>\n",
              "    </tr>\n",
              "  </tbody>\n",
              "</table>\n",
              "</div>"
            ],
            "text/plain": [
              "    TTC ok (50%)  Total PDV  Avg 3 meses  ...  Clusters_A  Clusters_B  Clusters_C\n",
              "5              1          1     3.738093  ...           0           0           1\n",
              "25             1          0     1.287317  ...           0           0           1\n",
              "50             1          1     3.519453  ...           0           0           1\n",
              "52             1          1     2.047330  ...           0           0           1\n",
              "53             0          0     1.298623  ...           0           0           1\n",
              "\n",
              "[5 rows x 17 columns]"
            ]
          },
          "metadata": {},
          "execution_count": 75
        }
      ]
    },
    {
      "cell_type": "code",
      "metadata": {
        "colab": {
          "base_uri": "https://localhost:8080/",
          "height": 607
        },
        "id": "sMGjVUaYHmU0",
        "outputId": "3159db0f-3a80-43d6-a20b-088ceefa102e"
      },
      "source": [
        "plt.figure(figsize=(10,8))\n",
        "sns.heatmap(X.corr(), annot=True)\n",
        "plt.show()"
      ],
      "execution_count": null,
      "outputs": [
        {
          "output_type": "display_data",
          "data": {
            "image/png": "[encoded data removed]",
            "text/plain": [
              "<Figure size 720x576 with 2 Axes>"
            ]
          },
          "metadata": {
            "needs_background": "light"
          }
        }
      ]
    },
    {
      "cell_type": "code",
      "metadata": {
        "id": "rUMbcVizaiRN",
        "colab": {
          "base_uri": "https://localhost:8080/"
        },
        "outputId": "bdaedfee-469e-4821-cd20-1f7d8215bb8a"
      },
      "source": [
        "import statsmodels.api as sm"
      ],
      "execution_count": null,
      "outputs": [
        {
          "output_type": "stream",
          "name": "stderr",
          "text": [
            "/usr/local/lib/python3.7/dist-packages/statsmodels/tools/_testing.py:19: FutureWarning: pandas.util.testing is deprecated. Use the functions in the public API at pandas.testing instead.\n",
            "  import pandas.util.testing as tm\n"
          ]
        }
      ]
    },
    {
      "cell_type": "code",
      "metadata": {
        "id": "jmu8cEeN7DHR"
      },
      "source": [
        "X_const = X.drop(['TTC ok (50%)', 'Total PDV','Promotores', 'Var PPs', 'Portas KO?'], axis=1)"
      ],
      "execution_count": null,
      "outputs": []
    },
    {
      "cell_type": "code",
      "metadata": {
        "id": "7fgNpru_XUKF"
      },
      "source": [
        "X_const = sm.add_constant(X_const)"
      ],
      "execution_count": null,
      "outputs": []
    },
    {
      "cell_type": "code",
      "metadata": {
        "colab": {
          "base_uri": "https://localhost:8080/",
          "height": 261
        },
        "id": "Q76Ltm5D9tse",
        "outputId": "0d22281b-465d-4f31-a692-a8af0aa6db4a"
      },
      "source": [
        "X_const.head()"
      ],
      "execution_count": null,
      "outputs": [
        {
          "output_type": "execute_result",
          "data": {
            "text/html": [
              "<div>\n",
              "<style scoped>\n",
              "    .dataframe tbody tr th:only-of-type {\n",
              "        vertical-align: middle;\n",
              "    }\n",
              "\n",
              "    .dataframe tbody tr th {\n",
              "        vertical-align: top;\n",
              "    }\n",
              "\n",
              "    .dataframe thead th {\n",
              "        text-align: right;\n",
              "    }\n",
              "</style>\n",
              "<table border=\"1\" class=\"dataframe\">\n",
              "  <thead>\n",
              "    <tr style=\"text-align: right;\">\n",
              "      <th></th>\n",
              "      <th>const</th>\n",
              "      <th>Avg 3 meses</th>\n",
              "      <th>Qtd PPs A/M/J</th>\n",
              "      <th>Qtd PPs J/A</th>\n",
              "      <th>Portas Ambev?</th>\n",
              "      <th>ALAVANCA_ASR Gôndola</th>\n",
              "      <th>ALAVANCA_ASR Nenhuma</th>\n",
              "      <th>ALAVANCA_ASR Racks</th>\n",
              "      <th>ALAVANCA_ASR Todas</th>\n",
              "      <th>ALAVANCA_ASR Visa</th>\n",
              "      <th>Clusters_A</th>\n",
              "      <th>Clusters_B</th>\n",
              "      <th>Clusters_C</th>\n",
              "    </tr>\n",
              "  </thead>\n",
              "  <tbody>\n",
              "    <tr>\n",
              "      <th>5</th>\n",
              "      <td>1.0</td>\n",
              "      <td>3.738093</td>\n",
              "      <td>3.0</td>\n",
              "      <td>5.0</td>\n",
              "      <td>1.0</td>\n",
              "      <td>0</td>\n",
              "      <td>0</td>\n",
              "      <td>0</td>\n",
              "      <td>0</td>\n",
              "      <td>1</td>\n",
              "      <td>0</td>\n",
              "      <td>0</td>\n",
              "      <td>1</td>\n",
              "    </tr>\n",
              "    <tr>\n",
              "      <th>25</th>\n",
              "      <td>1.0</td>\n",
              "      <td>1.287317</td>\n",
              "      <td>4.0</td>\n",
              "      <td>5.0</td>\n",
              "      <td>0.0</td>\n",
              "      <td>0</td>\n",
              "      <td>0</td>\n",
              "      <td>1</td>\n",
              "      <td>0</td>\n",
              "      <td>0</td>\n",
              "      <td>0</td>\n",
              "      <td>0</td>\n",
              "      <td>1</td>\n",
              "    </tr>\n",
              "    <tr>\n",
              "      <th>50</th>\n",
              "      <td>1.0</td>\n",
              "      <td>3.519453</td>\n",
              "      <td>3.0</td>\n",
              "      <td>5.0</td>\n",
              "      <td>2.0</td>\n",
              "      <td>0</td>\n",
              "      <td>0</td>\n",
              "      <td>0</td>\n",
              "      <td>1</td>\n",
              "      <td>0</td>\n",
              "      <td>0</td>\n",
              "      <td>0</td>\n",
              "      <td>1</td>\n",
              "    </tr>\n",
              "    <tr>\n",
              "      <th>52</th>\n",
              "      <td>1.0</td>\n",
              "      <td>2.047330</td>\n",
              "      <td>6.0</td>\n",
              "      <td>4.0</td>\n",
              "      <td>1.0</td>\n",
              "      <td>0</td>\n",
              "      <td>0</td>\n",
              "      <td>0</td>\n",
              "      <td>0</td>\n",
              "      <td>1</td>\n",
              "      <td>0</td>\n",
              "      <td>0</td>\n",
              "      <td>1</td>\n",
              "    </tr>\n",
              "    <tr>\n",
              "      <th>53</th>\n",
              "      <td>1.0</td>\n",
              "      <td>1.298623</td>\n",
              "      <td>2.0</td>\n",
              "      <td>1.0</td>\n",
              "      <td>1.0</td>\n",
              "      <td>0</td>\n",
              "      <td>0</td>\n",
              "      <td>1</td>\n",
              "      <td>0</td>\n",
              "      <td>0</td>\n",
              "      <td>0</td>\n",
              "      <td>0</td>\n",
              "      <td>1</td>\n",
              "    </tr>\n",
              "  </tbody>\n",
              "</table>\n",
              "</div>"
            ],
            "text/plain": [
              "    const  Avg 3 meses  Qtd PPs A/M/J  ...  Clusters_A  Clusters_B  Clusters_C\n",
              "5     1.0     3.738093            3.0  ...           0           0           1\n",
              "25    1.0     1.287317            4.0  ...           0           0           1\n",
              "50    1.0     3.519453            3.0  ...           0           0           1\n",
              "52    1.0     2.047330            6.0  ...           0           0           1\n",
              "53    1.0     1.298623            2.0  ...           0           0           1\n",
              "\n",
              "[5 rows x 13 columns]"
            ]
          },
          "metadata": {},
          "execution_count": 182
        }
      ]
    },
    {
      "cell_type": "code",
      "metadata": {
        "colab": {
          "base_uri": "https://localhost:8080/"
        },
        "id": "qgp3SwcgbQ5_",
        "outputId": "b451aa2b-681c-479c-d836-12f39c8cdd3c"
      },
      "source": [
        "X_const.shape"
      ],
      "execution_count": null,
      "outputs": [
        {
          "output_type": "execute_result",
          "data": {
            "text/plain": [
              "(41, 13)"
            ]
          },
          "metadata": {},
          "execution_count": 183
        }
      ]
    },
    {
      "cell_type": "markdown",
      "metadata": {
        "id": "gnAra0Iw1LG3"
      },
      "source": [
        "X para prever a variação de vendas "
      ]
    },
    {
      "cell_type": "code",
      "metadata": {
        "id": "jJlqkPjQ1RF8"
      },
      "source": [
        "X_var = X.drop(['Avg 3 meses'], axis=1)"
      ],
      "execution_count": null,
      "outputs": []
    },
    {
      "cell_type": "code",
      "metadata": {
        "id": "KZx-2eon2k9G"
      },
      "source": [
        "X_var = sm.add_constant(X_var)"
      ],
      "execution_count": null,
      "outputs": []
    },
    {
      "cell_type": "code",
      "metadata": {
        "colab": {
          "base_uri": "https://localhost:8080/",
          "height": 261
        },
        "id": "qq9jWpm01v2_",
        "outputId": "23616247-3fa6-4083-fff2-d0bdaa672c45"
      },
      "source": [
        "X_var.head()"
      ],
      "execution_count": null,
      "outputs": [
        {
          "output_type": "execute_result",
          "data": {
            "text/html": [
              "<div>\n",
              "<style scoped>\n",
              "    .dataframe tbody tr th:only-of-type {\n",
              "        vertical-align: middle;\n",
              "    }\n",
              "\n",
              "    .dataframe tbody tr th {\n",
              "        vertical-align: top;\n",
              "    }\n",
              "\n",
              "    .dataframe thead th {\n",
              "        text-align: right;\n",
              "    }\n",
              "</style>\n",
              "<table border=\"1\" class=\"dataframe\">\n",
              "  <thead>\n",
              "    <tr style=\"text-align: right;\">\n",
              "      <th></th>\n",
              "      <th>const</th>\n",
              "      <th>TTC ok (50%)</th>\n",
              "      <th>Total PDV</th>\n",
              "      <th>Qtd PPs A/M/J</th>\n",
              "      <th>Qtd PPs J/A</th>\n",
              "      <th>Var PPs</th>\n",
              "      <th>Promotores</th>\n",
              "      <th>Portas KO?</th>\n",
              "      <th>Portas Ambev?</th>\n",
              "      <th>ALAVANCA_ASR Gôndola</th>\n",
              "      <th>ALAVANCA_ASR Nenhuma</th>\n",
              "      <th>ALAVANCA_ASR Racks</th>\n",
              "      <th>ALAVANCA_ASR Todas</th>\n",
              "      <th>ALAVANCA_ASR Visa</th>\n",
              "      <th>Clusters_A</th>\n",
              "      <th>Clusters_B</th>\n",
              "      <th>Clusters_C</th>\n",
              "    </tr>\n",
              "  </thead>\n",
              "  <tbody>\n",
              "    <tr>\n",
              "      <th>5</th>\n",
              "      <td>1.0</td>\n",
              "      <td>1</td>\n",
              "      <td>1</td>\n",
              "      <td>3.0</td>\n",
              "      <td>5.0</td>\n",
              "      <td>2.0</td>\n",
              "      <td>1</td>\n",
              "      <td>5.0</td>\n",
              "      <td>1.0</td>\n",
              "      <td>0</td>\n",
              "      <td>0</td>\n",
              "      <td>0</td>\n",
              "      <td>0</td>\n",
              "      <td>1</td>\n",
              "      <td>0</td>\n",
              "      <td>0</td>\n",
              "      <td>1</td>\n",
              "    </tr>\n",
              "    <tr>\n",
              "      <th>25</th>\n",
              "      <td>1.0</td>\n",
              "      <td>1</td>\n",
              "      <td>0</td>\n",
              "      <td>4.0</td>\n",
              "      <td>5.0</td>\n",
              "      <td>1.0</td>\n",
              "      <td>1</td>\n",
              "      <td>0.0</td>\n",
              "      <td>0.0</td>\n",
              "      <td>0</td>\n",
              "      <td>0</td>\n",
              "      <td>1</td>\n",
              "      <td>0</td>\n",
              "      <td>0</td>\n",
              "      <td>0</td>\n",
              "      <td>0</td>\n",
              "      <td>1</td>\n",
              "    </tr>\n",
              "    <tr>\n",
              "      <th>50</th>\n",
              "      <td>1.0</td>\n",
              "      <td>1</td>\n",
              "      <td>1</td>\n",
              "      <td>3.0</td>\n",
              "      <td>5.0</td>\n",
              "      <td>2.0</td>\n",
              "      <td>1</td>\n",
              "      <td>1.0</td>\n",
              "      <td>2.0</td>\n",
              "      <td>0</td>\n",
              "      <td>0</td>\n",
              "      <td>0</td>\n",
              "      <td>1</td>\n",
              "      <td>0</td>\n",
              "      <td>0</td>\n",
              "      <td>0</td>\n",
              "      <td>1</td>\n",
              "    </tr>\n",
              "    <tr>\n",
              "      <th>52</th>\n",
              "      <td>1.0</td>\n",
              "      <td>1</td>\n",
              "      <td>1</td>\n",
              "      <td>6.0</td>\n",
              "      <td>4.0</td>\n",
              "      <td>-2.0</td>\n",
              "      <td>0</td>\n",
              "      <td>4.0</td>\n",
              "      <td>1.0</td>\n",
              "      <td>0</td>\n",
              "      <td>0</td>\n",
              "      <td>0</td>\n",
              "      <td>0</td>\n",
              "      <td>1</td>\n",
              "      <td>0</td>\n",
              "      <td>0</td>\n",
              "      <td>1</td>\n",
              "    </tr>\n",
              "    <tr>\n",
              "      <th>53</th>\n",
              "      <td>1.0</td>\n",
              "      <td>0</td>\n",
              "      <td>0</td>\n",
              "      <td>2.0</td>\n",
              "      <td>1.0</td>\n",
              "      <td>-1.0</td>\n",
              "      <td>0</td>\n",
              "      <td>1.0</td>\n",
              "      <td>1.0</td>\n",
              "      <td>0</td>\n",
              "      <td>0</td>\n",
              "      <td>1</td>\n",
              "      <td>0</td>\n",
              "      <td>0</td>\n",
              "      <td>0</td>\n",
              "      <td>0</td>\n",
              "      <td>1</td>\n",
              "    </tr>\n",
              "  </tbody>\n",
              "</table>\n",
              "</div>"
            ],
            "text/plain": [
              "    const  TTC ok (50%)  Total PDV  ...  Clusters_A  Clusters_B  Clusters_C\n",
              "5     1.0             1          1  ...           0           0           1\n",
              "25    1.0             1          0  ...           0           0           1\n",
              "50    1.0             1          1  ...           0           0           1\n",
              "52    1.0             1          1  ...           0           0           1\n",
              "53    1.0             0          0  ...           0           0           1\n",
              "\n",
              "[5 rows x 17 columns]"
            ]
          },
          "metadata": {},
          "execution_count": 83
        }
      ]
    },
    {
      "cell_type": "code",
      "metadata": {
        "colab": {
          "base_uri": "https://localhost:8080/"
        },
        "id": "Ehjp-XAX8-4u",
        "outputId": "beac1ffd-d42a-4ae0-8ce0-d9ed2d6a4edd"
      },
      "source": [
        "X_var.shape"
      ],
      "execution_count": null,
      "outputs": [
        {
          "output_type": "execute_result",
          "data": {
            "text/plain": [
              "(41, 17)"
            ]
          },
          "metadata": {},
          "execution_count": 177
        }
      ]
    },
    {
      "cell_type": "markdown",
      "metadata": {
        "id": "5AZ8DtdLyFLF"
      },
      "source": [
        "Modelo para prevervendas J/A"
      ]
    },
    {
      "cell_type": "code",
      "metadata": {
        "colab": {
          "base_uri": "https://localhost:8080/"
        },
        "id": "z3t1VNjZak6l",
        "outputId": "f59d4751-3a3d-4fc0-f43a-c2d86f42ace9"
      },
      "source": [
        "multmodelin_vendas = sm.OLS(y,X_const)\n",
        "multmodelin_vendas = multmodelin_vendas.fit()\n",
        "print(multmodelin_vendas.summary(alpha=0.15))"
      ],
      "execution_count": null,
      "outputs": [
        {
          "output_type": "stream",
          "name": "stdout",
          "text": [
            "                            OLS Regression Results                            \n",
            "==============================================================================\n",
            "Dep. Variable:                      y   R-squared:                       0.906\n",
            "Model:                            OLS   Adj. R-squared:                  0.875\n",
            "Method:                 Least Squares   F-statistic:                     29.04\n",
            "Date:                Fri, 01 Oct 2021   Prob (F-statistic):           1.00e-12\n",
            "Time:                        17:47:43   Log-Likelihood:                -9.6269\n",
            "No. Observations:                  41   AIC:                             41.25\n",
            "Df Residuals:                      30   BIC:                             60.10\n",
            "Df Model:                          10                                         \n",
            "Covariance Type:            nonrobust                                         \n",
            "========================================================================================\n",
            "                           coef    std err          t      P>|t|      [0.075      0.925]\n",
            "----------------------------------------------------------------------------------------\n",
            "const                   -1.1644      0.248     -4.686      0.000      -1.531      -0.797\n",
            "Avg 3 meses              0.0760      0.023      3.369      0.002       0.043       0.109\n",
            "Qtd PPs A/M/J            0.0784      0.049      1.611      0.118       0.006       0.150\n",
            "Qtd PPs J/A              0.1805      0.063      2.888      0.007       0.088       0.273\n",
            "Portas Ambev?            0.2034      0.096      2.117      0.043       0.061       0.345\n",
            "ALAVANCA_ASR Gôndola    -0.0835      0.201     -0.416      0.680      -0.380       0.213\n",
            "ALAVANCA_ASR Nenhuma    -0.1325      0.099     -1.339      0.191      -0.279       0.014\n",
            "ALAVANCA_ASR Racks      -0.4306      0.131     -3.298      0.003      -0.624      -0.238\n",
            "ALAVANCA_ASR Todas      -0.3366      0.139     -2.417      0.022      -0.542      -0.131\n",
            "ALAVANCA_ASR Visa       -0.1812      0.129     -1.408      0.169      -0.371       0.009\n",
            "Clusters_A              -0.2707      0.275     -0.985      0.332      -0.677       0.135\n",
            "Clusters_B              -0.1428      0.117     -1.216      0.234      -0.316       0.031\n",
            "Clusters_C              -0.7509      0.130     -5.788      0.000      -0.943      -0.559\n",
            "==============================================================================\n",
            "Omnibus:                        1.123   Durbin-Watson:                   2.136\n",
            "Prob(Omnibus):                  0.570   Jarque-Bera (JB):                1.117\n",
            "Skew:                          -0.283   Prob(JB):                        0.572\n",
            "Kurtosis:                       2.422   Cond. No.                     1.98e+17\n",
            "==============================================================================\n",
            "\n",
            "Warnings:\n",
            "[1] Standard Errors assume that the covariance matrix of the errors is correctly specified.\n",
            "[2] The smallest eigenvalue is 1.26e-31. This might indicate that there are\n",
            "strong multicollinearity problems or that the design matrix is singular.\n"
          ]
        }
      ]
    },
    {
      "cell_type": "markdown",
      "metadata": {
        "id": "YJntF6Ex17lH"
      },
      "source": [
        "Modelo para prever variação vendas"
      ]
    },
    {
      "cell_type": "code",
      "metadata": {
        "colab": {
          "base_uri": "https://localhost:8080/"
        },
        "id": "bYy0tIbZ2CyR",
        "outputId": "2abc742b-dea3-4b90-a405-860fb898e286"
      },
      "source": [
        "multmodelin_vendas_var = sm.OLS(y_var,X_var)\n",
        "multmodelin_vendas_var = multmodelin_vendas_var.fit()\n",
        "print(multmodelin_vendas_var.summary(alpha=0.15))"
      ],
      "execution_count": null,
      "outputs": [
        {
          "output_type": "stream",
          "name": "stdout",
          "text": [
            "                            OLS Regression Results                            \n",
            "==============================================================================\n",
            "Dep. Variable:                      y   R-squared:                       0.360\n",
            "Model:                            OLS   Adj. R-squared:                  0.052\n",
            "Method:                 Least Squares   F-statistic:                     1.168\n",
            "Date:                Fri, 01 Oct 2021   Prob (F-statistic):              0.352\n",
            "Time:                        17:39:58   Log-Likelihood:                -49.029\n",
            "No. Observations:                  41   AIC:                             126.1\n",
            "Df Residuals:                      27   BIC:                             150.0\n",
            "Df Model:                          13                                         \n",
            "Covariance Type:            nonrobust                                         \n",
            "========================================================================================\n",
            "                           coef    std err          t      P>|t|      [0.075      0.925]\n",
            "----------------------------------------------------------------------------------------\n",
            "const                   -1.2756      0.736     -1.733      0.095      -2.366      -0.185\n",
            "TTC ok (50%)            -0.1125      0.529     -0.212      0.833      -0.897       0.672\n",
            "Total PDV               -0.1606      0.460     -0.349      0.730      -0.842       0.521\n",
            "Qtd PPs A/M/J            0.0581      0.086      0.678      0.503      -0.069       0.185\n",
            "Qtd PPs J/A              0.2634      0.111      2.376      0.025       0.099       0.428\n",
            "Var PPs                  0.2053      0.092      2.241      0.033       0.070       0.341\n",
            "Promotores              -0.6357      0.448     -1.418      0.167      -1.300       0.028\n",
            "Portas KO?               0.1463      0.127      1.152      0.260      -0.042       0.334\n",
            "Portas Ambev?            0.3192      0.306      1.044      0.306      -0.134       0.772\n",
            "ALAVANCA_ASR Gôndola     0.3560      0.542      0.657      0.517      -0.447       1.159\n",
            "ALAVANCA_ASR Nenhuma    -0.6747      0.369     -1.830      0.078      -1.221      -0.128\n",
            "ALAVANCA_ASR Racks      -0.1312      0.379     -0.346      0.732      -0.693       0.431\n",
            "ALAVANCA_ASR Todas      -0.5436      0.437     -1.245      0.224      -1.191       0.104\n",
            "ALAVANCA_ASR Visa       -0.2822      0.434     -0.650      0.521      -0.925       0.361\n",
            "Clusters_A              -1.1010      0.536     -2.055      0.050      -1.895      -0.307\n",
            "Clusters_B              -0.2669      0.345     -0.774      0.446      -0.778       0.244\n",
            "Clusters_C               0.0923      0.262      0.352      0.727      -0.296       0.480\n",
            "==============================================================================\n",
            "Omnibus:                        1.344   Durbin-Watson:                   2.705\n",
            "Prob(Omnibus):                  0.511   Jarque-Bera (JB):                0.560\n",
            "Skew:                           0.209   Prob(JB):                        0.756\n",
            "Kurtosis:                       3.391   Cond. No.                     1.84e+17\n",
            "==============================================================================\n",
            "\n",
            "Warnings:\n",
            "[1] Standard Errors assume that the covariance matrix of the errors is correctly specified.\n",
            "[2] The smallest eigenvalue is 6.56e-32. This might indicate that there are\n",
            "strong multicollinearity problems or that the design matrix is singular.\n"
          ]
        }
      ]
    },
    {
      "cell_type": "markdown",
      "metadata": {
        "id": "RW3oyG_D3aP_"
      },
      "source": [
        "Analise de erro do modelo com previsão de vendas J/A"
      ]
    },
    {
      "cell_type": "code",
      "metadata": {
        "id": "UdxHsNDoOVRf"
      },
      "source": [
        "from sklearn.metrics import mean_squared_error"
      ],
      "execution_count": null,
      "outputs": []
    },
    {
      "cell_type": "code",
      "metadata": {
        "colab": {
          "base_uri": "https://localhost:8080/"
        },
        "id": "SSa-0E6nOpYO",
        "outputId": "74fe9312-0ea4-4f24-bf5f-667819ca7238"
      },
      "source": [
        "ago_asr['Avg Alavanca'].mean()"
      ],
      "execution_count": null,
      "outputs": [
        {
          "output_type": "execute_result",
          "data": {
            "text/plain": [
              "5.913056829268292"
            ]
          },
          "metadata": {},
          "execution_count": 87
        }
      ]
    },
    {
      "cell_type": "code",
      "metadata": {
        "colab": {
          "base_uri": "https://localhost:8080/",
          "height": 175
        },
        "id": "EkrfQ2yqNaUH",
        "outputId": "fa2ca04c-d434-4201-f6a5-77b818003219"
      },
      "source": [
        "# Media de vendas para cada cluster\n",
        "ago_asr.groupby('Clusters').agg([np.mean,np.count_nonzero])['Avg Alavanca']"
      ],
      "execution_count": null,
      "outputs": [
        {
          "output_type": "execute_result",
          "data": {
            "text/html": [
              "<div>\n",
              "<style scoped>\n",
              "    .dataframe tbody tr th:only-of-type {\n",
              "        vertical-align: middle;\n",
              "    }\n",
              "\n",
              "    .dataframe tbody tr th {\n",
              "        vertical-align: top;\n",
              "    }\n",
              "\n",
              "    .dataframe thead th {\n",
              "        text-align: right;\n",
              "    }\n",
              "</style>\n",
              "<table border=\"1\" class=\"dataframe\">\n",
              "  <thead>\n",
              "    <tr style=\"text-align: right;\">\n",
              "      <th></th>\n",
              "      <th>mean</th>\n",
              "      <th>count_nonzero</th>\n",
              "    </tr>\n",
              "    <tr>\n",
              "      <th>Clusters</th>\n",
              "      <th></th>\n",
              "      <th></th>\n",
              "    </tr>\n",
              "  </thead>\n",
              "  <tbody>\n",
              "    <tr>\n",
              "      <th>A</th>\n",
              "      <td>14.571439</td>\n",
              "      <td>7.0</td>\n",
              "    </tr>\n",
              "    <tr>\n",
              "      <th>B</th>\n",
              "      <td>7.791370</td>\n",
              "      <td>11.0</td>\n",
              "    </tr>\n",
              "    <tr>\n",
              "      <th>C</th>\n",
              "      <td>2.379573</td>\n",
              "      <td>23.0</td>\n",
              "    </tr>\n",
              "  </tbody>\n",
              "</table>\n",
              "</div>"
            ],
            "text/plain": [
              "               mean  count_nonzero\n",
              "Clusters                          \n",
              "A         14.571439            7.0\n",
              "B          7.791370           11.0\n",
              "C          2.379573           23.0"
            ]
          },
          "metadata": {},
          "execution_count": 88
        }
      ]
    },
    {
      "cell_type": "code",
      "metadata": {
        "colab": {
          "base_uri": "https://localhost:8080/"
        },
        "id": "b-ow7ZJJOCJ6",
        "outputId": "860abac2-2adf-4c34-dcd8-3cbe29d5daae"
      },
      "source": [
        "mean_squared_error(y, multmodelin_vendas.predict(X_const))"
      ],
      "execution_count": null,
      "outputs": [
        {
          "output_type": "execute_result",
          "data": {
            "text/plain": [
              "0.09364139865933584"
            ]
          },
          "metadata": {},
          "execution_count": 89
        }
      ]
    },
    {
      "cell_type": "code",
      "metadata": {
        "colab": {
          "base_uri": "https://localhost:8080/"
        },
        "id": "INYR9n6vPMHB",
        "outputId": "c03c3077-2d3b-42ff-fc4c-0da19935592c"
      },
      "source": [
        "erro_pct = mean_squared_error(y, multmodelin_vendas.predict(X_const))/ago_asr['Avg Alavanca'].mean()\n",
        "erro_pct*100"
      ],
      "execution_count": null,
      "outputs": [
        {
          "output_type": "execute_result",
          "data": {
            "text/plain": [
              "1.5836377251751095"
            ]
          },
          "metadata": {},
          "execution_count": 90
        }
      ]
    },
    {
      "cell_type": "code",
      "metadata": {
        "id": "qRBpZduOODMT"
      },
      "source": [
        "erro_test = y - multmodelin_vendas.predict(X_const)"
      ],
      "execution_count": null,
      "outputs": []
    },
    {
      "cell_type": "code",
      "metadata": {
        "colab": {
          "base_uri": "https://localhost:8080/",
          "height": 281
        },
        "id": "2g7UTrFkM_1p",
        "outputId": "d8fbc7fd-25c0-462b-dd51-2aaeb0312cae"
      },
      "source": [
        "plt.scatter(multmodelin_vendas.predict(X_const), erro_test)\n",
        "plt.axhline(0, color='r')\n",
        "plt.xlabel('y')\n",
        "plt.ylabel('erro')\n",
        "plt.show()"
      ],
      "execution_count": null,
      "outputs": [
        {
          "output_type": "display_data",
          "data": {
            "image/png": "[encoded data removed]",
            "text/plain": [
              "<Figure size 432x288 with 1 Axes>"
            ]
          },
          "metadata": {
            "needs_background": "light"
          }
        }
      ]
    },
    {
      "cell_type": "code",
      "metadata": {
        "colab": {
          "base_uri": "https://localhost:8080/",
          "height": 376
        },
        "id": "8cc1P-GcOcZf",
        "outputId": "8cac9302-a598-4211-836c-0713d31714df"
      },
      "source": [
        "plt.figure(figsize=(6,6))\n",
        "sns.scatterplot(x=y, y=multmodelin_vendas.predict(X_const) )\n",
        "plt.show()"
      ],
      "execution_count": null,
      "outputs": [
        {
          "output_type": "display_data",
          "data": {
            "image/png": "[encoded data removed]",
            "text/plain": [
              "<Figure size 432x432 with 1 Axes>"
            ]
          },
          "metadata": {
            "needs_background": "light"
          }
        }
      ]
    },
    {
      "cell_type": "code",
      "metadata": {
        "id": "n1rLwg_bAs72"
      },
      "source": [
        "#construindo o X para verificas as variações de volumes com base nas variações dos dados de entrada\n",
        "pred_asr = pd.read_csv('/content/drive/Shareddrives/MO PROYECTOS CONSULTORIA/GUA UN 167 - 2020.12.PPF.PEP.GUA/2. Ejecucion/4. Piloto/Arquivo Vendas/Analises/predict_sales_ago.csv', encoding='cp1252')"
      ],
      "execution_count": null,
      "outputs": []
    },
    {
      "cell_type": "code",
      "metadata": {
        "id": "nEpROq_yTe1V",
        "colab": {
          "base_uri": "https://localhost:8080/",
          "height": 261
        },
        "outputId": "e717d164-d35d-430a-a089-3afa4bb22268"
      },
      "source": [
        "pred_asr.head()"
      ],
      "execution_count": null,
      "outputs": [
        {
          "output_type": "execute_result",
          "data": {
            "text/html": [
              "<div>\n",
              "<style scoped>\n",
              "    .dataframe tbody tr th:only-of-type {\n",
              "        vertical-align: middle;\n",
              "    }\n",
              "\n",
              "    .dataframe tbody tr th {\n",
              "        vertical-align: top;\n",
              "    }\n",
              "\n",
              "    .dataframe thead th {\n",
              "        text-align: right;\n",
              "    }\n",
              "</style>\n",
              "<table border=\"1\" class=\"dataframe\">\n",
              "  <thead>\n",
              "    <tr style=\"text-align: right;\">\n",
              "      <th></th>\n",
              "      <th>const</th>\n",
              "      <th>Avg 3 meses</th>\n",
              "      <th>Qtd PPs A/M/J</th>\n",
              "      <th>Qtd PPs J/A</th>\n",
              "      <th>Portas Ambev?</th>\n",
              "      <th>ALAVANCA_ASR Gôndola</th>\n",
              "      <th>ALAVANCA_ASR Nenhuma</th>\n",
              "      <th>ALAVANCA_ASR Racks</th>\n",
              "      <th>ALAVANCA_ASR Todas</th>\n",
              "      <th>ALAVANCA_ASR Visa</th>\n",
              "      <th>Clusters_A</th>\n",
              "      <th>Clusters_B</th>\n",
              "      <th>Clusters_C</th>\n",
              "    </tr>\n",
              "  </thead>\n",
              "  <tbody>\n",
              "    <tr>\n",
              "      <th>0</th>\n",
              "      <td>1</td>\n",
              "      <td>14.571439</td>\n",
              "      <td>4</td>\n",
              "      <td>4</td>\n",
              "      <td>1</td>\n",
              "      <td>0</td>\n",
              "      <td>1</td>\n",
              "      <td>0</td>\n",
              "      <td>0</td>\n",
              "      <td>0</td>\n",
              "      <td>1</td>\n",
              "      <td>0</td>\n",
              "      <td>0</td>\n",
              "    </tr>\n",
              "    <tr>\n",
              "      <th>1</th>\n",
              "      <td>1</td>\n",
              "      <td>7.791370</td>\n",
              "      <td>4</td>\n",
              "      <td>4</td>\n",
              "      <td>1</td>\n",
              "      <td>0</td>\n",
              "      <td>1</td>\n",
              "      <td>0</td>\n",
              "      <td>0</td>\n",
              "      <td>0</td>\n",
              "      <td>0</td>\n",
              "      <td>1</td>\n",
              "      <td>0</td>\n",
              "    </tr>\n",
              "    <tr>\n",
              "      <th>2</th>\n",
              "      <td>1</td>\n",
              "      <td>2.379573</td>\n",
              "      <td>4</td>\n",
              "      <td>4</td>\n",
              "      <td>1</td>\n",
              "      <td>0</td>\n",
              "      <td>1</td>\n",
              "      <td>0</td>\n",
              "      <td>0</td>\n",
              "      <td>0</td>\n",
              "      <td>0</td>\n",
              "      <td>0</td>\n",
              "      <td>1</td>\n",
              "    </tr>\n",
              "    <tr>\n",
              "      <th>3</th>\n",
              "      <td>1</td>\n",
              "      <td>14.571439</td>\n",
              "      <td>4</td>\n",
              "      <td>4</td>\n",
              "      <td>1</td>\n",
              "      <td>0</td>\n",
              "      <td>0</td>\n",
              "      <td>1</td>\n",
              "      <td>0</td>\n",
              "      <td>0</td>\n",
              "      <td>1</td>\n",
              "      <td>0</td>\n",
              "      <td>0</td>\n",
              "    </tr>\n",
              "    <tr>\n",
              "      <th>4</th>\n",
              "      <td>1</td>\n",
              "      <td>7.791370</td>\n",
              "      <td>4</td>\n",
              "      <td>4</td>\n",
              "      <td>1</td>\n",
              "      <td>0</td>\n",
              "      <td>0</td>\n",
              "      <td>1</td>\n",
              "      <td>0</td>\n",
              "      <td>0</td>\n",
              "      <td>0</td>\n",
              "      <td>1</td>\n",
              "      <td>0</td>\n",
              "    </tr>\n",
              "  </tbody>\n",
              "</table>\n",
              "</div>"
            ],
            "text/plain": [
              "   const  Avg 3 meses  Qtd PPs A/M/J  ...  Clusters_A  Clusters_B  Clusters_C\n",
              "0      1    14.571439              4  ...           1           0           0\n",
              "1      1     7.791370              4  ...           0           1           0\n",
              "2      1     2.379573              4  ...           0           0           1\n",
              "3      1    14.571439              4  ...           1           0           0\n",
              "4      1     7.791370              4  ...           0           1           0\n",
              "\n",
              "[5 rows x 13 columns]"
            ]
          },
          "metadata": {},
          "execution_count": 174
        }
      ]
    },
    {
      "cell_type": "code",
      "metadata": {
        "colab": {
          "base_uri": "https://localhost:8080/"
        },
        "id": "R-rtbqRc9M7l",
        "outputId": "26a7bdfd-8501-415a-ec3f-8e811e68545b"
      },
      "source": [
        "pred_asr.shape"
      ],
      "execution_count": null,
      "outputs": [
        {
          "output_type": "execute_result",
          "data": {
            "text/plain": [
              "(42, 13)"
            ]
          },
          "metadata": {},
          "execution_count": 178
        }
      ]
    },
    {
      "cell_type": "code",
      "metadata": {
        "id": "OTAdP5THSlM_"
      },
      "source": [
        "vendas_pred_asr = multmodelin_vendas.predict(pred_asr)"
      ],
      "execution_count": null,
      "outputs": []
    },
    {
      "cell_type": "code",
      "metadata": {
        "id": "BO21QpMlUTRS",
        "colab": {
          "base_uri": "https://localhost:8080/"
        },
        "outputId": "f77d3337-9dc4-4615-b5a8-fc742fd31e28"
      },
      "source": [
        "vendas_pred_asr.shape"
      ],
      "execution_count": null,
      "outputs": [
        {
          "output_type": "execute_result",
          "data": {
            "text/plain": [
              "(42,)"
            ]
          },
          "metadata": {},
          "execution_count": 186
        }
      ]
    },
    {
      "cell_type": "code",
      "metadata": {
        "id": "2aOQraUEvs8L"
      },
      "source": [
        "vendas_pred_asr_rs = vendas_pred_asr.to_numpy()\n",
        "vendas_pred_asr_rs = vendas_pred_asr_rs.reshape(-1,1)\n",
        "vendas_reais = pt.inverse_transform(vendas_pred_asr_rs)"
      ],
      "execution_count": null,
      "outputs": []
    },
    {
      "cell_type": "code",
      "metadata": {
        "id": "JRtwsslWv12y",
        "colab": {
          "base_uri": "https://localhost:8080/"
        },
        "outputId": "1bb761bc-8b01-4e8b-8934-110996b74143"
      },
      "source": [
        "vendas_reais"
      ],
      "execution_count": null,
      "outputs": [
        {
          "output_type": "execute_result",
          "data": {
            "text/plain": [
              "array([[2.0725119 ],\n",
              "       [1.52549777],\n",
              "       [0.67616923],\n",
              "       [1.63565938],\n",
              "       [1.21002734],\n",
              "       [0.51750534],\n",
              "       [1.76101645],\n",
              "       [1.30168487],\n",
              "       [0.56458383],\n",
              "       [1.99277165],\n",
              "       [1.46872638],\n",
              "       [0.64830349],\n",
              "       [2.40309161],\n",
              "       [1.75717317],\n",
              "       [0.78695982],\n",
              "       [2.8013052 ],\n",
              "       [2.02874856],\n",
              "       [0.91122206],\n",
              "       [3.28880629],\n",
              "       [2.35081724],\n",
              "       [1.05142368],\n",
              "       [2.0725119 ],\n",
              "       [1.52549777],\n",
              "       [0.67616923],\n",
              "       [1.79427469],\n",
              "       [1.32584658],\n",
              "       [0.57685708],\n",
              "       [1.55729658],\n",
              "       [1.15225138],\n",
              "       [0.48739722],\n",
              "       [1.35336226],\n",
              "       [1.00011309],\n",
              "       [0.40645069],\n",
              "       [2.4494963 ],\n",
              "       [1.78923274],\n",
              "       [0.80193473],\n",
              "       [2.91552424],\n",
              "       [2.10520518],\n",
              "       [0.94518239],\n",
              "       [1.76211415],\n",
              "       [1.30248337],\n",
              "       [0.56499034]])"
            ]
          },
          "metadata": {},
          "execution_count": 188
        }
      ]
    },
    {
      "cell_type": "markdown",
      "metadata": {
        "id": "re5tHj5CJ9f6"
      },
      "source": [
        "**FER OFF** "
      ]
    },
    {
      "cell_type": "code",
      "metadata": {
        "colab": {
          "base_uri": "https://localhost:8080/",
          "height": 365
        },
        "id": "9HjDxcuAK0-3",
        "outputId": "f27c42c1-c1b0-452f-ec48-b63f7d268dec"
      },
      "source": [
        "ago_fer.head()"
      ],
      "execution_count": null,
      "outputs": [
        {
          "output_type": "execute_result",
          "data": {
            "text/html": [
              "<div>\n",
              "<style scoped>\n",
              "    .dataframe tbody tr th:only-of-type {\n",
              "        vertical-align: middle;\n",
              "    }\n",
              "\n",
              "    .dataframe tbody tr th {\n",
              "        vertical-align: top;\n",
              "    }\n",
              "\n",
              "    .dataframe thead th {\n",
              "        text-align: right;\n",
              "    }\n",
              "</style>\n",
              "<table border=\"1\" class=\"dataframe\">\n",
              "  <thead>\n",
              "    <tr style=\"text-align: right;\">\n",
              "      <th></th>\n",
              "      <th>COD_PDV</th>\n",
              "      <th>CANAL</th>\n",
              "      <th>ALAVANCA</th>\n",
              "      <th>Status Auditoria</th>\n",
              "      <th>TTC ok (50%)</th>\n",
              "      <th>Total PDV</th>\n",
              "      <th>Sub_seg</th>\n",
              "      <th>Avg 3 meses</th>\n",
              "      <th>Avg Alavanca</th>\n",
              "      <th>Vendas todos os meses?</th>\n",
              "      <th>Qtd PPs A/M/J</th>\n",
              "      <th>Qtd PPs J/A</th>\n",
              "      <th>Var PPs</th>\n",
              "      <th>Status Alavanca</th>\n",
              "      <th>Promotores</th>\n",
              "      <th>RNs</th>\n",
              "      <th>Portas KO?</th>\n",
              "      <th>Portas Ambev?</th>\n",
              "      <th>Clusters</th>\n",
              "    </tr>\n",
              "  </thead>\n",
              "  <tbody>\n",
              "    <tr>\n",
              "      <th>0</th>\n",
              "      <td>17872</td>\n",
              "      <td>FER OFF</td>\n",
              "      <td>Interior</td>\n",
              "      <td>OK</td>\n",
              "      <td>OK</td>\n",
              "      <td>NOK</td>\n",
              "      <td>Mercearia</td>\n",
              "      <td>1.576197</td>\n",
              "      <td>1.174495</td>\n",
              "      <td>5</td>\n",
              "      <td>3.0</td>\n",
              "      <td>3.0</td>\n",
              "      <td>0.0</td>\n",
              "      <td>OK</td>\n",
              "      <td>0</td>\n",
              "      <td>219</td>\n",
              "      <td>1.0</td>\n",
              "      <td>1.0</td>\n",
              "      <td>A</td>\n",
              "    </tr>\n",
              "    <tr>\n",
              "      <th>4</th>\n",
              "      <td>17599</td>\n",
              "      <td>FER ON</td>\n",
              "      <td>Exterior</td>\n",
              "      <td>OK</td>\n",
              "      <td>OK</td>\n",
              "      <td>NOK</td>\n",
              "      <td>Lanchonete</td>\n",
              "      <td>0.132813</td>\n",
              "      <td>0.197000</td>\n",
              "      <td>5</td>\n",
              "      <td>1.0</td>\n",
              "      <td>3.0</td>\n",
              "      <td>2.0</td>\n",
              "      <td>OK</td>\n",
              "      <td>0</td>\n",
              "      <td>219</td>\n",
              "      <td>1.0</td>\n",
              "      <td>2.0</td>\n",
              "      <td>C</td>\n",
              "    </tr>\n",
              "    <tr>\n",
              "      <th>6</th>\n",
              "      <td>79572</td>\n",
              "      <td>FER OFF</td>\n",
              "      <td>Interior</td>\n",
              "      <td>OK</td>\n",
              "      <td>OK</td>\n",
              "      <td>NOK</td>\n",
              "      <td>Mercearia</td>\n",
              "      <td>1.457993</td>\n",
              "      <td>1.637990</td>\n",
              "      <td>5</td>\n",
              "      <td>3.0</td>\n",
              "      <td>4.0</td>\n",
              "      <td>1.0</td>\n",
              "      <td>OK</td>\n",
              "      <td>0</td>\n",
              "      <td>219</td>\n",
              "      <td>2.0</td>\n",
              "      <td>1.0</td>\n",
              "      <td>A</td>\n",
              "    </tr>\n",
              "    <tr>\n",
              "      <th>9</th>\n",
              "      <td>18214</td>\n",
              "      <td>FER OFF</td>\n",
              "      <td>Interior</td>\n",
              "      <td>OK</td>\n",
              "      <td>OK</td>\n",
              "      <td>NOK</td>\n",
              "      <td>Mercearia</td>\n",
              "      <td>0.595920</td>\n",
              "      <td>0.477000</td>\n",
              "      <td>5</td>\n",
              "      <td>2.0</td>\n",
              "      <td>2.0</td>\n",
              "      <td>0.0</td>\n",
              "      <td>OK</td>\n",
              "      <td>0</td>\n",
              "      <td>219</td>\n",
              "      <td>3.0</td>\n",
              "      <td>0.0</td>\n",
              "      <td>B</td>\n",
              "    </tr>\n",
              "    <tr>\n",
              "      <th>10</th>\n",
              "      <td>18354</td>\n",
              "      <td>FER ON</td>\n",
              "      <td>Interior</td>\n",
              "      <td>OK</td>\n",
              "      <td>NOK</td>\n",
              "      <td>NOK</td>\n",
              "      <td>Restaurante</td>\n",
              "      <td>0.398620</td>\n",
              "      <td>0.497215</td>\n",
              "      <td>5</td>\n",
              "      <td>2.0</td>\n",
              "      <td>4.0</td>\n",
              "      <td>2.0</td>\n",
              "      <td>OK</td>\n",
              "      <td>0</td>\n",
              "      <td>219</td>\n",
              "      <td>1.0</td>\n",
              "      <td>0.0</td>\n",
              "      <td>C</td>\n",
              "    </tr>\n",
              "  </tbody>\n",
              "</table>\n",
              "</div>"
            ],
            "text/plain": [
              "    COD_PDV    CANAL  ALAVANCA  ... Portas KO? Portas Ambev? Clusters\n",
              "0     17872  FER OFF  Interior  ...        1.0           1.0        A\n",
              "4     17599   FER ON  Exterior  ...        1.0           2.0        C\n",
              "6     79572  FER OFF  Interior  ...        2.0           1.0        A\n",
              "9     18214  FER OFF  Interior  ...        3.0           0.0        B\n",
              "10    18354   FER ON  Interior  ...        1.0           0.0        C\n",
              "\n",
              "[5 rows x 19 columns]"
            ]
          },
          "metadata": {},
          "execution_count": 97
        }
      ]
    },
    {
      "cell_type": "code",
      "metadata": {
        "id": "vwlQiSy1GnWD"
      },
      "source": [
        "ago_fer.to_csv(r'/content/drive/Shareddrives/MO PROYECTOS CONSULTORIA/GUA UN 167 - 2020.12.PPF.PEP.GUA/2. Ejecucion/4. Piloto/Analytics/CSVs Python/base_fer.csv', index = False)"
      ],
      "execution_count": null,
      "outputs": []
    },
    {
      "cell_type": "code",
      "metadata": {
        "id": "rLlpZ0AWLpKG"
      },
      "source": [
        "vendas_off = ago_fer['Avg 3 meses']"
      ],
      "execution_count": null,
      "outputs": []
    },
    {
      "cell_type": "code",
      "metadata": {
        "id": "a1ibT_wQz-_r"
      },
      "source": [
        "vendas_fer = ago_fer['Avg 3 meses']"
      ],
      "execution_count": null,
      "outputs": []
    },
    {
      "cell_type": "code",
      "metadata": {
        "colab": {
          "base_uri": "https://localhost:8080/"
        },
        "id": "bTUkP7jmcu_h",
        "outputId": "444fcf51-86ee-4a9f-99ed-a4eb480dec71"
      },
      "source": [
        "vendas_off.shape"
      ],
      "execution_count": null,
      "outputs": [
        {
          "output_type": "execute_result",
          "data": {
            "text/plain": [
              "(180,)"
            ]
          },
          "metadata": {},
          "execution_count": 101
        }
      ]
    },
    {
      "cell_type": "code",
      "metadata": {
        "colab": {
          "base_uri": "https://localhost:8080/",
          "height": 350
        },
        "id": "ZRCr02ynL2bP",
        "outputId": "03640f0a-7279-4460-8189-c94f4c8163a3"
      },
      "source": [
        "sns.distplot(vendas_off)\n",
        "plt.title('vendas')\n",
        "plt.show()"
      ],
      "execution_count": null,
      "outputs": [
        {
          "output_type": "stream",
          "name": "stderr",
          "text": [
            "/usr/local/lib/python3.7/dist-packages/seaborn/distributions.py:2619: FutureWarning: `distplot` is a deprecated function and will be removed in a future version. Please adapt your code to use either `displot` (a figure-level function with similar flexibility) or `histplot` (an axes-level function for histograms).\n",
            "  warnings.warn(msg, FutureWarning)\n"
          ]
        },
        {
          "output_type": "display_data",
          "data": {
            "image/png": "[encoded data removed]",
            "text/plain": [
              "<Figure size 432x288 with 1 Axes>"
            ]
          },
          "metadata": {
            "needs_background": "light"
          }
        }
      ]
    },
    {
      "cell_type": "code",
      "metadata": {
        "id": "-hELI1LFbo7N"
      },
      "source": [
        "vendas_off = vendas_off.to_numpy()\n",
        "vendas_off = vendas_off.reshape(-1,1)\n",
        "fit_transf_off = pt.fit(vendas_off)\n",
        "transformed_data_yeo_off = pt.transform(vendas_off)\n",
        "transformed_data_yeo_off = transformed_data_yeo_off.reshape(180,)"
      ],
      "execution_count": null,
      "outputs": []
    },
    {
      "cell_type": "code",
      "metadata": {
        "id": "oVK76OalMIc8"
      },
      "source": [
        "# Vamos fazer a transformação dessa variável em normal.\n",
        "#transformed_data_yeo_off, lambda_found_yeo_off = scipy.stats.yeojohnson(vendas_off)"
      ],
      "execution_count": null,
      "outputs": []
    },
    {
      "cell_type": "code",
      "metadata": {
        "colab": {
          "base_uri": "https://localhost:8080/",
          "height": 554
        },
        "id": "F2_6pc1yMP8W",
        "outputId": "333f1f6a-e1e2-4675-f12d-77b65e686911"
      },
      "source": [
        "plt.figure(figsize = (8, 8))\n",
        "sns.distplot(transformed_data_yeo_off)\n",
        "plt.title(f'Variável Transformada - Lambda: {pt.lambdas_}')\n",
        "plt.show()"
      ],
      "execution_count": null,
      "outputs": [
        {
          "output_type": "stream",
          "name": "stderr",
          "text": [
            "/usr/local/lib/python3.7/dist-packages/seaborn/distributions.py:2619: FutureWarning: `distplot` is a deprecated function and will be removed in a future version. Please adapt your code to use either `displot` (a figure-level function with similar flexibility) or `histplot` (an axes-level function for histograms).\n",
            "  warnings.warn(msg, FutureWarning)\n"
          ]
        },
        {
          "output_type": "display_data",
          "data": {
            "image/png": "[encoded data removed]",
            "text/plain": [
              "<Figure size 576x576 with 1 Axes>"
            ]
          },
          "metadata": {
            "needs_background": "light"
          }
        }
      ]
    },
    {
      "cell_type": "code",
      "metadata": {
        "id": "DLyhsZhPMY4N"
      },
      "source": [
        "y_off = transformed_data_yeo_off"
      ],
      "execution_count": null,
      "outputs": []
    },
    {
      "cell_type": "code",
      "metadata": {
        "colab": {
          "base_uri": "https://localhost:8080/"
        },
        "id": "Pl5_Sy1OsYcC",
        "outputId": "051b1bf8-cb00-45ea-e473-43fb4069a09e"
      },
      "source": [
        "y_off.shape"
      ],
      "execution_count": null,
      "outputs": [
        {
          "output_type": "execute_result",
          "data": {
            "text/plain": [
              "(180,)"
            ]
          },
          "metadata": {},
          "execution_count": 107
        }
      ]
    },
    {
      "cell_type": "code",
      "metadata": {
        "id": "jDfxjd3FMeU2"
      },
      "source": [
        "X_off = ago_fer.drop(['COD_PDV', 'CANAL', 'Status Auditoria', 'Sub_seg', 'Avg Alavanca', \n",
        "                      'Vendas todos os meses?', 'Status Alavanca', 'RNs', 'Promotores'], axis=1)"
      ],
      "execution_count": null,
      "outputs": []
    },
    {
      "cell_type": "code",
      "metadata": {
        "colab": {
          "base_uri": "https://localhost:8080/"
        },
        "id": "ZuROltmdNzya",
        "outputId": "4e6aac15-83a1-4d41-c005-1a8fb862aa86"
      },
      "source": [
        "X_off.dtypes"
      ],
      "execution_count": null,
      "outputs": [
        {
          "output_type": "execute_result",
          "data": {
            "text/plain": [
              "ALAVANCA          object\n",
              "TTC ok (50%)      object\n",
              "Total PDV         object\n",
              "Avg 3 meses      float64\n",
              "Qtd PPs A/M/J    float64\n",
              "Qtd PPs J/A      float64\n",
              "Var PPs          float64\n",
              "Portas KO?       float64\n",
              "Portas Ambev?    float64\n",
              "Clusters          object\n",
              "dtype: object"
            ]
          },
          "metadata": {},
          "execution_count": 109
        }
      ]
    },
    {
      "cell_type": "code",
      "metadata": {
        "id": "AaIRwGPSCafE"
      },
      "source": [
        "X_off['TTC ok (50%)'].replace({ 'OK':1,  'NOK':0}, inplace=True)"
      ],
      "execution_count": null,
      "outputs": []
    },
    {
      "cell_type": "code",
      "metadata": {
        "id": "PfKdC9HGCr2C"
      },
      "source": [
        "X_off['Total PDV'].replace({ 'OK':1,  'NOK':0}, inplace=True)"
      ],
      "execution_count": null,
      "outputs": []
    },
    {
      "cell_type": "code",
      "metadata": {
        "id": "mMKm3TlXCIAM"
      },
      "source": [
        "X_off = pd.get_dummies(X_off)"
      ],
      "execution_count": null,
      "outputs": []
    },
    {
      "cell_type": "code",
      "metadata": {
        "colab": {
          "base_uri": "https://localhost:8080/",
          "height": 584
        },
        "id": "YnL2Yro-IJvh",
        "outputId": "1808982c-0ea3-49a7-d0c0-ce9bd7b5457d"
      },
      "source": [
        "plt.figure(figsize=(10,8))\n",
        "sns.heatmap(X_off.corr(), annot=True)\n",
        "plt.show()"
      ],
      "execution_count": null,
      "outputs": [
        {
          "output_type": "display_data",
          "data": {
            "image/png": "[encoded data removed]",
            "text/plain": [
              "<Figure size 720x576 with 2 Axes>"
            ]
          },
          "metadata": {
            "needs_background": "light"
          }
        }
      ]
    },
    {
      "cell_type": "code",
      "metadata": {
        "id": "bh534qjYxIiK"
      },
      "source": [
        "X_off = X_off.drop(['TTC ok (50%)', 'Portas KO?', 'Var PPs'], axis=1)"
      ],
      "execution_count": null,
      "outputs": []
    },
    {
      "cell_type": "code",
      "metadata": {
        "colab": {
          "base_uri": "https://localhost:8080/"
        },
        "id": "GTquxvWfNOo2",
        "outputId": "1649ebf5-93d6-47bb-84bf-7fbea44ac18e"
      },
      "source": [
        "X_na_object_dmm_off = sm.add_constant(X_off)\n",
        "multmodelin_vendas_off = sm.OLS(y_off,X_na_object_dmm_off)\n",
        "multmodelin_vendas_off = multmodelin_vendas_off.fit()\n",
        "print(multmodelin_vendas_off.summary(alpha=0.15))"
      ],
      "execution_count": null,
      "outputs": [
        {
          "output_type": "stream",
          "name": "stdout",
          "text": [
            "                            OLS Regression Results                            \n",
            "==============================================================================\n",
            "Dep. Variable:                      y   R-squared:                       0.891\n",
            "Model:                            OLS   Adj. R-squared:                  0.885\n",
            "Method:                 Least Squares   F-statistic:                     138.5\n",
            "Date:                Fri, 01 Oct 2021   Prob (F-statistic):           5.60e-76\n",
            "Time:                        17:41:17   Log-Likelihood:                -55.700\n",
            "No. Observations:                 180   AIC:                             133.4\n",
            "Df Residuals:                     169   BIC:                             168.5\n",
            "Df Model:                          10                                         \n",
            "Covariance Type:            nonrobust                                         \n",
            "=====================================================================================\n",
            "                        coef    std err          t      P>|t|      [0.075      0.925]\n",
            "-------------------------------------------------------------------------------------\n",
            "const                -0.8603      0.062    -13.837      0.000      -0.950      -0.770\n",
            "Total PDV             0.1490      0.059      2.507      0.013       0.063       0.235\n",
            "Avg 3 meses           0.4104      0.029     13.958      0.000       0.368       0.453\n",
            "Qtd PPs A/M/J         0.1455      0.033      4.380      0.000       0.097       0.193\n",
            "Qtd PPs J/A           0.0731      0.031      2.380      0.018       0.029       0.117\n",
            "Portas Ambev?         0.0641      0.043      1.500      0.135       0.002       0.126\n",
            "ALAVANCA_Exterior    -0.2722      0.074     -3.670      0.000      -0.379      -0.165\n",
            "ALAVANCA_Interior    -0.1723      0.054     -3.208      0.002      -0.250      -0.095\n",
            "ALAVANCA_Nenhuma     -0.1274      0.046     -2.775      0.006      -0.194      -0.061\n",
            "ALAVANCA_ON Visa     -0.2884      0.089     -3.226      0.002      -0.418      -0.159\n",
            "Clusters_A           -0.1307      0.064     -2.032      0.044      -0.224      -0.038\n",
            "Clusters_B           -0.1553      0.043     -3.598      0.000      -0.218      -0.093\n",
            "Clusters_C           -0.5743      0.047    -12.320      0.000      -0.642      -0.507\n",
            "==============================================================================\n",
            "Omnibus:                        0.230   Durbin-Watson:                   2.039\n",
            "Prob(Omnibus):                  0.891   Jarque-Bera (JB):                0.386\n",
            "Skew:                          -0.036   Prob(JB):                        0.824\n",
            "Kurtosis:                       2.785   Cond. No.                     6.86e+16\n",
            "==============================================================================\n",
            "\n",
            "Warnings:\n",
            "[1] Standard Errors assume that the covariance matrix of the errors is correctly specified.\n",
            "[2] The smallest eigenvalue is 1.03e-30. This might indicate that there are\n",
            "strong multicollinearity problems or that the design matrix is singular.\n"
          ]
        }
      ]
    },
    {
      "cell_type": "code",
      "metadata": {
        "id": "XOl02iTzkYBf"
      },
      "source": [
        "#df_coef_off = pd.read_html(multmodelin_vendas_off.summary().tables[1].as_html(),header=0,index_col=0)[0]\n",
        "#df_coef_off"
      ],
      "execution_count": null,
      "outputs": []
    },
    {
      "cell_type": "code",
      "metadata": {
        "colab": {
          "base_uri": "https://localhost:8080/",
          "height": 175
        },
        "id": "9jgm0I81dvYu",
        "outputId": "af4aafd0-aef0-4975-8ef9-2f7fb494a5a7"
      },
      "source": [
        "# Media de vendas para cada cluster\n",
        "ago_fer.groupby('Clusters').agg([np.mean, np.count_nonzero])['Avg Alavanca']"
      ],
      "execution_count": null,
      "outputs": [
        {
          "output_type": "execute_result",
          "data": {
            "text/html": [
              "<div>\n",
              "<style scoped>\n",
              "    .dataframe tbody tr th:only-of-type {\n",
              "        vertical-align: middle;\n",
              "    }\n",
              "\n",
              "    .dataframe tbody tr th {\n",
              "        vertical-align: top;\n",
              "    }\n",
              "\n",
              "    .dataframe thead th {\n",
              "        text-align: right;\n",
              "    }\n",
              "</style>\n",
              "<table border=\"1\" class=\"dataframe\">\n",
              "  <thead>\n",
              "    <tr style=\"text-align: right;\">\n",
              "      <th></th>\n",
              "      <th>mean</th>\n",
              "      <th>count_nonzero</th>\n",
              "    </tr>\n",
              "    <tr>\n",
              "      <th>Clusters</th>\n",
              "      <th></th>\n",
              "      <th></th>\n",
              "    </tr>\n",
              "  </thead>\n",
              "  <tbody>\n",
              "    <tr>\n",
              "      <th>A</th>\n",
              "      <td>3.043281</td>\n",
              "      <td>42.0</td>\n",
              "    </tr>\n",
              "    <tr>\n",
              "      <th>B</th>\n",
              "      <td>1.424962</td>\n",
              "      <td>61.0</td>\n",
              "    </tr>\n",
              "    <tr>\n",
              "      <th>C</th>\n",
              "      <td>0.725467</td>\n",
              "      <td>77.0</td>\n",
              "    </tr>\n",
              "  </tbody>\n",
              "</table>\n",
              "</div>"
            ],
            "text/plain": [
              "              mean  count_nonzero\n",
              "Clusters                         \n",
              "A         3.043281           42.0\n",
              "B         1.424962           61.0\n",
              "C         0.725467           77.0"
            ]
          },
          "metadata": {},
          "execution_count": 117
        }
      ]
    },
    {
      "cell_type": "code",
      "metadata": {
        "colab": {
          "base_uri": "https://localhost:8080/"
        },
        "id": "aKCuKQGT03pI",
        "outputId": "13b09e02-1fc7-4146-fa7d-1fee5fde516a"
      },
      "source": [
        "mean_squared_error(y_off, multmodelin_vendas_off.predict(X_na_object_dmm_off))"
      ],
      "execution_count": null,
      "outputs": [
        {
          "output_type": "execute_result",
          "data": {
            "text/plain": [
              "0.10871892563098773"
            ]
          },
          "metadata": {},
          "execution_count": 118
        }
      ]
    },
    {
      "cell_type": "code",
      "metadata": {
        "colab": {
          "base_uri": "https://localhost:8080/"
        },
        "id": "fgRY4zV41Qr5",
        "outputId": "0a55b592-108f-418b-c358-43d52cf43147"
      },
      "source": [
        "erro_pct_off = mean_squared_error(y_off, multmodelin_vendas_off.predict(X_na_object_dmm_off))/ago_fer['Avg Alavanca'].mean()\n",
        "erro_pct_off*100"
      ],
      "execution_count": null,
      "outputs": [
        {
          "output_type": "execute_result",
          "data": {
            "text/plain": [
              "7.231818027594597"
            ]
          },
          "metadata": {},
          "execution_count": 119
        }
      ]
    },
    {
      "cell_type": "code",
      "metadata": {
        "id": "qcN2jlfo1eTp"
      },
      "source": [
        "erro_test_off = y_off - multmodelin_vendas_off.predict(X_na_object_dmm_off)"
      ],
      "execution_count": null,
      "outputs": []
    },
    {
      "cell_type": "code",
      "metadata": {
        "colab": {
          "base_uri": "https://localhost:8080/",
          "height": 283
        },
        "id": "fLbjvn2o1pZJ",
        "outputId": "11624cfd-64f3-40df-c5c0-505306d2e96a"
      },
      "source": [
        "plt.scatter(multmodelin_vendas_off.predict(X_na_object_dmm_off), erro_test_off)\n",
        "plt.axhline(0, color='r')\n",
        "plt.xlabel('y')\n",
        "plt.ylabel('erro')\n",
        "plt.show()"
      ],
      "execution_count": null,
      "outputs": [
        {
          "output_type": "display_data",
          "data": {
            "image/png": "[encoded data removed]",
            "text/plain": [
              "<Figure size 432x288 with 1 Axes>"
            ]
          },
          "metadata": {
            "needs_background": "light"
          }
        }
      ]
    },
    {
      "cell_type": "code",
      "metadata": {
        "colab": {
          "base_uri": "https://localhost:8080/",
          "height": 374
        },
        "id": "J6AH2iHk14bP",
        "outputId": "a7725f60-e731-462b-918e-62f1e4a7d123"
      },
      "source": [
        "plt.figure(figsize=(6,6))\n",
        "sns.scatterplot(x=y_off, y=multmodelin_vendas_off.predict(X_na_object_dmm_off) )\n",
        "plt.show()"
      ],
      "execution_count": null,
      "outputs": [
        {
          "output_type": "display_data",
          "data": {
            "image/png": "[encoded data removed]",
            "text/plain": [
              "<Figure size 432x432 with 1 Axes>"
            ]
          },
          "metadata": {
            "needs_background": "light"
          }
        }
      ]
    },
    {
      "cell_type": "code",
      "metadata": {
        "id": "xSz2wpgRd8g5"
      },
      "source": [
        "pred_fer = pd.read_csv('/content/drive/Shareddrives/MO PROYECTOS CONSULTORIA/GUA UN 167 - 2020.12.PPF.PEP.GUA/2. Ejecucion/4. Piloto/Arquivo Vendas/Analises/predict_sales_ago_fer.csv', encoding='cp1252')"
      ],
      "execution_count": null,
      "outputs": []
    },
    {
      "cell_type": "code",
      "metadata": {
        "colab": {
          "base_uri": "https://localhost:8080/",
          "height": 261
        },
        "id": "F4LguNWqkgI5",
        "outputId": "75720b4b-6287-482b-8082-5adc6202aa0b"
      },
      "source": [
        "pred_fer.head()"
      ],
      "execution_count": null,
      "outputs": [
        {
          "output_type": "execute_result",
          "data": {
            "text/html": [
              "<div>\n",
              "<style scoped>\n",
              "    .dataframe tbody tr th:only-of-type {\n",
              "        vertical-align: middle;\n",
              "    }\n",
              "\n",
              "    .dataframe tbody tr th {\n",
              "        vertical-align: top;\n",
              "    }\n",
              "\n",
              "    .dataframe thead th {\n",
              "        text-align: right;\n",
              "    }\n",
              "</style>\n",
              "<table border=\"1\" class=\"dataframe\">\n",
              "  <thead>\n",
              "    <tr style=\"text-align: right;\">\n",
              "      <th></th>\n",
              "      <th>const</th>\n",
              "      <th>Total PDV</th>\n",
              "      <th>Avg 3 meses</th>\n",
              "      <th>Qtd PPs A/M/J</th>\n",
              "      <th>Qtd PPs J/A</th>\n",
              "      <th>Portas Ambev?</th>\n",
              "      <th>ALAVANCA_Exterior</th>\n",
              "      <th>ALAVANCA_Interior</th>\n",
              "      <th>ALAVANCA_Nenhuma</th>\n",
              "      <th>ALAVANCA_ON Visa</th>\n",
              "      <th>Clusters_A</th>\n",
              "      <th>Clusters_B</th>\n",
              "      <th>Clusters_C</th>\n",
              "    </tr>\n",
              "  </thead>\n",
              "  <tbody>\n",
              "    <tr>\n",
              "      <th>0</th>\n",
              "      <td>1</td>\n",
              "      <td>1</td>\n",
              "      <td>3.043281</td>\n",
              "      <td>3</td>\n",
              "      <td>3</td>\n",
              "      <td>1</td>\n",
              "      <td>0</td>\n",
              "      <td>0</td>\n",
              "      <td>1</td>\n",
              "      <td>0</td>\n",
              "      <td>1</td>\n",
              "      <td>0</td>\n",
              "      <td>0</td>\n",
              "    </tr>\n",
              "    <tr>\n",
              "      <th>1</th>\n",
              "      <td>1</td>\n",
              "      <td>1</td>\n",
              "      <td>1.424962</td>\n",
              "      <td>3</td>\n",
              "      <td>3</td>\n",
              "      <td>1</td>\n",
              "      <td>0</td>\n",
              "      <td>0</td>\n",
              "      <td>1</td>\n",
              "      <td>0</td>\n",
              "      <td>0</td>\n",
              "      <td>1</td>\n",
              "      <td>0</td>\n",
              "    </tr>\n",
              "    <tr>\n",
              "      <th>2</th>\n",
              "      <td>1</td>\n",
              "      <td>1</td>\n",
              "      <td>0.725467</td>\n",
              "      <td>3</td>\n",
              "      <td>3</td>\n",
              "      <td>1</td>\n",
              "      <td>0</td>\n",
              "      <td>0</td>\n",
              "      <td>1</td>\n",
              "      <td>0</td>\n",
              "      <td>0</td>\n",
              "      <td>0</td>\n",
              "      <td>1</td>\n",
              "    </tr>\n",
              "    <tr>\n",
              "      <th>3</th>\n",
              "      <td>1</td>\n",
              "      <td>1</td>\n",
              "      <td>3.043281</td>\n",
              "      <td>3</td>\n",
              "      <td>3</td>\n",
              "      <td>1</td>\n",
              "      <td>0</td>\n",
              "      <td>0</td>\n",
              "      <td>0</td>\n",
              "      <td>1</td>\n",
              "      <td>1</td>\n",
              "      <td>0</td>\n",
              "      <td>0</td>\n",
              "    </tr>\n",
              "    <tr>\n",
              "      <th>4</th>\n",
              "      <td>1</td>\n",
              "      <td>1</td>\n",
              "      <td>1.424962</td>\n",
              "      <td>3</td>\n",
              "      <td>3</td>\n",
              "      <td>1</td>\n",
              "      <td>0</td>\n",
              "      <td>0</td>\n",
              "      <td>0</td>\n",
              "      <td>1</td>\n",
              "      <td>0</td>\n",
              "      <td>1</td>\n",
              "      <td>0</td>\n",
              "    </tr>\n",
              "  </tbody>\n",
              "</table>\n",
              "</div>"
            ],
            "text/plain": [
              "   const  Total PDV  Avg 3 meses  ...  Clusters_A  Clusters_B  Clusters_C\n",
              "0      1          1     3.043281  ...           1           0           0\n",
              "1      1          1     1.424962  ...           0           1           0\n",
              "2      1          1     0.725467  ...           0           0           1\n",
              "3      1          1     3.043281  ...           1           0           0\n",
              "4      1          1     1.424962  ...           0           1           0\n",
              "\n",
              "[5 rows x 13 columns]"
            ]
          },
          "metadata": {},
          "execution_count": 124
        }
      ]
    },
    {
      "cell_type": "code",
      "metadata": {
        "id": "XM5tP1pdlNgE"
      },
      "source": [
        "vendas_pred_off = multmodelin_vendas_off.predict(pred_fer)"
      ],
      "execution_count": null,
      "outputs": []
    },
    {
      "cell_type": "code",
      "metadata": {
        "id": "ngv5JwpBlaKV"
      },
      "source": [
        "vendas_pred_off_rs = vendas_pred_off.to_numpy()\n",
        "vendas_pred_off_rs = vendas_pred_off_rs.reshape(-1,1)\n",
        "vendas_reais_off = pt.inverse_transform(vendas_pred_off_rs)"
      ],
      "execution_count": null,
      "outputs": []
    },
    {
      "cell_type": "code",
      "metadata": {
        "colab": {
          "base_uri": "https://localhost:8080/"
        },
        "id": "3B4FSqhllyIE",
        "outputId": "a4a2db23-d909-406f-b073-8a8b1dc55264"
      },
      "source": [
        "vendas_reais_off"
      ],
      "execution_count": null,
      "outputs": [
        {
          "output_type": "execute_result",
          "data": {
            "text/plain": [
              "array([[2.48466264],\n",
              "       [1.43237848],\n",
              "       [0.82117333],\n",
              "       [2.17497281],\n",
              "       [1.26411435],\n",
              "       [0.71851671],\n",
              "       [2.39327724],\n",
              "       [1.38337698],\n",
              "       [0.79153018],\n",
              "       [2.20394112],\n",
              "       [1.28012331],\n",
              "       [0.72839001],\n",
              "       [2.19632226],\n",
              "       [1.27591837],\n",
              "       [0.72579887],\n",
              "       [2.64326024],\n",
              "       [1.51617426],\n",
              "       [0.8713969 ],\n",
              "       [2.81492549],\n",
              "       [1.60515177],\n",
              "       [0.92409357],\n",
              "       [3.00125228],\n",
              "       [1.6997811 ],\n",
              "       [0.979441  ],\n",
              "       [2.33775691],\n",
              "       [1.35334398],\n",
              "       [0.77326038],\n",
              "       [2.20134979],\n",
              "       [1.27869356],\n",
              "       [0.72750915],\n",
              "       [2.62300429],\n",
              "       [1.50555836],\n",
              "       [0.86506647],\n",
              "       [2.77124426],\n",
              "       [1.58267702],\n",
              "       [0.91084356],\n",
              "       [2.35530165],\n",
              "       [1.36285625],\n",
              "       [0.77905533]])"
            ]
          },
          "metadata": {},
          "execution_count": 127
        }
      ]
    },
    {
      "cell_type": "markdown",
      "metadata": {
        "id": "xraBmjNBaGcs"
      },
      "source": [
        "# Arvore de Decisao"
      ]
    },
    {
      "cell_type": "markdown",
      "metadata": {
        "id": "TZPS6RiV-G_Q"
      },
      "source": [
        "Usando para previsão do volume de vendas J/A"
      ]
    },
    {
      "cell_type": "code",
      "metadata": {
        "colab": {
          "base_uri": "https://localhost:8080/",
          "height": 261
        },
        "id": "pdzOUT7zrWXr",
        "outputId": "8d16ff74-3309-4b70-fc49-17da9078ee85"
      },
      "source": [
        "X.head()"
      ],
      "execution_count": null,
      "outputs": [
        {
          "output_type": "execute_result",
          "data": {
            "text/html": [
              "<div>\n",
              "<style scoped>\n",
              "    .dataframe tbody tr th:only-of-type {\n",
              "        vertical-align: middle;\n",
              "    }\n",
              "\n",
              "    .dataframe tbody tr th {\n",
              "        vertical-align: top;\n",
              "    }\n",
              "\n",
              "    .dataframe thead th {\n",
              "        text-align: right;\n",
              "    }\n",
              "</style>\n",
              "<table border=\"1\" class=\"dataframe\">\n",
              "  <thead>\n",
              "    <tr style=\"text-align: right;\">\n",
              "      <th></th>\n",
              "      <th>TTC ok (50%)</th>\n",
              "      <th>Total PDV</th>\n",
              "      <th>Avg 3 meses</th>\n",
              "      <th>Qtd PPs A/M/J</th>\n",
              "      <th>Qtd PPs J/A</th>\n",
              "      <th>Var PPs</th>\n",
              "      <th>Promotores</th>\n",
              "      <th>Portas KO?</th>\n",
              "      <th>Portas Ambev?</th>\n",
              "      <th>ALAVANCA_ASR Gôndola</th>\n",
              "      <th>ALAVANCA_ASR Nenhuma</th>\n",
              "      <th>ALAVANCA_ASR Racks</th>\n",
              "      <th>ALAVANCA_ASR Todas</th>\n",
              "      <th>ALAVANCA_ASR Visa</th>\n",
              "      <th>Clusters_A</th>\n",
              "      <th>Clusters_B</th>\n",
              "      <th>Clusters_C</th>\n",
              "    </tr>\n",
              "  </thead>\n",
              "  <tbody>\n",
              "    <tr>\n",
              "      <th>5</th>\n",
              "      <td>1</td>\n",
              "      <td>1</td>\n",
              "      <td>3.738093</td>\n",
              "      <td>3.0</td>\n",
              "      <td>5.0</td>\n",
              "      <td>2.0</td>\n",
              "      <td>1</td>\n",
              "      <td>5.0</td>\n",
              "      <td>1.0</td>\n",
              "      <td>0</td>\n",
              "      <td>0</td>\n",
              "      <td>0</td>\n",
              "      <td>0</td>\n",
              "      <td>1</td>\n",
              "      <td>0</td>\n",
              "      <td>0</td>\n",
              "      <td>1</td>\n",
              "    </tr>\n",
              "    <tr>\n",
              "      <th>25</th>\n",
              "      <td>1</td>\n",
              "      <td>0</td>\n",
              "      <td>1.287317</td>\n",
              "      <td>4.0</td>\n",
              "      <td>5.0</td>\n",
              "      <td>1.0</td>\n",
              "      <td>1</td>\n",
              "      <td>0.0</td>\n",
              "      <td>0.0</td>\n",
              "      <td>0</td>\n",
              "      <td>0</td>\n",
              "      <td>1</td>\n",
              "      <td>0</td>\n",
              "      <td>0</td>\n",
              "      <td>0</td>\n",
              "      <td>0</td>\n",
              "      <td>1</td>\n",
              "    </tr>\n",
              "    <tr>\n",
              "      <th>50</th>\n",
              "      <td>1</td>\n",
              "      <td>1</td>\n",
              "      <td>3.519453</td>\n",
              "      <td>3.0</td>\n",
              "      <td>5.0</td>\n",
              "      <td>2.0</td>\n",
              "      <td>1</td>\n",
              "      <td>1.0</td>\n",
              "      <td>2.0</td>\n",
              "      <td>0</td>\n",
              "      <td>0</td>\n",
              "      <td>0</td>\n",
              "      <td>1</td>\n",
              "      <td>0</td>\n",
              "      <td>0</td>\n",
              "      <td>0</td>\n",
              "      <td>1</td>\n",
              "    </tr>\n",
              "    <tr>\n",
              "      <th>52</th>\n",
              "      <td>1</td>\n",
              "      <td>1</td>\n",
              "      <td>2.047330</td>\n",
              "      <td>6.0</td>\n",
              "      <td>4.0</td>\n",
              "      <td>-2.0</td>\n",
              "      <td>0</td>\n",
              "      <td>4.0</td>\n",
              "      <td>1.0</td>\n",
              "      <td>0</td>\n",
              "      <td>0</td>\n",
              "      <td>0</td>\n",
              "      <td>0</td>\n",
              "      <td>1</td>\n",
              "      <td>0</td>\n",
              "      <td>0</td>\n",
              "      <td>1</td>\n",
              "    </tr>\n",
              "    <tr>\n",
              "      <th>53</th>\n",
              "      <td>0</td>\n",
              "      <td>0</td>\n",
              "      <td>1.298623</td>\n",
              "      <td>2.0</td>\n",
              "      <td>1.0</td>\n",
              "      <td>-1.0</td>\n",
              "      <td>0</td>\n",
              "      <td>1.0</td>\n",
              "      <td>1.0</td>\n",
              "      <td>0</td>\n",
              "      <td>0</td>\n",
              "      <td>1</td>\n",
              "      <td>0</td>\n",
              "      <td>0</td>\n",
              "      <td>0</td>\n",
              "      <td>0</td>\n",
              "      <td>1</td>\n",
              "    </tr>\n",
              "  </tbody>\n",
              "</table>\n",
              "</div>"
            ],
            "text/plain": [
              "    TTC ok (50%)  Total PDV  Avg 3 meses  ...  Clusters_A  Clusters_B  Clusters_C\n",
              "5              1          1     3.738093  ...           0           0           1\n",
              "25             1          0     1.287317  ...           0           0           1\n",
              "50             1          1     3.519453  ...           0           0           1\n",
              "52             1          1     2.047330  ...           0           0           1\n",
              "53             0          0     1.298623  ...           0           0           1\n",
              "\n",
              "[5 rows x 17 columns]"
            ]
          },
          "metadata": {},
          "execution_count": 128
        }
      ]
    },
    {
      "cell_type": "code",
      "metadata": {
        "id": "nld-rY74rsY8"
      },
      "source": [
        "X_arv_asr = X"
      ],
      "execution_count": null,
      "outputs": []
    },
    {
      "cell_type": "code",
      "metadata": {
        "id": "N2JrGc6oac2i"
      },
      "source": [
        "y_arv_asr = ago_asr['Avg Alavanca']"
      ],
      "execution_count": null,
      "outputs": []
    },
    {
      "cell_type": "code",
      "metadata": {
        "id": "RRneoiCWcC1j"
      },
      "source": [
        "from sklearn.model_selection import train_test_split"
      ],
      "execution_count": null,
      "outputs": []
    },
    {
      "cell_type": "code",
      "metadata": {
        "id": "PCwJjIWBcWT3"
      },
      "source": [
        "X_train, X_test, y_train, y_test = train_test_split(X_arv_asr, y_arv_asr, test_size=0.15, random_state=42)"
      ],
      "execution_count": null,
      "outputs": []
    },
    {
      "cell_type": "code",
      "metadata": {
        "id": "6aZDNVDucgbG"
      },
      "source": [
        "from sklearn.model_selection import GridSearchCV"
      ],
      "execution_count": null,
      "outputs": []
    },
    {
      "cell_type": "code",
      "metadata": {
        "id": "sK4VPGSmdO8J"
      },
      "source": [
        "from sklearn.ensemble import RandomForestRegressor\n",
        "from sklearn.tree import DecisionTreeRegressor"
      ],
      "execution_count": null,
      "outputs": []
    },
    {
      "cell_type": "code",
      "metadata": {
        "id": "jdhh784xdEG8"
      },
      "source": [
        "model_random = RandomForestRegressor(random_state=42)\n",
        "model_tree = DecisionTreeRegressor(random_state=42)"
      ],
      "execution_count": null,
      "outputs": []
    },
    {
      "cell_type": "code",
      "metadata": {
        "id": "pbYqzUk8dlbt"
      },
      "source": [
        "parameters_random = {'max_depth':[18, 10, 25], 'min_samples_split':[10, 20], 'min_samples_leaf':[6, 8, 10],\n",
        "                     'n_estimators':[50,100,150]}"
      ],
      "execution_count": null,
      "outputs": []
    },
    {
      "cell_type": "code",
      "metadata": {
        "id": "MKf6iJkQdynx"
      },
      "source": [
        "parameters_tree = {'max_depth':[18, 10, 25], 'min_samples_split':[ 10, 20], 'min_samples_leaf':[6, 8, 10]}\n"
      ],
      "execution_count": null,
      "outputs": []
    },
    {
      "cell_type": "markdown",
      "metadata": {
        "id": "zc5xb7B5wv30"
      },
      "source": [
        "Fazendo modelo com random"
      ]
    },
    {
      "cell_type": "code",
      "metadata": {
        "id": "-PGzUfeVegCj"
      },
      "source": [
        "grid_random = GridSearchCV(model_random, parameters_random, cv=5, scoring='r2')"
      ],
      "execution_count": null,
      "outputs": []
    },
    {
      "cell_type": "code",
      "metadata": {
        "id": "7XqO3Gmhent8"
      },
      "source": [
        "grid_tree = GridSearchCV(model_tree, parameters_tree, cv=5, scoring='r2')"
      ],
      "execution_count": null,
      "outputs": []
    },
    {
      "cell_type": "code",
      "metadata": {
        "id": "S0El4KYMe30M"
      },
      "source": [
        "fit_random = grid_random.fit(X_train,y_train)"
      ],
      "execution_count": null,
      "outputs": []
    },
    {
      "cell_type": "code",
      "metadata": {
        "colab": {
          "base_uri": "https://localhost:8080/"
        },
        "id": "J6_43ueDvB1a",
        "outputId": "5dff2f3a-2ff3-4aab-8943-284468e06eb3"
      },
      "source": [
        "fit_random.best_params_"
      ],
      "execution_count": null,
      "outputs": [
        {
          "output_type": "execute_result",
          "data": {
            "text/plain": [
              "{'max_depth': 18,\n",
              " 'min_samples_leaf': 6,\n",
              " 'min_samples_split': 10,\n",
              " 'n_estimators': 150}"
            ]
          },
          "metadata": {},
          "execution_count": 141
        }
      ]
    },
    {
      "cell_type": "code",
      "metadata": {
        "id": "CY5tCBZIvSdl"
      },
      "source": [
        "pred_random_train = fit_random.predict(X_train)"
      ],
      "execution_count": null,
      "outputs": []
    },
    {
      "cell_type": "code",
      "metadata": {
        "id": "1Ny1EGKCvix3"
      },
      "source": [
        "from sklearn.metrics import r2_score\n"
      ],
      "execution_count": null,
      "outputs": []
    },
    {
      "cell_type": "code",
      "metadata": {
        "colab": {
          "base_uri": "https://localhost:8080/"
        },
        "id": "GSHLWw-Zvi_V",
        "outputId": "cb4498a4-7c93-44e6-aa9a-85d31dd97bb7"
      },
      "source": [
        "print(\"r2 com dados de treino para random: \",r2_score(y_train, pred_random_train))"
      ],
      "execution_count": null,
      "outputs": [
        {
          "output_type": "stream",
          "name": "stdout",
          "text": [
            "r2 com dados de treino para random:  0.7541891217039036\n"
          ]
        }
      ]
    },
    {
      "cell_type": "code",
      "metadata": {
        "id": "86gRZVLGv6u6"
      },
      "source": [
        "pred_random_test = fit_random.predict(X_test)"
      ],
      "execution_count": null,
      "outputs": []
    },
    {
      "cell_type": "code",
      "metadata": {
        "colab": {
          "base_uri": "https://localhost:8080/"
        },
        "id": "ddQ-VDGzwPIC",
        "outputId": "cccf9c84-9eb7-493a-db47-d4ea1c574664"
      },
      "source": [
        "print(\"r2 com dados de teste para random: \",r2_score(y_test, pred_random_test))"
      ],
      "execution_count": null,
      "outputs": [
        {
          "output_type": "stream",
          "name": "stdout",
          "text": [
            "r2 com dados de teste para random:  0.6011495437401846\n"
          ]
        }
      ]
    },
    {
      "cell_type": "markdown",
      "metadata": {
        "id": "z1Px1L5vtjEt"
      },
      "source": [
        "Fazendo com Arvore de decisão"
      ]
    },
    {
      "cell_type": "code",
      "metadata": {
        "id": "UPYrRIFWfCOs"
      },
      "source": [
        "fit_tree = grid_tree.fit(X_train,y_train)"
      ],
      "execution_count": null,
      "outputs": []
    },
    {
      "cell_type": "code",
      "metadata": {
        "colab": {
          "base_uri": "https://localhost:8080/"
        },
        "id": "9ASL1RU_vHhJ",
        "outputId": "6b5e1d7a-c949-41cd-b3eb-02fe8365c79a"
      },
      "source": [
        "fit_tree.best_params_"
      ],
      "execution_count": null,
      "outputs": [
        {
          "output_type": "execute_result",
          "data": {
            "text/plain": [
              "{'max_depth': 18, 'min_samples_leaf': 6, 'min_samples_split': 10}"
            ]
          },
          "metadata": {},
          "execution_count": 148
        }
      ]
    },
    {
      "cell_type": "code",
      "metadata": {
        "id": "SNFIM6zEvLft"
      },
      "source": [
        "pred_tree_train = fit_tree.predict(X_train)"
      ],
      "execution_count": null,
      "outputs": []
    },
    {
      "cell_type": "code",
      "metadata": {
        "colab": {
          "base_uri": "https://localhost:8080/"
        },
        "id": "UOCC1-X3vx9I",
        "outputId": "13087b6b-7386-44d2-b8b7-d0743d2d85b7"
      },
      "source": [
        "print(\"r2 com dados de treino para arvore: \",r2_score(y_train, pred_tree_train))"
      ],
      "execution_count": null,
      "outputs": [
        {
          "output_type": "stream",
          "name": "stdout",
          "text": [
            "r2 com dados de treino para arvore:  0.8322109154692418\n"
          ]
        }
      ]
    },
    {
      "cell_type": "code",
      "metadata": {
        "id": "koH0DQvdv5pZ"
      },
      "source": [
        "pred_tree_test = fit_tree.predict(X_test)"
      ],
      "execution_count": null,
      "outputs": []
    },
    {
      "cell_type": "code",
      "metadata": {
        "colab": {
          "base_uri": "https://localhost:8080/"
        },
        "id": "kFv74NZiwOI0",
        "outputId": "d3085f30-9b27-4e7d-c69a-d7111cc1ee7f"
      },
      "source": [
        "print(\"r2 com dados de teste para arvore: \",r2_score(y_test, pred_tree_test))"
      ],
      "execution_count": null,
      "outputs": [
        {
          "output_type": "stream",
          "name": "stdout",
          "text": [
            "r2 com dados de teste para arvore:  0.844789210911611\n"
          ]
        }
      ]
    },
    {
      "cell_type": "markdown",
      "metadata": {
        "id": "92A1eH5XuZv7"
      },
      "source": [
        "Analisando Featura Importance"
      ]
    },
    {
      "cell_type": "code",
      "metadata": {
        "colab": {
          "base_uri": "https://localhost:8080/"
        },
        "id": "Q5Uh7G1fucx7",
        "outputId": "939cc2a9-c534-4b9d-b2a3-ea67ec9be01f"
      },
      "source": [
        "!pip install shap"
      ],
      "execution_count": null,
      "outputs": [
        {
          "output_type": "stream",
          "name": "stdout",
          "text": [
            "Collecting shap\n",
            "  Downloading shap-0.39.0.tar.gz (356 kB)\n",
            "\u001b[K     |████████████████████████████████| 356 kB 5.1 MB/s \n",
            "\u001b[?25hRequirement already satisfied: numpy in /usr/local/lib/python3.7/dist-packages (from shap) (1.19.5)\n",
            "Requirement already satisfied: scipy in /usr/local/lib/python3.7/dist-packages (from shap) (1.4.1)\n",
            "Requirement already satisfied: scikit-learn in /usr/local/lib/python3.7/dist-packages (from shap) (0.22.2.post1)\n",
            "Requirement already satisfied: pandas in /usr/local/lib/python3.7/dist-packages (from shap) (1.1.5)\n",
            "Requirement already satisfied: tqdm>4.25.0 in /usr/local/lib/python3.7/dist-packages (from shap) (4.62.3)\n",
            "Collecting slicer==0.0.7\n",
            "  Downloading slicer-0.0.7-py3-none-any.whl (14 kB)\n",
            "Requirement already satisfied: numba in /usr/local/lib/python3.7/dist-packages (from shap) (0.51.2)\n",
            "Requirement already satisfied: cloudpickle in /usr/local/lib/python3.7/dist-packages (from shap) (1.3.0)\n",
            "Requirement already satisfied: setuptools in /usr/local/lib/python3.7/dist-packages (from numba->shap) (57.4.0)\n",
            "Requirement already satisfied: llvmlite<0.35,>=0.34.0.dev0 in /usr/local/lib/python3.7/dist-packages (from numba->shap) (0.34.0)\n",
            "Requirement already satisfied: python-dateutil>=2.7.3 in /usr/local/lib/python3.7/dist-packages (from pandas->shap) (2.8.2)\n",
            "Requirement already satisfied: pytz>=2017.2 in /usr/local/lib/python3.7/dist-packages (from pandas->shap) (2018.9)\n",
            "Requirement already satisfied: six>=1.5 in /usr/local/lib/python3.7/dist-packages (from python-dateutil>=2.7.3->pandas->shap) (1.15.0)\n",
            "Requirement already satisfied: joblib>=0.11 in /usr/local/lib/python3.7/dist-packages (from scikit-learn->shap) (1.0.1)\n",
            "Building wheels for collected packages: shap\n",
            "  Building wheel for shap (setup.py) ... \u001b[?25l\u001b[?25hdone\n",
            "  Created wheel for shap: filename=shap-0.39.0-cp37-cp37m-linux_x86_64.whl size=491640 sha256=4d34862db69cf5437a364487ef197ab5212de18a33b087e35adf68c90b3e6978\n",
            "  Stored in directory: /root/.cache/pip/wheels/ca/25/8f/6ae5df62c32651cd719e972e738a8aaa4a87414c4d2b14c9c0\n",
            "Successfully built shap\n",
            "Installing collected packages: slicer, shap\n",
            "Successfully installed shap-0.39.0 slicer-0.0.7\n"
          ]
        }
      ]
    },
    {
      "cell_type": "code",
      "metadata": {
        "id": "CpF12BuWu4lN"
      },
      "source": [
        "import shap"
      ],
      "execution_count": null,
      "outputs": []
    },
    {
      "cell_type": "code",
      "metadata": {
        "id": "3pa1TVmdvG07"
      },
      "source": [
        "asr_tree = fit_tree.best_estimator_"
      ],
      "execution_count": null,
      "outputs": []
    },
    {
      "cell_type": "code",
      "metadata": {
        "colab": {
          "base_uri": "https://localhost:8080/",
          "height": 516
        },
        "id": "KxaNCRmyu62k",
        "outputId": "5b8a38c6-311b-4251-96ca-337f7ff5ee32"
      },
      "source": [
        "explainer =  shap.TreeExplainer(asr_tree)\n",
        "shap_values = explainer.shap_values(X_arv_asr.values)\n",
        "shap.summary_plot(shap_values, X_arv_asr, plot_type='bar')"
      ],
      "execution_count": null,
      "outputs": [
        {
          "output_type": "display_data",
          "data": {
            "image/png": "[encoded data removed]",
            "text/plain": [
              "<Figure size 576x597.6 with 1 Axes>"
            ]
          },
          "metadata": {
            "needs_background": "light"
          }
        }
      ]
    },
    {
      "cell_type": "code",
      "metadata": {
        "colab": {
          "base_uri": "https://localhost:8080/",
          "height": 520
        },
        "id": "_pPg2f05vf6s",
        "outputId": "e297d7d8-0234-472a-92e5-4a9bc9f2d2ca"
      },
      "source": [
        "explainer =  shap.TreeExplainer(asr_tree)\n",
        "shap_values = explainer.shap_values(X_arv_asr.values)\n",
        "shap.summary_plot(shap_values, X_arv_asr)"
      ],
      "execution_count": null,
      "outputs": [
        {
          "output_type": "display_data",
          "data": {
            "image/png": "[encoded data removed]",
            "text/plain": [
              "<Figure size 576x597.6 with 2 Axes>"
            ]
          },
          "metadata": {
            "needs_background": "light"
          }
        }
      ]
    },
    {
      "cell_type": "markdown",
      "metadata": {
        "id": "HJR4ANBet9dX"
      },
      "source": [
        "Fazendo para a previsão da variação de vendas"
      ]
    },
    {
      "cell_type": "code",
      "metadata": {
        "colab": {
          "base_uri": "https://localhost:8080/",
          "height": 261
        },
        "id": "ETGOmGQG-Wf4",
        "outputId": "935c3e53-4e8d-42d9-fb4d-7cf9cf4540d4"
      },
      "source": [
        "X_var.head()"
      ],
      "execution_count": null,
      "outputs": [
        {
          "output_type": "execute_result",
          "data": {
            "text/html": [
              "<div>\n",
              "<style scoped>\n",
              "    .dataframe tbody tr th:only-of-type {\n",
              "        vertical-align: middle;\n",
              "    }\n",
              "\n",
              "    .dataframe tbody tr th {\n",
              "        vertical-align: top;\n",
              "    }\n",
              "\n",
              "    .dataframe thead th {\n",
              "        text-align: right;\n",
              "    }\n",
              "</style>\n",
              "<table border=\"1\" class=\"dataframe\">\n",
              "  <thead>\n",
              "    <tr style=\"text-align: right;\">\n",
              "      <th></th>\n",
              "      <th>const</th>\n",
              "      <th>TTC ok (50%)</th>\n",
              "      <th>Total PDV</th>\n",
              "      <th>Qtd PPs A/M/J</th>\n",
              "      <th>Qtd PPs J/A</th>\n",
              "      <th>Var PPs</th>\n",
              "      <th>Promotores</th>\n",
              "      <th>Portas KO?</th>\n",
              "      <th>Portas Ambev?</th>\n",
              "      <th>ALAVANCA_ASR Gôndola</th>\n",
              "      <th>ALAVANCA_ASR Nenhuma</th>\n",
              "      <th>ALAVANCA_ASR Racks</th>\n",
              "      <th>ALAVANCA_ASR Todas</th>\n",
              "      <th>ALAVANCA_ASR Visa</th>\n",
              "      <th>Clusters_A</th>\n",
              "      <th>Clusters_B</th>\n",
              "      <th>Clusters_C</th>\n",
              "    </tr>\n",
              "  </thead>\n",
              "  <tbody>\n",
              "    <tr>\n",
              "      <th>5</th>\n",
              "      <td>1.0</td>\n",
              "      <td>1</td>\n",
              "      <td>1</td>\n",
              "      <td>3.0</td>\n",
              "      <td>5.0</td>\n",
              "      <td>2.0</td>\n",
              "      <td>1</td>\n",
              "      <td>5.0</td>\n",
              "      <td>1.0</td>\n",
              "      <td>0</td>\n",
              "      <td>0</td>\n",
              "      <td>0</td>\n",
              "      <td>0</td>\n",
              "      <td>1</td>\n",
              "      <td>0</td>\n",
              "      <td>0</td>\n",
              "      <td>1</td>\n",
              "    </tr>\n",
              "    <tr>\n",
              "      <th>25</th>\n",
              "      <td>1.0</td>\n",
              "      <td>1</td>\n",
              "      <td>0</td>\n",
              "      <td>4.0</td>\n",
              "      <td>5.0</td>\n",
              "      <td>1.0</td>\n",
              "      <td>1</td>\n",
              "      <td>0.0</td>\n",
              "      <td>0.0</td>\n",
              "      <td>0</td>\n",
              "      <td>0</td>\n",
              "      <td>1</td>\n",
              "      <td>0</td>\n",
              "      <td>0</td>\n",
              "      <td>0</td>\n",
              "      <td>0</td>\n",
              "      <td>1</td>\n",
              "    </tr>\n",
              "    <tr>\n",
              "      <th>50</th>\n",
              "      <td>1.0</td>\n",
              "      <td>1</td>\n",
              "      <td>1</td>\n",
              "      <td>3.0</td>\n",
              "      <td>5.0</td>\n",
              "      <td>2.0</td>\n",
              "      <td>1</td>\n",
              "      <td>1.0</td>\n",
              "      <td>2.0</td>\n",
              "      <td>0</td>\n",
              "      <td>0</td>\n",
              "      <td>0</td>\n",
              "      <td>1</td>\n",
              "      <td>0</td>\n",
              "      <td>0</td>\n",
              "      <td>0</td>\n",
              "      <td>1</td>\n",
              "    </tr>\n",
              "    <tr>\n",
              "      <th>52</th>\n",
              "      <td>1.0</td>\n",
              "      <td>1</td>\n",
              "      <td>1</td>\n",
              "      <td>6.0</td>\n",
              "      <td>4.0</td>\n",
              "      <td>-2.0</td>\n",
              "      <td>0</td>\n",
              "      <td>4.0</td>\n",
              "      <td>1.0</td>\n",
              "      <td>0</td>\n",
              "      <td>0</td>\n",
              "      <td>0</td>\n",
              "      <td>0</td>\n",
              "      <td>1</td>\n",
              "      <td>0</td>\n",
              "      <td>0</td>\n",
              "      <td>1</td>\n",
              "    </tr>\n",
              "    <tr>\n",
              "      <th>53</th>\n",
              "      <td>1.0</td>\n",
              "      <td>0</td>\n",
              "      <td>0</td>\n",
              "      <td>2.0</td>\n",
              "      <td>1.0</td>\n",
              "      <td>-1.0</td>\n",
              "      <td>0</td>\n",
              "      <td>1.0</td>\n",
              "      <td>1.0</td>\n",
              "      <td>0</td>\n",
              "      <td>0</td>\n",
              "      <td>1</td>\n",
              "      <td>0</td>\n",
              "      <td>0</td>\n",
              "      <td>0</td>\n",
              "      <td>0</td>\n",
              "      <td>1</td>\n",
              "    </tr>\n",
              "  </tbody>\n",
              "</table>\n",
              "</div>"
            ],
            "text/plain": [
              "    const  TTC ok (50%)  Total PDV  ...  Clusters_A  Clusters_B  Clusters_C\n",
              "5     1.0             1          1  ...           0           0           1\n",
              "25    1.0             1          0  ...           0           0           1\n",
              "50    1.0             1          1  ...           0           0           1\n",
              "52    1.0             1          1  ...           0           0           1\n",
              "53    1.0             0          0  ...           0           0           1\n",
              "\n",
              "[5 rows x 17 columns]"
            ]
          },
          "metadata": {},
          "execution_count": 189
        }
      ]
    },
    {
      "cell_type": "code",
      "metadata": {
        "id": "DOmhbUhI-2SN"
      },
      "source": [
        "X_var_dt = X_var.drop(['const'], axis=1)"
      ],
      "execution_count": null,
      "outputs": []
    },
    {
      "cell_type": "code",
      "metadata": {
        "id": "cX_rCHAR-hFI"
      },
      "source": [
        "y_var_dt = ago_asr['Avg Alavanca'] - ago_asr['Avg 3 meses']"
      ],
      "execution_count": null,
      "outputs": []
    },
    {
      "cell_type": "code",
      "metadata": {
        "id": "8GTD1eA6_DWR"
      },
      "source": [
        "X_train2, X_test2, y_train2, y_test2 = train_test_split(X_var_dt, y_var_dt, test_size=0.15, random_state=42)"
      ],
      "execution_count": null,
      "outputs": []
    },
    {
      "cell_type": "code",
      "metadata": {
        "id": "0pLCkn5p_OLs"
      },
      "source": [
        "model_random2 = RandomForestRegressor(random_state=42)\n",
        "model_tree2 = DecisionTreeRegressor(random_state=42)"
      ],
      "execution_count": null,
      "outputs": []
    },
    {
      "cell_type": "code",
      "metadata": {
        "id": "Z9MsWhiL_T91"
      },
      "source": [
        "parameters_random2 = {'max_depth':[18, 10, 25], 'min_samples_split':[10, 20], 'min_samples_leaf':[6, 8, 10],\n",
        "                     'n_estimators':[50,100,150]}"
      ],
      "execution_count": null,
      "outputs": []
    },
    {
      "cell_type": "code",
      "metadata": {
        "id": "dLnvjZH__YAV"
      },
      "source": [
        "parameters_tree = {'max_depth':[18, 10, 25], 'min_samples_split':[ 10, 20], 'min_samples_leaf':[6, 8, 10]}"
      ],
      "execution_count": null,
      "outputs": []
    },
    {
      "cell_type": "code",
      "metadata": {
        "id": "T_NVL3eV_dOv"
      },
      "source": [
        "fit_tree2 = grid_tree.fit(X_train2,y_train2)"
      ],
      "execution_count": null,
      "outputs": []
    },
    {
      "cell_type": "code",
      "metadata": {
        "colab": {
          "base_uri": "https://localhost:8080/"
        },
        "id": "41yGDfVv_no5",
        "outputId": "236f260c-30f2-4d03-a6ce-ea4e331c69c5"
      },
      "source": [
        "fit_tree2.best_params_"
      ],
      "execution_count": null,
      "outputs": [
        {
          "output_type": "execute_result",
          "data": {
            "text/plain": [
              "{'max_depth': 18, 'min_samples_leaf': 6, 'min_samples_split': 20}"
            ]
          },
          "metadata": {},
          "execution_count": 197
        }
      ]
    },
    {
      "cell_type": "code",
      "metadata": {
        "id": "eyhgbxI6_v_d"
      },
      "source": [
        "pred_tree_train2 = fit_tree2.predict(X_train2)"
      ],
      "execution_count": null,
      "outputs": []
    },
    {
      "cell_type": "code",
      "metadata": {
        "colab": {
          "base_uri": "https://localhost:8080/"
        },
        "id": "Oxm6r5sh_4TM",
        "outputId": "d2c7a836-e1bd-4c6b-83de-3bb4b6f9b2da"
      },
      "source": [
        "print(\"r2 com dados de treino para arvore: \",r2_score(y_train2, pred_tree_train2))"
      ],
      "execution_count": null,
      "outputs": [
        {
          "output_type": "stream",
          "name": "stdout",
          "text": [
            "r2 com dados de treino para arvore:  0.2112298559342849\n"
          ]
        }
      ]
    },
    {
      "cell_type": "markdown",
      "metadata": {
        "id": "TwByA-sRH24h"
      },
      "source": [
        "# Graficos 3 D"
      ]
    },
    {
      "cell_type": "code",
      "metadata": {
        "id": "25PcEdQiIbMR"
      },
      "source": [
        "import plotly.express as px"
      ],
      "execution_count": null,
      "outputs": []
    },
    {
      "cell_type": "markdown",
      "metadata": {
        "id": "ui-vk4KRqY95"
      },
      "source": [
        "ASR"
      ]
    },
    {
      "cell_type": "code",
      "metadata": {
        "id": "QR41jA2878ko"
      },
      "source": [
        "# Abrindo base para graficos 3d com base nos coeficientes\n",
        "cubo_p = pd.read_csv('/content/drive/Shareddrives/MO PROYECTOS CONSULTORIA/GUA UN 167 - 2020.12.PPF.PEP.GUA/2. Ejecucion/4. Piloto/Arquivo Vendas/Analises/3D.csv', encoding='cp1252')"
      ],
      "execution_count": null,
      "outputs": []
    },
    {
      "cell_type": "code",
      "metadata": {
        "colab": {
          "base_uri": "https://localhost:8080/",
          "height": 206
        },
        "id": "RUExgM1g8WKx",
        "outputId": "84805b51-63ff-43f3-b1c4-f3b9474b1bca"
      },
      "source": [
        "cubo_p.head()"
      ],
      "execution_count": null,
      "outputs": [
        {
          "output_type": "execute_result",
          "data": {
            "text/html": [
              "<div>\n",
              "<style scoped>\n",
              "    .dataframe tbody tr th:only-of-type {\n",
              "        vertical-align: middle;\n",
              "    }\n",
              "\n",
              "    .dataframe tbody tr th {\n",
              "        vertical-align: top;\n",
              "    }\n",
              "\n",
              "    .dataframe thead th {\n",
              "        text-align: right;\n",
              "    }\n",
              "</style>\n",
              "<table border=\"1\" class=\"dataframe\">\n",
              "  <thead>\n",
              "    <tr style=\"text-align: right;\">\n",
              "      <th></th>\n",
              "      <th>Alavancas</th>\n",
              "      <th>TTC</th>\n",
              "      <th>PPs</th>\n",
              "      <th>Vol Uplift</th>\n",
              "    </tr>\n",
              "  </thead>\n",
              "  <tbody>\n",
              "    <tr>\n",
              "      <th>0</th>\n",
              "      <td>Gôndola</td>\n",
              "      <td>OK</td>\n",
              "      <td>-3 a -1 PPs</td>\n",
              "      <td>0.317016</td>\n",
              "    </tr>\n",
              "    <tr>\n",
              "      <th>1</th>\n",
              "      <td>Visa</td>\n",
              "      <td>OK</td>\n",
              "      <td>-3 a -1 PPs</td>\n",
              "      <td>0.987599</td>\n",
              "    </tr>\n",
              "    <tr>\n",
              "      <th>2</th>\n",
              "      <td>Racks</td>\n",
              "      <td>OK</td>\n",
              "      <td>-3 a -1 PPs</td>\n",
              "      <td>1.028994</td>\n",
              "    </tr>\n",
              "    <tr>\n",
              "      <th>3</th>\n",
              "      <td>Todas</td>\n",
              "      <td>OK</td>\n",
              "      <td>-3 a -1 PPs</td>\n",
              "      <td>1.126964</td>\n",
              "    </tr>\n",
              "    <tr>\n",
              "      <th>4</th>\n",
              "      <td>Gôndola</td>\n",
              "      <td>NOK</td>\n",
              "      <td>-3 a -1 PPs</td>\n",
              "      <td>0.276231</td>\n",
              "    </tr>\n",
              "  </tbody>\n",
              "</table>\n",
              "</div>"
            ],
            "text/plain": [
              "  Alavancas  TTC           PPs  Vol Uplift\n",
              "0   Gôndola   OK   -3 a -1 PPs    0.317016\n",
              "1      Visa   OK   -3 a -1 PPs    0.987599\n",
              "2     Racks   OK   -3 a -1 PPs    1.028994\n",
              "3     Todas   OK   -3 a -1 PPs    1.126964\n",
              "4   Gôndola  NOK   -3 a -1 PPs    0.276231"
            ]
          },
          "metadata": {},
          "execution_count": 161
        }
      ]
    },
    {
      "cell_type": "code",
      "metadata": {
        "colab": {
          "base_uri": "https://localhost:8080/",
          "height": 542
        },
        "id": "xTOVfyxM8c-m",
        "outputId": "ac94e59d-a352-432a-d4c8-b92c50821fec"
      },
      "source": [
        "#df = px.data.cubo\n",
        "fig_p = px.scatter_3d(cubo_p, x='Alavancas', y='TTC', z='PPs', size='Vol Uplift', color='Vol Uplift', size_max=70)\n",
        "fig_p.show()"
      ],
      "execution_count": null,
      "outputs": [
        {
          "output_type": "display_data",
          "data": {
            "text/html": [
              "<html>\n",
              "<head><meta charset=\"utf-8\" /></head>\n",
              "<body>\n",
              "    <div>\n",
              "            <script src=\"https://cdnjs.cloudflare.com/ajax/libs/mathjax/2.7.5/MathJax.js?config=TeX-AMS-MML_SVG\"></script><script type=\"text/javascript\">if (window.MathJax) {MathJax.Hub.Config({SVG: {font: \"STIX-Web\"}});}</script>\n",
              "                <script type=\"text/javascript\">window.PlotlyConfig = {MathJaxConfig: 'local'};</script>\n",
              "        <script src=\"https://cdn.plot.ly/plotly-latest.min.js\"></script>    \n",
              "            <div id=\"721e4b01-953b-4dd1-aa45-d87b20b91bba\" class=\"plotly-graph-div\" style=\"height:525px; width:100%;\"></div>\n",
              "            <script type=\"text/javascript\">\n",
              "                \n",
              "                    window.PLOTLYENV=window.PLOTLYENV || {};\n",
              "                    \n",
              "                if (document.getElementById(\"721e4b01-953b-4dd1-aa45-d87b20b91bba\")) {\n",
              "                    Plotly.newPlot(\n",
              "                        '721e4b01-953b-4dd1-aa45-d87b20b91bba',\n",
              "                        [{\"hoverlabel\": {\"namelength\": 0}, \"hovertemplate\": \"Alavancas=%{x}<br>TTC=%{y}<br>PPs=%{z}<br>Vol Uplift=%{marker.color}\", \"legendgroup\": \"\", \"marker\": {\"color\": [0.31701631199999997, 0.987599062, 1.028993995, 1.126963776, 0.276230932, 0.946813682, 0.988208615, 1.086178397, 1.031630414, 1.702213164, 1.7436080969999999, 1.841577878, 0.990845034, 1.661427784, 1.7028227180000002, 1.8007924990000002], \"coloraxis\": \"coloraxis\", \"size\": [0.31701631199999997, 0.987599062, 1.028993995, 1.126963776, 0.276230932, 0.946813682, 0.988208615, 1.086178397, 1.031630414, 1.702213164, 1.7436080969999999, 1.841577878, 0.990845034, 1.661427784, 1.7028227180000002, 1.8007924990000002], \"sizemode\": \"area\", \"sizeref\": 0.00037583222000000003, \"symbol\": \"circle\"}, \"mode\": \"markers\", \"name\": \"\", \"scene\": \"scene\", \"showlegend\": false, \"type\": \"scatter3d\", \"x\": [\"G\\u00f4ndola\", \"Visa\", \"Racks\", \"Todas\", \"G\\u00f4ndola\", \"Visa\", \"Racks\", \"Todas\", \"G\\u00f4ndola\", \"Visa\", \"Racks\", \"Todas\", \"G\\u00f4ndola\", \"Visa\", \"Racks\", \"Todas\"], \"y\": [\"OK\", \"OK\", \"OK\", \"OK\", \"NOK\", \"NOK\", \"NOK\", \"NOK\", \"OK\", \"OK\", \"OK\", \"OK\", \"NOK\", \"NOK\", \"NOK\", \"NOK\"], \"z\": [\" -3 a -1 PPs\", \" -3 a -1 PPs\", \" -3 a -1 PPs\", \" -3 a -1 PPs\", \" -3 a -1 PPs\", \" -3 a -1 PPs\", \" -3 a -1 PPs\", \" -3 a -1 PPs\", \"1 a 4 PPs\", \"1 a 4 PPs\", \"1 a 4 PPs\", \"1 a 4 PPs\", \"1 a 4 PPs\", \"1 a 4 PPs\", \"1 a 4 PPs\", \"1 a 4 PPs\"]}],\n",
              "                        {\"coloraxis\": {\"colorbar\": {\"title\": {\"text\": \"Vol Uplift\"}}, \"colorscale\": [[0.0, \"#0d0887\"], [0.1111111111111111, \"#46039f\"], [0.2222222222222222, \"#7201a8\"], [0.3333333333333333, \"#9c179e\"], [0.4444444444444444, \"#bd3786\"], [0.5555555555555556, \"#d8576b\"], [0.6666666666666666, \"#ed7953\"], [0.7777777777777778, \"#fb9f3a\"], [0.8888888888888888, \"#fdca26\"], [1.0, \"#f0f921\"]]}, \"legend\": {\"itemsizing\": \"constant\", \"tracegroupgap\": 0}, \"margin\": {\"t\": 60}, \"scene\": {\"domain\": {\"x\": [0.0, 1.0], \"y\": [0.0, 1.0]}, \"xaxis\": {\"title\": {\"text\": \"Alavancas\"}}, \"yaxis\": {\"title\": {\"text\": \"TTC\"}}, \"zaxis\": {\"title\": {\"text\": \"PPs\"}}}, \"template\": {\"data\": {\"bar\": [{\"error_x\": {\"color\": \"#2a3f5f\"}, \"error_y\": {\"color\": \"#2a3f5f\"}, \"marker\": {\"line\": {\"color\": \"#E5ECF6\", \"width\": 0.5}}, \"type\": \"bar\"}], \"barpolar\": [{\"marker\": {\"line\": {\"color\": \"#E5ECF6\", \"width\": 0.5}}, \"type\": \"barpolar\"}], \"carpet\": [{\"aaxis\": {\"endlinecolor\": \"#2a3f5f\", \"gridcolor\": \"white\", \"linecolor\": \"white\", \"minorgridcolor\": \"white\", \"startlinecolor\": \"#2a3f5f\"}, \"baxis\": {\"endlinecolor\": \"#2a3f5f\", \"gridcolor\": \"white\", \"linecolor\": \"white\", \"minorgridcolor\": \"white\", \"startlinecolor\": \"#2a3f5f\"}, \"type\": \"carpet\"}], \"choropleth\": [{\"colorbar\": {\"outlinewidth\": 0, \"ticks\": \"\"}, \"type\": \"choropleth\"}], \"contour\": [{\"colorbar\": {\"outlinewidth\": 0, \"ticks\": \"\"}, \"colorscale\": [[0.0, \"#0d0887\"], [0.1111111111111111, \"#46039f\"], [0.2222222222222222, \"#7201a8\"], [0.3333333333333333, \"#9c179e\"], [0.4444444444444444, \"#bd3786\"], [0.5555555555555556, \"#d8576b\"], [0.6666666666666666, \"#ed7953\"], [0.7777777777777778, \"#fb9f3a\"], [0.8888888888888888, \"#fdca26\"], [1.0, \"#f0f921\"]], \"type\": \"contour\"}], \"contourcarpet\": [{\"colorbar\": {\"outlinewidth\": 0, \"ticks\": \"\"}, \"type\": \"contourcarpet\"}], \"heatmap\": [{\"colorbar\": {\"outlinewidth\": 0, \"ticks\": \"\"}, \"colorscale\": [[0.0, \"#0d0887\"], [0.1111111111111111, \"#46039f\"], [0.2222222222222222, \"#7201a8\"], [0.3333333333333333, \"#9c179e\"], [0.4444444444444444, \"#bd3786\"], [0.5555555555555556, \"#d8576b\"], [0.6666666666666666, \"#ed7953\"], [0.7777777777777778, \"#fb9f3a\"], [0.8888888888888888, \"#fdca26\"], [1.0, \"#f0f921\"]], \"type\": \"heatmap\"}], \"heatmapgl\": [{\"colorbar\": {\"outlinewidth\": 0, \"ticks\": \"\"}, \"colorscale\": [[0.0, \"#0d0887\"], [0.1111111111111111, \"#46039f\"], [0.2222222222222222, \"#7201a8\"], [0.3333333333333333, \"#9c179e\"], [0.4444444444444444, \"#bd3786\"], [0.5555555555555556, \"#d8576b\"], [0.6666666666666666, \"#ed7953\"], [0.7777777777777778, \"#fb9f3a\"], [0.8888888888888888, \"#fdca26\"], [1.0, \"#f0f921\"]], \"type\": \"heatmapgl\"}], \"histogram\": [{\"marker\": {\"colorbar\": {\"outlinewidth\": 0, \"ticks\": \"\"}}, \"type\": \"histogram\"}], \"histogram2d\": [{\"colorbar\": {\"outlinewidth\": 0, \"ticks\": \"\"}, \"colorscale\": [[0.0, \"#0d0887\"], [0.1111111111111111, \"#46039f\"], [0.2222222222222222, \"#7201a8\"], [0.3333333333333333, \"#9c179e\"], [0.4444444444444444, \"#bd3786\"], [0.5555555555555556, \"#d8576b\"], [0.6666666666666666, \"#ed7953\"], [0.7777777777777778, \"#fb9f3a\"], [0.8888888888888888, \"#fdca26\"], [1.0, \"#f0f921\"]], \"type\": \"histogram2d\"}], \"histogram2dcontour\": [{\"colorbar\": {\"outlinewidth\": 0, \"ticks\": \"\"}, \"colorscale\": [[0.0, \"#0d0887\"], [0.1111111111111111, \"#46039f\"], [0.2222222222222222, \"#7201a8\"], [0.3333333333333333, \"#9c179e\"], [0.4444444444444444, \"#bd3786\"], [0.5555555555555556, \"#d8576b\"], [0.6666666666666666, \"#ed7953\"], [0.7777777777777778, \"#fb9f3a\"], [0.8888888888888888, \"#fdca26\"], [1.0, \"#f0f921\"]], \"type\": \"histogram2dcontour\"}], \"mesh3d\": [{\"colorbar\": {\"outlinewidth\": 0, \"ticks\": \"\"}, \"type\": \"mesh3d\"}], \"parcoords\": [{\"line\": {\"colorbar\": {\"outlinewidth\": 0, \"ticks\": \"\"}}, \"type\": \"parcoords\"}], \"pie\": [{\"automargin\": true, \"type\": \"pie\"}], \"scatter\": [{\"marker\": {\"colorbar\": {\"outlinewidth\": 0, \"ticks\": \"\"}}, \"type\": \"scatter\"}], \"scatter3d\": [{\"line\": {\"colorbar\": {\"outlinewidth\": 0, \"ticks\": \"\"}}, \"marker\": {\"colorbar\": {\"outlinewidth\": 0, \"ticks\": \"\"}}, \"type\": \"scatter3d\"}], \"scattercarpet\": [{\"marker\": {\"colorbar\": {\"outlinewidth\": 0, \"ticks\": \"\"}}, \"type\": \"scattercarpet\"}], \"scattergeo\": [{\"marker\": {\"colorbar\": {\"outlinewidth\": 0, \"ticks\": \"\"}}, \"type\": \"scattergeo\"}], \"scattergl\": [{\"marker\": {\"colorbar\": {\"outlinewidth\": 0, \"ticks\": \"\"}}, \"type\": \"scattergl\"}], \"scattermapbox\": [{\"marker\": {\"colorbar\": {\"outlinewidth\": 0, \"ticks\": \"\"}}, \"type\": \"scattermapbox\"}], \"scatterpolar\": [{\"marker\": {\"colorbar\": {\"outlinewidth\": 0, \"ticks\": \"\"}}, \"type\": \"scatterpolar\"}], \"scatterpolargl\": [{\"marker\": {\"colorbar\": {\"outlinewidth\": 0, \"ticks\": \"\"}}, \"type\": \"scatterpolargl\"}], \"scatterternary\": [{\"marker\": {\"colorbar\": {\"outlinewidth\": 0, \"ticks\": \"\"}}, \"type\": \"scatterternary\"}], \"surface\": [{\"colorbar\": {\"outlinewidth\": 0, \"ticks\": \"\"}, \"colorscale\": [[0.0, \"#0d0887\"], [0.1111111111111111, \"#46039f\"], [0.2222222222222222, \"#7201a8\"], [0.3333333333333333, \"#9c179e\"], [0.4444444444444444, \"#bd3786\"], [0.5555555555555556, \"#d8576b\"], [0.6666666666666666, \"#ed7953\"], [0.7777777777777778, \"#fb9f3a\"], [0.8888888888888888, \"#fdca26\"], [1.0, \"#f0f921\"]], \"type\": \"surface\"}], \"table\": [{\"cells\": {\"fill\": {\"color\": \"#EBF0F8\"}, \"line\": {\"color\": \"white\"}}, \"header\": {\"fill\": {\"color\": \"#C8D4E3\"}, \"line\": {\"color\": \"white\"}}, \"type\": \"table\"}]}, \"layout\": {\"annotationdefaults\": {\"arrowcolor\": \"#2a3f5f\", \"arrowhead\": 0, \"arrowwidth\": 1}, \"coloraxis\": {\"colorbar\": {\"outlinewidth\": 0, \"ticks\": \"\"}}, \"colorscale\": {\"diverging\": [[0, \"#8e0152\"], [0.1, \"#c51b7d\"], [0.2, \"#de77ae\"], [0.3, \"#f1b6da\"], [0.4, \"#fde0ef\"], [0.5, \"#f7f7f7\"], [0.6, \"#e6f5d0\"], [0.7, \"#b8e186\"], [0.8, \"#7fbc41\"], [0.9, \"#4d9221\"], [1, \"#276419\"]], \"sequential\": [[0.0, \"#0d0887\"], [0.1111111111111111, \"#46039f\"], [0.2222222222222222, \"#7201a8\"], [0.3333333333333333, \"#9c179e\"], [0.4444444444444444, \"#bd3786\"], [0.5555555555555556, \"#d8576b\"], [0.6666666666666666, \"#ed7953\"], [0.7777777777777778, \"#fb9f3a\"], [0.8888888888888888, \"#fdca26\"], [1.0, \"#f0f921\"]], \"sequentialminus\": [[0.0, \"#0d0887\"], [0.1111111111111111, \"#46039f\"], [0.2222222222222222, \"#7201a8\"], [0.3333333333333333, \"#9c179e\"], [0.4444444444444444, \"#bd3786\"], [0.5555555555555556, \"#d8576b\"], [0.6666666666666666, \"#ed7953\"], [0.7777777777777778, \"#fb9f3a\"], [0.8888888888888888, \"#fdca26\"], [1.0, \"#f0f921\"]]}, \"colorway\": [\"#636efa\", \"#EF553B\", \"#00cc96\", \"#ab63fa\", \"#FFA15A\", \"#19d3f3\", \"#FF6692\", \"#B6E880\", \"#FF97FF\", \"#FECB52\"], \"font\": {\"color\": \"#2a3f5f\"}, \"geo\": {\"bgcolor\": \"white\", \"lakecolor\": \"white\", \"landcolor\": \"#E5ECF6\", \"showlakes\": true, \"showland\": true, \"subunitcolor\": \"white\"}, \"hoverlabel\": {\"align\": \"left\"}, \"hovermode\": \"closest\", \"mapbox\": {\"style\": \"light\"}, \"paper_bgcolor\": \"white\", \"plot_bgcolor\": \"#E5ECF6\", \"polar\": {\"angularaxis\": {\"gridcolor\": \"white\", \"linecolor\": \"white\", \"ticks\": \"\"}, \"bgcolor\": \"#E5ECF6\", \"radialaxis\": {\"gridcolor\": \"white\", \"linecolor\": \"white\", \"ticks\": \"\"}}, \"scene\": {\"xaxis\": {\"backgroundcolor\": \"#E5ECF6\", \"gridcolor\": \"white\", \"gridwidth\": 2, \"linecolor\": \"white\", \"showbackground\": true, \"ticks\": \"\", \"zerolinecolor\": \"white\"}, \"yaxis\": {\"backgroundcolor\": \"#E5ECF6\", \"gridcolor\": \"white\", \"gridwidth\": 2, \"linecolor\": \"white\", \"showbackground\": true, \"ticks\": \"\", \"zerolinecolor\": \"white\"}, \"zaxis\": {\"backgroundcolor\": \"#E5ECF6\", \"gridcolor\": \"white\", \"gridwidth\": 2, \"linecolor\": \"white\", \"showbackground\": true, \"ticks\": \"\", \"zerolinecolor\": \"white\"}}, \"shapedefaults\": {\"line\": {\"color\": \"#2a3f5f\"}}, \"ternary\": {\"aaxis\": {\"gridcolor\": \"white\", \"linecolor\": \"white\", \"ticks\": \"\"}, \"baxis\": {\"gridcolor\": \"white\", \"linecolor\": \"white\", \"ticks\": \"\"}, \"bgcolor\": \"#E5ECF6\", \"caxis\": {\"gridcolor\": \"white\", \"linecolor\": \"white\", \"ticks\": \"\"}}, \"title\": {\"x\": 0.05}, \"xaxis\": {\"automargin\": true, \"gridcolor\": \"white\", \"linecolor\": \"white\", \"ticks\": \"\", \"title\": {\"standoff\": 15}, \"zerolinecolor\": \"white\", \"zerolinewidth\": 2}, \"yaxis\": {\"automargin\": true, \"gridcolor\": \"white\", \"linecolor\": \"white\", \"ticks\": \"\", \"title\": {\"standoff\": 15}, \"zerolinecolor\": \"white\", \"zerolinewidth\": 2}}}},\n",
              "                        {\"responsive\": true}\n",
              "                    ).then(function(){\n",
              "                            \n",
              "var gd = document.getElementById('721e4b01-953b-4dd1-aa45-d87b20b91bba');\n",
              "var x = new MutationObserver(function (mutations, observer) {{\n",
              "        var display = window.getComputedStyle(gd).display;\n",
              "        if (!display || display === 'none') {{\n",
              "            console.log([gd, 'removed!']);\n",
              "            Plotly.purge(gd);\n",
              "            observer.disconnect();\n",
              "        }}\n",
              "}});\n",
              "\n",
              "// Listen for the removal of the full notebook cells\n",
              "var notebookContainer = gd.closest('#notebook-container');\n",
              "if (notebookContainer) {{\n",
              "    x.observe(notebookContainer, {childList: true});\n",
              "}}\n",
              "\n",
              "// Listen for the clearing of the current output cell\n",
              "var outputEl = gd.closest('.output');\n",
              "if (outputEl) {{\n",
              "    x.observe(outputEl, {childList: true});\n",
              "}}\n",
              "\n",
              "                        })\n",
              "                };\n",
              "                \n",
              "            </script>\n",
              "        </div>\n",
              "</body>\n",
              "</html>"
            ]
          },
          "metadata": {}
        }
      ]
    },
    {
      "cell_type": "markdown",
      "metadata": {
        "id": "HcxWXuHPqe-d"
      },
      "source": [
        "FER"
      ]
    },
    {
      "cell_type": "code",
      "metadata": {
        "id": "YrrphCZSqeZX"
      },
      "source": [
        "# Abrindo base para graficos 3d com base nos coeficientes\n",
        "cubo_off = pd.read_csv('/content/drive/Shareddrives/MO PROYECTOS CONSULTORIA/GUA UN 167 - 2020.12.PPF.PEP.GUA/2. Ejecucion/4. Piloto/Arquivo Vendas/Analises/3D_perc_off.csv', encoding='cp1252')"
      ],
      "execution_count": null,
      "outputs": []
    },
    {
      "cell_type": "code",
      "metadata": {
        "colab": {
          "base_uri": "https://localhost:8080/",
          "height": 542
        },
        "id": "kwUYOL6FqyEJ",
        "outputId": "d868889c-bb5d-4d91-a7d7-2d7fb5b52341"
      },
      "source": [
        "#df = px.data.cubo\n",
        "fig_off = px.scatter_3d(cubo_off, x='Alavancas', y='TTC', z='PPs', size='Vol Uplift', color='Vol Uplift', size_max=70)\n",
        "fig_off.show()"
      ],
      "execution_count": null,
      "outputs": [
        {
          "output_type": "display_data",
          "data": {
            "text/html": [
              "<html>\n",
              "<head><meta charset=\"utf-8\" /></head>\n",
              "<body>\n",
              "    <div>\n",
              "            <script src=\"https://cdnjs.cloudflare.com/ajax/libs/mathjax/2.7.5/MathJax.js?config=TeX-AMS-MML_SVG\"></script><script type=\"text/javascript\">if (window.MathJax) {MathJax.Hub.Config({SVG: {font: \"STIX-Web\"}});}</script>\n",
              "                <script type=\"text/javascript\">window.PlotlyConfig = {MathJaxConfig: 'local'};</script>\n",
              "        <script src=\"https://cdn.plot.ly/plotly-latest.min.js\"></script>    \n",
              "            <div id=\"09535073-b2c4-4fbf-b5cb-01d94dfb8876\" class=\"plotly-graph-div\" style=\"height:525px; width:100%;\"></div>\n",
              "            <script type=\"text/javascript\">\n",
              "                \n",
              "                    window.PLOTLYENV=window.PLOTLYENV || {};\n",
              "                    \n",
              "                if (document.getElementById(\"09535073-b2c4-4fbf-b5cb-01d94dfb8876\")) {\n",
              "                    Plotly.newPlot(\n",
              "                        '09535073-b2c4-4fbf-b5cb-01d94dfb8876',\n",
              "                        [{\"hoverlabel\": {\"namelength\": 0}, \"hovertemplate\": \"Alavancas=%{x}<br>TTC=%{y}<br>PPs=%{z}<br>Vol Uplift=%{marker.color}\", \"legendgroup\": \"\", \"marker\": {\"color\": [0.00533656, 0.005244088, 0.003460284, 0.0052624740000000005, 0.005170002, 0.003386197, 0.403570521, 0.41281772899999997, 0.5911982020000001, 0.410979176, 0.420226385, 0.598606857], \"coloraxis\": \"coloraxis\", \"size\": [0.00533656, 0.005244088, 0.003460284, 0.0052624740000000005, 0.005170002, 0.003386197, 0.403570521, 0.41281772899999997, 0.5911982020000001, 0.410979176, 0.420226385, 0.598606857], \"sizemode\": \"area\", \"sizeref\": 0.00012216466469387757, \"symbol\": \"circle\"}, \"mode\": \"markers\", \"name\": \"\", \"scene\": \"scene\", \"showlegend\": false, \"type\": \"scatter3d\", \"x\": [\"Interior\", \"Exterior\", \"Visa Lanch\", \"Interior\", \"Exterior\", \"Visa Lanch\", \"Interior\", \"Exterior\", \"Visa Lanch\", \"Interior\", \"Exterior\", \"Visa Lanch\"], \"y\": [\"OK\", \"OK\", \"OK\", \"NOK\", \"NOK\", \"NOK\", \"OK\", \"OK\", \"OK\", \"NOK\", \"NOK\", \"NOK\"], \"z\": [\" -3 a -1 PPs\", \" -3 a -1 PPs\", \" -3 a -1 PPs\", \" -3 a -1 PPs\", \" -3 a -1 PPs\", \" -3 a -1 PPs\", \"1 a 4 PPs\", \"1 a 4 PPs\", \"1 a 4 PPs\", \"1 a 4 PPs\", \"1 a 4 PPs\", \"1 a 4 PPs\"]}],\n",
              "                        {\"coloraxis\": {\"colorbar\": {\"title\": {\"text\": \"Vol Uplift\"}}, \"colorscale\": [[0.0, \"#0d0887\"], [0.1111111111111111, \"#46039f\"], [0.2222222222222222, \"#7201a8\"], [0.3333333333333333, \"#9c179e\"], [0.4444444444444444, \"#bd3786\"], [0.5555555555555556, \"#d8576b\"], [0.6666666666666666, \"#ed7953\"], [0.7777777777777778, \"#fb9f3a\"], [0.8888888888888888, \"#fdca26\"], [1.0, \"#f0f921\"]]}, \"legend\": {\"itemsizing\": \"constant\", \"tracegroupgap\": 0}, \"margin\": {\"t\": 60}, \"scene\": {\"domain\": {\"x\": [0.0, 1.0], \"y\": [0.0, 1.0]}, \"xaxis\": {\"title\": {\"text\": \"Alavancas\"}}, \"yaxis\": {\"title\": {\"text\": \"TTC\"}}, \"zaxis\": {\"title\": {\"text\": \"PPs\"}}}, \"template\": {\"data\": {\"bar\": [{\"error_x\": {\"color\": \"#2a3f5f\"}, \"error_y\": {\"color\": \"#2a3f5f\"}, \"marker\": {\"line\": {\"color\": \"#E5ECF6\", \"width\": 0.5}}, \"type\": \"bar\"}], \"barpolar\": [{\"marker\": {\"line\": {\"color\": \"#E5ECF6\", \"width\": 0.5}}, \"type\": \"barpolar\"}], \"carpet\": [{\"aaxis\": {\"endlinecolor\": \"#2a3f5f\", \"gridcolor\": \"white\", \"linecolor\": \"white\", \"minorgridcolor\": \"white\", \"startlinecolor\": \"#2a3f5f\"}, \"baxis\": {\"endlinecolor\": \"#2a3f5f\", \"gridcolor\": \"white\", \"linecolor\": \"white\", \"minorgridcolor\": \"white\", \"startlinecolor\": \"#2a3f5f\"}, \"type\": \"carpet\"}], \"choropleth\": [{\"colorbar\": {\"outlinewidth\": 0, \"ticks\": \"\"}, \"type\": \"choropleth\"}], \"contour\": [{\"colorbar\": {\"outlinewidth\": 0, \"ticks\": \"\"}, \"colorscale\": [[0.0, \"#0d0887\"], [0.1111111111111111, \"#46039f\"], [0.2222222222222222, \"#7201a8\"], [0.3333333333333333, \"#9c179e\"], [0.4444444444444444, \"#bd3786\"], [0.5555555555555556, \"#d8576b\"], [0.6666666666666666, \"#ed7953\"], [0.7777777777777778, \"#fb9f3a\"], [0.8888888888888888, \"#fdca26\"], [1.0, \"#f0f921\"]], \"type\": \"contour\"}], \"contourcarpet\": [{\"colorbar\": {\"outlinewidth\": 0, \"ticks\": \"\"}, \"type\": \"contourcarpet\"}], \"heatmap\": [{\"colorbar\": {\"outlinewidth\": 0, \"ticks\": \"\"}, \"colorscale\": [[0.0, \"#0d0887\"], [0.1111111111111111, \"#46039f\"], [0.2222222222222222, \"#7201a8\"], [0.3333333333333333, \"#9c179e\"], [0.4444444444444444, \"#bd3786\"], [0.5555555555555556, \"#d8576b\"], [0.6666666666666666, \"#ed7953\"], [0.7777777777777778, \"#fb9f3a\"], [0.8888888888888888, \"#fdca26\"], [1.0, \"#f0f921\"]], \"type\": \"heatmap\"}], \"heatmapgl\": [{\"colorbar\": {\"outlinewidth\": 0, \"ticks\": \"\"}, \"colorscale\": [[0.0, \"#0d0887\"], [0.1111111111111111, \"#46039f\"], [0.2222222222222222, \"#7201a8\"], [0.3333333333333333, \"#9c179e\"], [0.4444444444444444, \"#bd3786\"], [0.5555555555555556, \"#d8576b\"], [0.6666666666666666, \"#ed7953\"], [0.7777777777777778, \"#fb9f3a\"], [0.8888888888888888, \"#fdca26\"], [1.0, \"#f0f921\"]], \"type\": \"heatmapgl\"}], \"histogram\": [{\"marker\": {\"colorbar\": {\"outlinewidth\": 0, \"ticks\": \"\"}}, \"type\": \"histogram\"}], \"histogram2d\": [{\"colorbar\": {\"outlinewidth\": 0, \"ticks\": \"\"}, \"colorscale\": [[0.0, \"#0d0887\"], [0.1111111111111111, \"#46039f\"], [0.2222222222222222, \"#7201a8\"], [0.3333333333333333, \"#9c179e\"], [0.4444444444444444, \"#bd3786\"], [0.5555555555555556, \"#d8576b\"], [0.6666666666666666, \"#ed7953\"], [0.7777777777777778, \"#fb9f3a\"], [0.8888888888888888, \"#fdca26\"], [1.0, \"#f0f921\"]], \"type\": \"histogram2d\"}], \"histogram2dcontour\": [{\"colorbar\": {\"outlinewidth\": 0, \"ticks\": \"\"}, \"colorscale\": [[0.0, \"#0d0887\"], [0.1111111111111111, \"#46039f\"], [0.2222222222222222, \"#7201a8\"], [0.3333333333333333, \"#9c179e\"], [0.4444444444444444, \"#bd3786\"], [0.5555555555555556, \"#d8576b\"], [0.6666666666666666, \"#ed7953\"], [0.7777777777777778, \"#fb9f3a\"], [0.8888888888888888, \"#fdca26\"], [1.0, \"#f0f921\"]], \"type\": \"histogram2dcontour\"}], \"mesh3d\": [{\"colorbar\": {\"outlinewidth\": 0, \"ticks\": \"\"}, \"type\": \"mesh3d\"}], \"parcoords\": [{\"line\": {\"colorbar\": {\"outlinewidth\": 0, \"ticks\": \"\"}}, \"type\": \"parcoords\"}], \"pie\": [{\"automargin\": true, \"type\": \"pie\"}], \"scatter\": [{\"marker\": {\"colorbar\": {\"outlinewidth\": 0, \"ticks\": \"\"}}, \"type\": \"scatter\"}], \"scatter3d\": [{\"line\": {\"colorbar\": {\"outlinewidth\": 0, \"ticks\": \"\"}}, \"marker\": {\"colorbar\": {\"outlinewidth\": 0, \"ticks\": \"\"}}, \"type\": \"scatter3d\"}], \"scattercarpet\": [{\"marker\": {\"colorbar\": {\"outlinewidth\": 0, \"ticks\": \"\"}}, \"type\": \"scattercarpet\"}], \"scattergeo\": [{\"marker\": {\"colorbar\": {\"outlinewidth\": 0, \"ticks\": \"\"}}, \"type\": \"scattergeo\"}], \"scattergl\": [{\"marker\": {\"colorbar\": {\"outlinewidth\": 0, \"ticks\": \"\"}}, \"type\": \"scattergl\"}], \"scattermapbox\": [{\"marker\": {\"colorbar\": {\"outlinewidth\": 0, \"ticks\": \"\"}}, \"type\": \"scattermapbox\"}], \"scatterpolar\": [{\"marker\": {\"colorbar\": {\"outlinewidth\": 0, \"ticks\": \"\"}}, \"type\": \"scatterpolar\"}], \"scatterpolargl\": [{\"marker\": {\"colorbar\": {\"outlinewidth\": 0, \"ticks\": \"\"}}, \"type\": \"scatterpolargl\"}], \"scatterternary\": [{\"marker\": {\"colorbar\": {\"outlinewidth\": 0, \"ticks\": \"\"}}, \"type\": \"scatterternary\"}], \"surface\": [{\"colorbar\": {\"outlinewidth\": 0, \"ticks\": \"\"}, \"colorscale\": [[0.0, \"#0d0887\"], [0.1111111111111111, \"#46039f\"], [0.2222222222222222, \"#7201a8\"], [0.3333333333333333, \"#9c179e\"], [0.4444444444444444, \"#bd3786\"], [0.5555555555555556, \"#d8576b\"], [0.6666666666666666, \"#ed7953\"], [0.7777777777777778, \"#fb9f3a\"], [0.8888888888888888, \"#fdca26\"], [1.0, \"#f0f921\"]], \"type\": \"surface\"}], \"table\": [{\"cells\": {\"fill\": {\"color\": \"#EBF0F8\"}, \"line\": {\"color\": \"white\"}}, \"header\": {\"fill\": {\"color\": \"#C8D4E3\"}, \"line\": {\"color\": \"white\"}}, \"type\": \"table\"}]}, \"layout\": {\"annotationdefaults\": {\"arrowcolor\": \"#2a3f5f\", \"arrowhead\": 0, \"arrowwidth\": 1}, \"coloraxis\": {\"colorbar\": {\"outlinewidth\": 0, \"ticks\": \"\"}}, \"colorscale\": {\"diverging\": [[0, \"#8e0152\"], [0.1, \"#c51b7d\"], [0.2, \"#de77ae\"], [0.3, \"#f1b6da\"], [0.4, \"#fde0ef\"], [0.5, \"#f7f7f7\"], [0.6, \"#e6f5d0\"], [0.7, \"#b8e186\"], [0.8, \"#7fbc41\"], [0.9, \"#4d9221\"], [1, \"#276419\"]], \"sequential\": [[0.0, \"#0d0887\"], [0.1111111111111111, \"#46039f\"], [0.2222222222222222, \"#7201a8\"], [0.3333333333333333, \"#9c179e\"], [0.4444444444444444, \"#bd3786\"], [0.5555555555555556, \"#d8576b\"], [0.6666666666666666, \"#ed7953\"], [0.7777777777777778, \"#fb9f3a\"], [0.8888888888888888, \"#fdca26\"], [1.0, \"#f0f921\"]], \"sequentialminus\": [[0.0, \"#0d0887\"], [0.1111111111111111, \"#46039f\"], [0.2222222222222222, \"#7201a8\"], [0.3333333333333333, \"#9c179e\"], [0.4444444444444444, \"#bd3786\"], [0.5555555555555556, \"#d8576b\"], [0.6666666666666666, \"#ed7953\"], [0.7777777777777778, \"#fb9f3a\"], [0.8888888888888888, \"#fdca26\"], [1.0, \"#f0f921\"]]}, \"colorway\": [\"#636efa\", \"#EF553B\", \"#00cc96\", \"#ab63fa\", \"#FFA15A\", \"#19d3f3\", \"#FF6692\", \"#B6E880\", \"#FF97FF\", \"#FECB52\"], \"font\": {\"color\": \"#2a3f5f\"}, \"geo\": {\"bgcolor\": \"white\", \"lakecolor\": \"white\", \"landcolor\": \"#E5ECF6\", \"showlakes\": true, \"showland\": true, \"subunitcolor\": \"white\"}, \"hoverlabel\": {\"align\": \"left\"}, \"hovermode\": \"closest\", \"mapbox\": {\"style\": \"light\"}, \"paper_bgcolor\": \"white\", \"plot_bgcolor\": \"#E5ECF6\", \"polar\": {\"angularaxis\": {\"gridcolor\": \"white\", \"linecolor\": \"white\", \"ticks\": \"\"}, \"bgcolor\": \"#E5ECF6\", \"radialaxis\": {\"gridcolor\": \"white\", \"linecolor\": \"white\", \"ticks\": \"\"}}, \"scene\": {\"xaxis\": {\"backgroundcolor\": \"#E5ECF6\", \"gridcolor\": \"white\", \"gridwidth\": 2, \"linecolor\": \"white\", \"showbackground\": true, \"ticks\": \"\", \"zerolinecolor\": \"white\"}, \"yaxis\": {\"backgroundcolor\": \"#E5ECF6\", \"gridcolor\": \"white\", \"gridwidth\": 2, \"linecolor\": \"white\", \"showbackground\": true, \"ticks\": \"\", \"zerolinecolor\": \"white\"}, \"zaxis\": {\"backgroundcolor\": \"#E5ECF6\", \"gridcolor\": \"white\", \"gridwidth\": 2, \"linecolor\": \"white\", \"showbackground\": true, \"ticks\": \"\", \"zerolinecolor\": \"white\"}}, \"shapedefaults\": {\"line\": {\"color\": \"#2a3f5f\"}}, \"ternary\": {\"aaxis\": {\"gridcolor\": \"white\", \"linecolor\": \"white\", \"ticks\": \"\"}, \"baxis\": {\"gridcolor\": \"white\", \"linecolor\": \"white\", \"ticks\": \"\"}, \"bgcolor\": \"#E5ECF6\", \"caxis\": {\"gridcolor\": \"white\", \"linecolor\": \"white\", \"ticks\": \"\"}}, \"title\": {\"x\": 0.05}, \"xaxis\": {\"automargin\": true, \"gridcolor\": \"white\", \"linecolor\": \"white\", \"ticks\": \"\", \"title\": {\"standoff\": 15}, \"zerolinecolor\": \"white\", \"zerolinewidth\": 2}, \"yaxis\": {\"automargin\": true, \"gridcolor\": \"white\", \"linecolor\": \"white\", \"ticks\": \"\", \"title\": {\"standoff\": 15}, \"zerolinecolor\": \"white\", \"zerolinewidth\": 2}}}},\n",
              "                        {\"responsive\": true}\n",
              "                    ).then(function(){\n",
              "                            \n",
              "var gd = document.getElementById('09535073-b2c4-4fbf-b5cb-01d94dfb8876');\n",
              "var x = new MutationObserver(function (mutations, observer) {{\n",
              "        var display = window.getComputedStyle(gd).display;\n",
              "        if (!display || display === 'none') {{\n",
              "            console.log([gd, 'removed!']);\n",
              "            Plotly.purge(gd);\n",
              "            observer.disconnect();\n",
              "        }}\n",
              "}});\n",
              "\n",
              "// Listen for the removal of the full notebook cells\n",
              "var notebookContainer = gd.closest('#notebook-container');\n",
              "if (notebookContainer) {{\n",
              "    x.observe(notebookContainer, {childList: true});\n",
              "}}\n",
              "\n",
              "// Listen for the clearing of the current output cell\n",
              "var outputEl = gd.closest('.output');\n",
              "if (outputEl) {{\n",
              "    x.observe(outputEl, {childList: true});\n",
              "}}\n",
              "\n",
              "                        })\n",
              "                };\n",
              "                \n",
              "            </script>\n",
              "        </div>\n",
              "</body>\n",
              "</html>"
            ]
          },
          "metadata": {}
        }
      ]
    },
    {
      "cell_type": "markdown",
      "metadata": {
        "id": "EA3r8iOYJif1"
      },
      "source": [
        "# Sazonalidade"
      ]
    },
    {
      "cell_type": "code",
      "metadata": {
        "id": "JLw8LEGxJm-U"
      },
      "source": [
        "ts = pd.read_csv('/content/drive/Shareddrives/MO PROYECTOS CONSULTORIA/GUA UN 167 - 2020.12.PPF.PEP.GUA/2. Ejecucion/4. Piloto/Arquivo Vendas/Analises/Sales_hist.csv', encoding='cp1252')"
      ],
      "execution_count": null,
      "outputs": []
    },
    {
      "cell_type": "code",
      "metadata": {
        "colab": {
          "base_uri": "https://localhost:8080/",
          "height": 206
        },
        "id": "SjaDNjF2LjpC",
        "outputId": "4eea09ca-10ce-4330-d057-d7bcda4da746"
      },
      "source": [
        "ts.head()"
      ],
      "execution_count": null,
      "outputs": [
        {
          "output_type": "execute_result",
          "data": {
            "text/html": [
              "<div>\n",
              "<style scoped>\n",
              "    .dataframe tbody tr th:only-of-type {\n",
              "        vertical-align: middle;\n",
              "    }\n",
              "\n",
              "    .dataframe tbody tr th {\n",
              "        vertical-align: top;\n",
              "    }\n",
              "\n",
              "    .dataframe thead th {\n",
              "        text-align: right;\n",
              "    }\n",
              "</style>\n",
              "<table border=\"1\" class=\"dataframe\">\n",
              "  <thead>\n",
              "    <tr style=\"text-align: right;\">\n",
              "      <th></th>\n",
              "      <th>Data</th>\n",
              "      <th>Sales_hist</th>\n",
              "    </tr>\n",
              "  </thead>\n",
              "  <tbody>\n",
              "    <tr>\n",
              "      <th>0</th>\n",
              "      <td>2019-1</td>\n",
              "      <td>1.398396</td>\n",
              "    </tr>\n",
              "    <tr>\n",
              "      <th>1</th>\n",
              "      <td>2019-2</td>\n",
              "      <td>1.338236</td>\n",
              "    </tr>\n",
              "    <tr>\n",
              "      <th>2</th>\n",
              "      <td>2019-3</td>\n",
              "      <td>1.609377</td>\n",
              "    </tr>\n",
              "    <tr>\n",
              "      <th>3</th>\n",
              "      <td>2019-4</td>\n",
              "      <td>1.711382</td>\n",
              "    </tr>\n",
              "    <tr>\n",
              "      <th>4</th>\n",
              "      <td>2019-5</td>\n",
              "      <td>1.799747</td>\n",
              "    </tr>\n",
              "  </tbody>\n",
              "</table>\n",
              "</div>"
            ],
            "text/plain": [
              "     Data  Sales_hist\n",
              "0  2019-1    1.398396\n",
              "1  2019-2    1.338236\n",
              "2  2019-3    1.609377\n",
              "3  2019-4    1.711382\n",
              "4  2019-5    1.799747"
            ]
          },
          "metadata": {},
          "execution_count": 166
        }
      ]
    },
    {
      "cell_type": "code",
      "metadata": {
        "id": "s7vru9HQLmLU"
      },
      "source": [
        "ts['dt'] = pd.to_datetime(ts['Data'])\n",
        "ts = ts.set_index('dt')\n",
        "\n",
        "ts.drop('Data', axis=1, inplace=True)\n",
        "\n",
        "ts.columns = ['close']"
      ],
      "execution_count": null,
      "outputs": []
    },
    {
      "cell_type": "code",
      "metadata": {
        "id": "oFy7gDhNMLBF"
      },
      "source": [
        "ts.sort_index(inplace=True)"
      ],
      "execution_count": null,
      "outputs": []
    },
    {
      "cell_type": "code",
      "metadata": {
        "colab": {
          "base_uri": "https://localhost:8080/",
          "height": 238
        },
        "id": "wyxH-VRkL7Re",
        "outputId": "addf11d4-9389-4610-838e-ba779e944a13"
      },
      "source": [
        "ts.head()"
      ],
      "execution_count": null,
      "outputs": [
        {
          "output_type": "execute_result",
          "data": {
            "text/html": [
              "<div>\n",
              "<style scoped>\n",
              "    .dataframe tbody tr th:only-of-type {\n",
              "        vertical-align: middle;\n",
              "    }\n",
              "\n",
              "    .dataframe tbody tr th {\n",
              "        vertical-align: top;\n",
              "    }\n",
              "\n",
              "    .dataframe thead th {\n",
              "        text-align: right;\n",
              "    }\n",
              "</style>\n",
              "<table border=\"1\" class=\"dataframe\">\n",
              "  <thead>\n",
              "    <tr style=\"text-align: right;\">\n",
              "      <th></th>\n",
              "      <th>close</th>\n",
              "    </tr>\n",
              "    <tr>\n",
              "      <th>dt</th>\n",
              "      <th></th>\n",
              "    </tr>\n",
              "  </thead>\n",
              "  <tbody>\n",
              "    <tr>\n",
              "      <th>2019-01-01</th>\n",
              "      <td>1.398396</td>\n",
              "    </tr>\n",
              "    <tr>\n",
              "      <th>2019-02-01</th>\n",
              "      <td>1.338236</td>\n",
              "    </tr>\n",
              "    <tr>\n",
              "      <th>2019-03-01</th>\n",
              "      <td>1.609377</td>\n",
              "    </tr>\n",
              "    <tr>\n",
              "      <th>2019-04-01</th>\n",
              "      <td>1.711382</td>\n",
              "    </tr>\n",
              "    <tr>\n",
              "      <th>2019-05-01</th>\n",
              "      <td>1.799747</td>\n",
              "    </tr>\n",
              "  </tbody>\n",
              "</table>\n",
              "</div>"
            ],
            "text/plain": [
              "               close\n",
              "dt                  \n",
              "2019-01-01  1.398396\n",
              "2019-02-01  1.338236\n",
              "2019-03-01  1.609377\n",
              "2019-04-01  1.711382\n",
              "2019-05-01  1.799747"
            ]
          },
          "metadata": {},
          "execution_count": 169
        }
      ]
    },
    {
      "cell_type": "code",
      "metadata": {
        "colab": {
          "base_uri": "https://localhost:8080/",
          "height": 361
        },
        "id": "dAMPdU5sKsPc",
        "outputId": "896bac7b-51ed-437e-ff93-d698d24e88f7"
      },
      "source": [
        "plt.figure(figsize=(18, 6))\n",
        "plt.plot(ts)\n",
        "\n",
        "plt.title('Vendas Nab CDD Base 96')\n",
        "plt.ylabel('Volume (hL)')\n",
        "plt.xlabel('Tempo');"
      ],
      "execution_count": null,
      "outputs": [
        {
          "output_type": "display_data",
          "data": {
            "image/png": "[encoded data removed]",
            "text/plain": [
              "<Figure size 1296x432 with 1 Axes>"
            ]
          },
          "metadata": {
            "needs_background": "light"
          }
        }
      ]
    },
    {
      "cell_type": "code",
      "metadata": {
        "id": "U8LYDO7iM6fT"
      },
      "source": [
        "from statsmodels.tsa.seasonal import seasonal_decompose"
      ],
      "execution_count": null,
      "outputs": []
    },
    {
      "cell_type": "code",
      "metadata": {
        "colab": {
          "base_uri": "https://localhost:8080/",
          "height": 611
        },
        "id": "XW7NQKWhMmsZ",
        "outputId": "86fdf770-2901-4f08-ec09-cf6ec8eb392d"
      },
      "source": [
        "decomposition = seasonal_decompose(ts, freq=12)\n",
        "\n",
        "fig, ax = plt.subplots(4, 1, figsize=(16, 10))\n",
        "decomposition.observed.plot(ax=ax[0]); ax[0].set_ylabel('observed')\n",
        "decomposition.trend.plot(ax=ax[1]); ax[1].set_ylabel('trend')\n",
        "decomposition.seasonal.plot(ax=ax[2]); ax[2].set_ylabel('seasonal')\n",
        "decomposition.resid.plot(ax=ax[3]); ax[3].set_ylabel('resid');"
      ],
      "execution_count": null,
      "outputs": [
        {
          "output_type": "display_data",
          "data": {
            "image/png": "[encoded data removed]",
            "text/plain": [
              "<Figure size 1152x720 with 4 Axes>"
            ]
          },
          "metadata": {
            "needs_background": "light"
          }
        }
      ]
    },
    {
      "cell_type": "code",
      "metadata": {
        "colab": {
          "base_uri": "https://localhost:8080/",
          "height": 238
        },
        "id": "Dy6fbVm7QeTB",
        "outputId": "118eb81b-a93b-4739-fa8a-e9c9b2b72689"
      },
      "source": [
        "decomposition.seasonal.tail()\n"
      ],
      "execution_count": null,
      "outputs": [
        {
          "output_type": "execute_result",
          "data": {
            "text/html": [
              "<div>\n",
              "<style scoped>\n",
              "    .dataframe tbody tr th:only-of-type {\n",
              "        vertical-align: middle;\n",
              "    }\n",
              "\n",
              "    .dataframe tbody tr th {\n",
              "        vertical-align: top;\n",
              "    }\n",
              "\n",
              "    .dataframe thead th {\n",
              "        text-align: right;\n",
              "    }\n",
              "</style>\n",
              "<table border=\"1\" class=\"dataframe\">\n",
              "  <thead>\n",
              "    <tr style=\"text-align: right;\">\n",
              "      <th></th>\n",
              "      <th>close</th>\n",
              "    </tr>\n",
              "    <tr>\n",
              "      <th>dt</th>\n",
              "      <th></th>\n",
              "    </tr>\n",
              "  </thead>\n",
              "  <tbody>\n",
              "    <tr>\n",
              "      <th>2021-02-01</th>\n",
              "      <td>-0.140491</td>\n",
              "    </tr>\n",
              "    <tr>\n",
              "      <th>2021-03-01</th>\n",
              "      <td>-0.026369</td>\n",
              "    </tr>\n",
              "    <tr>\n",
              "      <th>2021-04-01</th>\n",
              "      <td>-0.245743</td>\n",
              "    </tr>\n",
              "    <tr>\n",
              "      <th>2021-05-01</th>\n",
              "      <td>-0.279906</td>\n",
              "    </tr>\n",
              "    <tr>\n",
              "      <th>2021-06-01</th>\n",
              "      <td>-0.358200</td>\n",
              "    </tr>\n",
              "  </tbody>\n",
              "</table>\n",
              "</div>"
            ],
            "text/plain": [
              "               close\n",
              "dt                  \n",
              "2021-02-01 -0.140491\n",
              "2021-03-01 -0.026369\n",
              "2021-04-01 -0.245743\n",
              "2021-05-01 -0.279906\n",
              "2021-06-01 -0.358200"
            ]
          },
          "metadata": {},
          "execution_count": 173
        }
      ]
    }
  ]
}